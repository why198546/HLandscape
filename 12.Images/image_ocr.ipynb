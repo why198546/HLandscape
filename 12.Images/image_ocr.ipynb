{
 "cells": [
  {
   "cell_type": "code",
   "execution_count": 2,
   "metadata": {},
   "outputs": [],
   "source": [
    "from PIL import Image\n",
    "import pytesseract"
   ]
  },
  {
   "cell_type": "code",
   "execution_count": 7,
   "metadata": {},
   "outputs": [
    {
     "name": "stdout",
     "output_type": "stream",
     "text": [
      "才万色光  大名\n",
      "\n",
      "南厦社区_ 号妈记区消腺人\n",
      "2\n",
      "\n",
      "西红柿         2.5      元/斤\n",
      "小白菜        2.5     元/斤\n",
      "上海青         2.6      元/斤\n",
      "干平莫         6.5      元/斤\n",
      "肥肠椒          5有圳|局元帮\n",
      "东北师傅大米      140      元/八\n",
      "75      元/柄\n",
      "125      元/伐\n",
      "135  攻 元/伏\n",
      "240      元/袋\n",
      "125      元/伐\n",
      "84    |古 元/栖\n",
      "3.8      元/斤\n",
      "43      元/斤\n",
      "\n",
      "19    配\n",
      "\n",
      "\n"
     ]
    }
   ],
   "source": [
    "image = Image.open('D:\\Pictures\\微信图片_20220817132714.jpg')\n",
    "text = pytesseract.image_to_string(image,lang='chi_sim')\n",
    "print(text)"
   ]
  },
  {
   "cell_type": "code",
   "execution_count": 9,
   "metadata": {},
   "outputs": [],
   "source": [
    "import os\n",
    "from PIL import Image\n",
    "import pytesseract\n",
    "\n",
    "def recognize_text_in_folder(folder_path):\n",
    "    # initialize an empty string to store the recognized text from all images\n",
    "    all_text = ''\n",
    "\n",
    "    # loop through all files in the folder\n",
    "    for filename in os.listdir(folder_path):\n",
    "        # check if the file is an image file\n",
    "        if filename.endswith('.jpg') or filename.endswith('.png'):\n",
    "            # open the image file\n",
    "            image_path = os.path.join(folder_path, filename)\n",
    "            image = Image.open(image_path)\n",
    "\n",
    "            # recognize the text in the image\n",
    "            text = pytesseract.image_to_string(image, lang='chi_sim')\n",
    "\n",
    "            # append the recognized text to the all_text string\n",
    "            all_text += text + '\\n'\n",
    "\n",
    "            # create a new file with the same name as the image file, but with .txt extension\n",
    "            text_path = os.path.join(folder_path, os.path.splitext(filename)[0] + '.txt')\n",
    "\n",
    "            # write the recognized text to the text file\n",
    "            with open(text_path, 'w', encoding='utf-8') as f:\n",
    "                f.write(text)\n",
    "\n",
    "    # create a new file to store the merged text\n",
    "    merged_text_path = os.path.join(folder_path, 'merged_text.txt')\n",
    "\n",
    "    # write the merged text to the file\n",
    "    with open(merged_text_path, 'w', encoding='utf-8') as f:\n",
    "        f.write(all_text)\n",
    "\n",
    "if __name__ == '__main__':\n",
    "    # set the path of the folder containing the images\n",
    "    folder_path = r'W:\\城建院数据\\20220526 西藏项目\\09-其它文档\\外审'\n",
    "    recognize_text_in_folder(folder_path)\n"
   ]
  },
  {
   "cell_type": "code",
   "execution_count": null,
   "metadata": {},
   "outputs": [],
   "source": []
  }
 ],
 "metadata": {
  "kernelspec": {
   "display_name": ".venv",
   "language": "python",
   "name": "python3"
  },
  "language_info": {
   "codemirror_mode": {
    "name": "ipython",
    "version": 3
   },
   "file_extension": ".py",
   "mimetype": "text/x-python",
   "name": "python",
   "nbconvert_exporter": "python",
   "pygments_lexer": "ipython3",
   "version": "3.10.5"
  }
 },
 "nbformat": 4,
 "nbformat_minor": 2
}
