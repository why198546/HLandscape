{
 "cells": [
  {
   "cell_type": "code",
   "execution_count": 2,
   "metadata": {},
   "outputs": [],
   "source": [
    "from pywxdump import *"
   ]
  },
  {
   "cell_type": "code",
   "execution_count": 4,
   "metadata": {},
   "outputs": [
    {
     "ename": "ValueError",
     "evalue": "non-hexadecimal number found in fromhex() arg at position 0",
     "output_type": "error",
     "traceback": [
      "\u001b[1;31m---------------------------------------------------------------------------\u001b[0m",
      "\u001b[1;31mValueError\u001b[0m                                Traceback (most recent call last)",
      "\u001b[1;32md:\\HLandscape\\13.Others\\pywxDump.ipynb Cell 2\u001b[0m line \u001b[0;36m1\n\u001b[0;32m      <a href='vscode-notebook-cell:/d%3A/HLandscape/13.Others/pywxDump.ipynb#W1sZmlsZQ%3D%3D?line=3'>4</a>\u001b[0m \u001b[39m# ************************************************************************************************ #\u001b[39;00m\n\u001b[0;32m      <a href='vscode-notebook-cell:/d%3A/HLandscape/13.Others/pywxDump.ipynb#W1sZmlsZQ%3D%3D?line=4'>5</a>\u001b[0m \u001b[39m# 获取微信基址偏移\u001b[39;00m\n\u001b[0;32m      <a href='vscode-notebook-cell:/d%3A/HLandscape/13.Others/pywxDump.ipynb#W1sZmlsZQ%3D%3D?line=5'>6</a>\u001b[0m args \u001b[39m=\u001b[39m {\n\u001b[0;32m      <a href='vscode-notebook-cell:/d%3A/HLandscape/13.Others/pywxDump.ipynb#W1sZmlsZQ%3D%3D?line=6'>7</a>\u001b[0m     \u001b[39m\"\u001b[39m\u001b[39mmode\u001b[39m\u001b[39m\"\u001b[39m: \u001b[39m\"\u001b[39m\u001b[39mbias\u001b[39m\u001b[39m\"\u001b[39m,\n\u001b[0;32m      <a href='vscode-notebook-cell:/d%3A/HLandscape/13.Others/pywxDump.ipynb#W1sZmlsZQ%3D%3D?line=7'>8</a>\u001b[0m     \u001b[39m\"\u001b[39m\u001b[39mmobile\u001b[39m\u001b[39m\"\u001b[39m: \u001b[39m\"\u001b[39m\u001b[39m13800138000\u001b[39m\u001b[39m\"\u001b[39m,  \u001b[39m# 手机号\u001b[39;00m\n\u001b[1;32m   (...)\u001b[0m\n\u001b[0;32m     <a href='vscode-notebook-cell:/d%3A/HLandscape/13.Others/pywxDump.ipynb#W1sZmlsZQ%3D%3D?line=12'>13</a>\u001b[0m     \u001b[39m\"\u001b[39m\u001b[39mversion_list_path\u001b[39m\u001b[39m\"\u001b[39m: \u001b[39m\"\u001b[39m\u001b[39m微信版本偏移文件路径\u001b[39m\u001b[39m\"\u001b[39m  \u001b[39m# 微信版本偏移文件路径（可选）\u001b[39;00m\n\u001b[0;32m     <a href='vscode-notebook-cell:/d%3A/HLandscape/13.Others/pywxDump.ipynb#W1sZmlsZQ%3D%3D?line=13'>14</a>\u001b[0m }\n\u001b[1;32m---> <a href='vscode-notebook-cell:/d%3A/HLandscape/13.Others/pywxDump.ipynb#W1sZmlsZQ%3D%3D?line=14'>15</a>\u001b[0m bias_addr \u001b[39m=\u001b[39m BiasAddr(args[\u001b[39m\"\u001b[39;49m\u001b[39maccount\u001b[39;49m\u001b[39m\"\u001b[39;49m], args[\u001b[39m\"\u001b[39;49m\u001b[39mmobile\u001b[39;49m\u001b[39m\"\u001b[39;49m], args[\u001b[39m\"\u001b[39;49m\u001b[39mname\u001b[39;49m\u001b[39m\"\u001b[39;49m], args[\u001b[39m\"\u001b[39;49m\u001b[39mkey\u001b[39;49m\u001b[39m\"\u001b[39;49m], args[\u001b[39m\"\u001b[39;49m\u001b[39mdb_path\u001b[39;49m\u001b[39m\"\u001b[39;49m])\n\u001b[0;32m     <a href='vscode-notebook-cell:/d%3A/HLandscape/13.Others/pywxDump.ipynb#W1sZmlsZQ%3D%3D?line=15'>16</a>\u001b[0m result \u001b[39m=\u001b[39m bias_addr\u001b[39m.\u001b[39mrun(\u001b[39mTrue\u001b[39;00m, args[\u001b[39m\"\u001b[39m\u001b[39mversion_list_path\u001b[39m\u001b[39m\"\u001b[39m])\n",
      "File \u001b[1;32md:\\HLandscape\\.venv\\lib\\site-packages\\pywxdump\\wx_info\\get_bias_addr.py:101\u001b[0m, in \u001b[0;36mBiasAddr.__init__\u001b[1;34m(self, account, mobile, name, key, db_path)\u001b[0m\n\u001b[0;32m     99\u001b[0m \u001b[39mself\u001b[39m\u001b[39m.\u001b[39mmobile \u001b[39m=\u001b[39m mobile\u001b[39m.\u001b[39mencode(\u001b[39m\"\u001b[39m\u001b[39mutf-8\u001b[39m\u001b[39m\"\u001b[39m)\n\u001b[0;32m    100\u001b[0m \u001b[39mself\u001b[39m\u001b[39m.\u001b[39mname \u001b[39m=\u001b[39m name\u001b[39m.\u001b[39mencode(\u001b[39m\"\u001b[39m\u001b[39mutf-8\u001b[39m\u001b[39m\"\u001b[39m)\n\u001b[1;32m--> 101\u001b[0m \u001b[39mself\u001b[39m\u001b[39m.\u001b[39mkey \u001b[39m=\u001b[39m \u001b[39mbytes\u001b[39;49m\u001b[39m.\u001b[39;49mfromhex(key) \u001b[39mif\u001b[39;00m key \u001b[39melse\u001b[39;00m \u001b[39mb\u001b[39m\u001b[39m\"\u001b[39m\u001b[39m\"\u001b[39m\n\u001b[0;32m    102\u001b[0m \u001b[39mself\u001b[39m\u001b[39m.\u001b[39mdb_path \u001b[39m=\u001b[39m db_path \u001b[39mif\u001b[39;00m db_path \u001b[39mand\u001b[39;00m os\u001b[39m.\u001b[39mpath\u001b[39m.\u001b[39mexists(db_path) \u001b[39melse\u001b[39;00m \u001b[39m\"\u001b[39m\u001b[39m\"\u001b[39m\n\u001b[0;32m    104\u001b[0m \u001b[39mself\u001b[39m\u001b[39m.\u001b[39mprocess_name \u001b[39m=\u001b[39m \u001b[39m\"\u001b[39m\u001b[39mWeChat.exe\u001b[39m\u001b[39m\"\u001b[39m\n",
      "\u001b[1;31mValueError\u001b[0m: non-hexadecimal number found in fromhex() arg at position 0"
     ]
    }
   ],
   "source": [
    "# 获取微信基址偏移\n",
    "args = {\n",
    "    \"mode\": \"bias\",\n",
    "    \"mobile\": \"13800138000\",  # 手机号\n",
    "    \"name\": \"微信昵称\",  # 微信昵称\n",
    "    \"account\": \"微信账号\",  # 微信账号\n",
    "    \"key\": \"密钥\",  # 密钥（可选）\n",
    "    \"db_path\": \"已登录账号的微信文件夹路径\",  # 微信文件夹路径（可选）\n",
    "    \"version_list_path\": \"微信版本偏移文件路径\"  # 微信版本偏移文件路径（可选）\n",
    "}\n",
    "bias_addr = BiasAddr(args[\"account\"], args[\"mobile\"], args[\"name\"], args[\"key\"], args[\"db_path\"])\n",
    "result = bias_addr.run(True, args[\"version_list_path\"])\n"
   ]
  },
  {
   "cell_type": "code",
   "execution_count": null,
   "metadata": {},
   "outputs": [],
   "source": [
    "# ************************************************************************************************ #\n",
    "# 获取微信信息\n",
    "wx_info = read_info(VERSION_LIST, True)\n",
    "\n",
    "# 获取微信文件夹路径\n",
    "args = {\n",
    "    \"mode\": \"db_path\",\n",
    "    \"require_list\": \"all\",  # 需要的数据库名称（可选）\n",
    "    \"wx_files\": \"WeChat Files\",  # 'WeChat Files'路径（可选）\n",
    "    \"wxid\": \"wxid_\",  # wxid_，用于确认用户文件夹（可选）\n",
    "}\n",
    "user_dirs = get_wechat_db(args[\"require_list\"], args[\"wx_files\"], args[\"wxid\"], True)\n"
   ]
  },
  {
   "cell_type": "code",
   "execution_count": null,
   "metadata": {},
   "outputs": [],
   "source": [
    "# ************************************************************************************************ #\n",
    "# 解密微信数据库\n",
    "args = {\n",
    "    \"mode\": \"decrypt\",\n",
    "    \"key\": \"密钥\",  # 密钥\n",
    "    \"db_path\": \"数据库路径(目录or文件)\",  # 数据库路径\n",
    "    \"out_path\": \"/path/to/decrypted\"  # 输出路径（必须是目录）[默认为当前路径下decrypted文件夹]\n",
    "}\n",
    "result = batch_decrypt(args[\"key\"], args[\"db_path\"], args[\"out_path\"], True)\n"
   ]
  },
  {
   "cell_type": "code",
   "execution_count": null,
   "metadata": {},
   "outputs": [],
   "source": [
    "# ************************************************************************************************ #\n",
    "# 查看聊天记录\n",
    "args = {\n",
    "    \"mode\": \"dbshow\",\n",
    "    \"msg_path\": \"解密后的 MSG.db 的路径\",  # 解密后的 MSG.db 的路径\n",
    "    \"micro_path\": \"解密后的 MicroMsg.db 的路径\",  # 解密后的 MicroMsg.db 的路径\n",
    "    \"media_path\": \"解密后的 MediaMSG.db 的路径\",  # 解密后的 MediaMSG.db 的路径\n",
    "    \"filestorage_path\": \"文件夹FileStorage的路径\"  # 文件夹 FileStorage 的路径（用于显示图片）\n",
    "}\n",
    "from flask import Flask, request, jsonify, render_template, g\n",
    "import logging\n",
    "\n",
    "app = Flask(__name__, template_folder='./show_chat/templates')\n",
    "app.logger.setLevel(logging.ERROR)\n",
    "\n",
    "\n",
    "@app.before_request\n",
    "def before_request():\n",
    "    g.MSG_ALL_db_path = args[\"msg_path\"]\n",
    "    g.MicroMsg_db_path = args[\"micro_path\"]\n",
    "    g.MediaMSG_all_db_path = args[\"media_path\"]\n",
    "    g.FileStorage_path = args[\"filestorage_path\"]\n",
    "    g.USER_LIST = get_user_list(args[\"msg_path\"], args[\"micro_path\"])\n",
    "\n",
    "\n",
    "app.register_blueprint(app_show_chat)\n",
    "print(\"[+] 请使用浏览器访问 http://127.0.0.1:5000/ 查看聊天记录\")\n",
    "app.run(debug=False)\n"
   ]
  },
  {
   "cell_type": "code",
   "execution_count": null,
   "metadata": {},
   "outputs": [],
   "source": [
    "# ************************************************************************************************ #\n",
    "# 导出聊天记录为 HTML\n",
    "args = {\n",
    "    \"mode\": \"export\",\n",
    "    \"username\": \"微信账号\",  # 微信账号（聊天对象账号）\n",
    "    \"outpath\": \"/path/to/export\",  # 导出路径\n",
    "    \"msg_path\": \"解密后的 MSG.db 的路径\",  # 解密后的 MSG.db 的路径\n",
    "    \"micro_path\": \"解密后的 MicroMsg.db 的路径\",  # 解密后的 MicroMsg.db 的路径\n",
    "    \"media_path\": \"解密后的 MediaMSG.db 的路径\",  # 解密后的 MediaMSG.db 的路径\n",
    "    \"filestorage_path\": \"文件夹FileStorage的路径\"  # 文件夹 FileStorage 的路径（用于显示图片）\n",
    "}\n",
    "export(args[\"username\"], args[\"outpath\"], args[\"msg_path\"], args[\"micro_path\"], args[\"media_path\"],\n",
    "       args[\"filestorage_path\"])"
   ]
  },
  {
   "cell_type": "code",
   "execution_count": null,
   "metadata": {},
   "outputs": [],
   "source": []
  }
 ],
 "metadata": {
  "kernelspec": {
   "display_name": ".venv",
   "language": "python",
   "name": "python3"
  },
  "language_info": {
   "codemirror_mode": {
    "name": "ipython",
    "version": 3
   },
   "file_extension": ".py",
   "mimetype": "text/x-python",
   "name": "python",
   "nbconvert_exporter": "python",
   "pygments_lexer": "ipython3",
   "version": "3.10.5"
  }
 },
 "nbformat": 4,
 "nbformat_minor": 2
}
