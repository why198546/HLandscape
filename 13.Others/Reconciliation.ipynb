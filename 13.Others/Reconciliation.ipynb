{
 "cells": [
  {
   "cell_type": "code",
   "execution_count": 18,
   "metadata": {},
   "outputs": [
    {
     "name": "stdout",
     "output_type": "stream",
     "text": [
      "生成的随机数列表及其单位已复制到剪贴板。\n",
      "列表的总和： 3980\n"
     ]
    }
   ],
   "source": [
    "import random\n",
    "import pyperclip\n",
    "\n",
    "def generate_random_numbers(n, target_sum):\n",
    "    # 初始化列表，每个数值为230\n",
    "    numbers = [230] * n\n",
    "    current_sum = 230 * n\n",
    "\n",
    "    # 设置最大尝试次数，防止无限循环\n",
    "    max_attempts = 10000000\n",
    "    attempts = 0\n",
    "\n",
    "    # 调整直到当前总和等于目标总和或超过尝试次数\n",
    "    while current_sum != target_sum:\n",
    "        if attempts >= max_attempts:\n",
    "            print(\"已达到最大尝试次数，无法找到满足条件的列表。\")\n",
    "            return None  # 返回None表示失败\n",
    "        attempts += 1\n",
    "\n",
    "        # 随机选择一个索引进行调整\n",
    "        index = random.randint(0, n-1)\n",
    "\n",
    "        # 决定是增加还是减少\n",
    "        change = random.randint(-10, 10)\n",
    "        new_value = numbers[index] + change\n",
    "\n",
    "        # 确保新值在限定范围内\n",
    "        if 220 <= new_value <= 240:\n",
    "            # 更新列表和当前总和\n",
    "            current_sum += change\n",
    "            numbers[index] = new_value\n",
    "\n",
    "    return numbers\n",
    "\n",
    "# 示例使用\n",
    "n = 17\n",
    "target_sum = 3980\n",
    "result = generate_random_numbers(n, target_sum)\n",
    "if result:\n",
    "    # 将结果转换为逗号分隔的字符串，并复制到剪贴板\n",
    "    formatted_result = \"\\n\".join(f\"{num}, {num} 元\" for num in result)\n",
    "    pyperclip.copy(formatted_result)\n",
    "    print(\"生成的随机数列表及其单位已复制到剪贴板。\")\n",
    "    print(\"列表的总和：\", sum(result))\n",
    "else:\n",
    "    print(\"无法生成满足条件的随机数列表。\")\n"
   ]
  },
  {
   "cell_type": "code",
   "execution_count": null,
   "metadata": {},
   "outputs": [],
   "source": []
  }
 ],
 "metadata": {
  "kernelspec": {
   "display_name": ".venv",
   "language": "python",
   "name": "python3"
  },
  "language_info": {
   "codemirror_mode": {
    "name": "ipython",
    "version": 3
   },
   "file_extension": ".py",
   "mimetype": "text/x-python",
   "name": "python",
   "nbconvert_exporter": "python",
   "pygments_lexer": "ipython3",
   "version": "3.10.6"
  }
 },
 "nbformat": 4,
 "nbformat_minor": 2
}
