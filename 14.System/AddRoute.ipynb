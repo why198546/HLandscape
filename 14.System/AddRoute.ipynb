{
 "cells": [
  {
   "cell_type": "code",
   "execution_count": 1,
   "metadata": {},
   "outputs": [],
   "source": [
    "import socket\n",
    "import subprocess"
   ]
  },
  {
   "cell_type": "code",
   "execution_count": 2,
   "metadata": {},
   "outputs": [],
   "source": [
    "def add_route(domain, gateway, interface, metric):\n",
    "    try:\n",
    "        # 解析域名以获取IP地址\n",
    "        ip_addresses = socket.getaddrinfo(domain, None)\n",
    "        for ip_info in ip_addresses:\n",
    "            ip_address = ip_info[4][0]\n",
    "            # 为每个IP地址添加路由\n",
    "            command = f'route add {ip_address} mask 255.255.255.255 {gateway} metric {metric} if {interface}'\n",
    "            process = subprocess.run(command, shell=True, capture_output=True)\n",
    "            if process.returncode == 0:\n",
    "                print(f'Route added: {ip_address} -> {gateway} on interface {interface} with metric {metric}')\n",
    "            else:\n",
    "                # 解码stderr输出，假设它是使用系统默认编码\n",
    "                error_output = process.stderr.decode()\n",
    "                print(f'Failed to add route: {error_output}')\n",
    "    except Exception as e:\n",
    "        print(f'Error: {e}')\n"
   ]
  },
  {
   "cell_type": "code",
   "execution_count": 3,
   "metadata": {},
   "outputs": [
    {
     "name": "stdout",
     "output_type": "stream",
     "text": [
      "Failed to add route: \n"
     ]
    }
   ],
   "source": [
    "\n",
    "if __name__ == \"__main__\":\n",
    "    # 调用函数以为指定域名添加路由\n",
    "    add_route('www.hlylsj.com', '192.168.1.1', '12', metric=3)\n"
   ]
  },
  {
   "cell_type": "code",
   "execution_count": 11,
   "metadata": {},
   "outputs": [],
   "source": [
    "domain = 'www.hlylsj.com'"
   ]
  },
  {
   "cell_type": "code",
   "execution_count": 12,
   "metadata": {},
   "outputs": [
    {
     "data": {
      "text/plain": [
       "[(<AddressFamily.AF_INET: 2>, 0, 0, '', ('47.95.214.47', 0))]"
      ]
     },
     "execution_count": 12,
     "metadata": {},
     "output_type": "execute_result"
    }
   ],
   "source": [
    "socket.getaddrinfo(domain, None)"
   ]
  },
  {
   "cell_type": "code",
   "execution_count": null,
   "metadata": {},
   "outputs": [],
   "source": []
  }
 ],
 "metadata": {
  "kernelspec": {
   "display_name": "OD",
   "language": "python",
   "name": "python3"
  },
  "language_info": {
   "codemirror_mode": {
    "name": "ipython",
    "version": 3
   },
   "file_extension": ".py",
   "mimetype": "text/x-python",
   "name": "python",
   "nbconvert_exporter": "python",
   "pygments_lexer": "ipython3",
   "version": "3.10.5"
  }
 },
 "nbformat": 4,
 "nbformat_minor": 2
}
