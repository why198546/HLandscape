{
 "cells": [
  {
   "cell_type": "code",
   "execution_count": null,
   "metadata": {},
   "outputs": [],
   "source": [
    "from pathlib import Path\n",
    "import shutil\n",
    "import os\n",
    "import docx\n",
    "import win32com.client\n",
    "import time"
   ]
  },
  {
   "cell_type": "markdown",
   "metadata": {},
   "source": [
    "# batch copy and rename files"
   ]
  },
  {
   "cell_type": "code",
   "execution_count": 2,
   "metadata": {},
   "outputs": [],
   "source": [
    "folder = r'D:\\Desktop\\外审\\2022年危险作业安全专题培训'"
   ]
  },
  {
   "cell_type": "code",
   "execution_count": 23,
   "metadata": {},
   "outputs": [
    {
     "data": {
      "text/plain": [
       "0"
      ]
     },
     "execution_count": 23,
     "metadata": {},
     "output_type": "execute_result"
    }
   ],
   "source": [
    "os.chdir(folder)\n",
    "os.system('start .')"
   ]
  },
  {
   "cell_type": "code",
   "execution_count": 7,
   "metadata": {},
   "outputs": [],
   "source": [
    "files = Path(folder).glob('*.pptx')"
   ]
  },
  {
   "cell_type": "code",
   "execution_count": 8,
   "metadata": {},
   "outputs": [
    {
     "data": {
      "text/plain": [
       "<generator object Path.glob at 0x000002396C2499A0>"
      ]
     },
     "execution_count": 8,
     "metadata": {},
     "output_type": "execute_result"
    }
   ],
   "source": [
    "files"
   ]
  },
  {
   "cell_type": "code",
   "execution_count": 9,
   "metadata": {},
   "outputs": [
    {
     "name": "stdout",
     "output_type": "stream",
     "text": [
      "01-公司《危险作业安全管理规定宣贯培训》.pptx\n",
      "02-施工现场临时用电作业安全专题培训.pptx\n",
      "03-有限空间作业安全专题培训.pptx\n",
      "04-高处作业安全专题培训.pptx\n",
      "05-脚手架作业安全专题培训.pptx\n",
      "06-动火作业安全专题培训.pptx\n",
      "07-动土作业安全专题培训.pptx\n",
      "08-起重吊装作业安全专题培训.pptx\n",
      "09-吊篮作业安全专题培训.pptx\n"
     ]
    }
   ],
   "source": [
    "for file in files:\n",
    "    print(file.name)\n",
    "    # new_name = file.name.replace('（', '(').replace('）', ')')\n",
    "    # file.rename(file.parent.joinpath(new_name))"
   ]
  },
  {
   "cell_type": "code",
   "execution_count": 10,
   "metadata": {},
   "outputs": [],
   "source": [
    "def glob_files(folder, pattern):\n",
    "    files = Path(folder).glob(pattern)\n",
    "    return files"
   ]
  },
  {
   "cell_type": "code",
   "execution_count": 18,
   "metadata": {},
   "outputs": [],
   "source": [
    "if __name__ == '__main__':\n",
    "    folder = r'D:\\Desktop\\外审\\2022年危险作业安全专题培训'\n",
    "    os.chdir(folder)\n",
    "    source_file = r'A11 安全生产教育培训记录表.docx'\n",
    "    files = glob_files(folder, '*.pptx')\n",
    "    for file in files:\n",
    "        shutil.copy2(source_file,file.name[:-5]+'记录表'+'.docx')"
   ]
  },
  {
   "cell_type": "markdown",
   "metadata": {},
   "source": [
    "# ReplaceTextInWord"
   ]
  },
  {
   "cell_type": "code",
   "execution_count": 19,
   "metadata": {},
   "outputs": [],
   "source": [
    "docfiles = glob_files(folder, '*.docx')\n",
    "for docfile in docfiles:\n",
    "    doc = docx.Document(docfile)\n",
    "    doc.tables[0].cell(5,1).text = f'培训主题（内容）：\\n \\n {docfile.name[3:-8]}'\n",
    "    doc.save(docfile)"
   ]
  },
  {
   "cell_type": "markdown",
   "metadata": {},
   "source": [
    "# Batch print"
   ]
  },
  {
   "cell_type": "code",
   "execution_count": 21,
   "metadata": {},
   "outputs": [],
   "source": [
    "def batch_print_docx_files(docx_file_paths):\n",
    "  # Create a Word object.\n",
    "  word = win32com.client.DispatchEx(\"Word.Application\")\n",
    "\n",
    "  # Iterate over the DOCX files and print them.\n",
    "  for docx_file_path in docx_file_paths:\n",
    "    time.sleep(2)\n",
    "    # Open the DOCX file.\n",
    "    document = word.Documents.Open(docx_file_path)\n",
    "\n",
    "    # Print the document.\n",
    "    document.PrintOut()\n",
    "\n",
    "    # Close the document.\n",
    "    document.Close()\n",
    "\n",
    "  # Quit Word.\n",
    "  word.Quit()"
   ]
  },
  {
   "cell_type": "code",
   "execution_count": 22,
   "metadata": {},
   "outputs": [
    {
     "ename": "com_error",
     "evalue": "(-2147352567, '发生意外。', (0, 'Microsoft Word', '“Quit”不是一种属性。', 'wdmain11.chm', 25342, -2146822426), None)",
     "output_type": "error",
     "traceback": [
      "\u001b[1;31m---------------------------------------------------------------------------\u001b[0m",
      "\u001b[1;31mcom_error\u001b[0m                                 Traceback (most recent call last)",
      "\u001b[1;32mwhy198546\\HLandscape\\7.Files\\Copy&RenameFiles.ipynb Cell 14\u001b[0m line \u001b[0;36m<cell line: 1>\u001b[1;34m()\u001b[0m\n\u001b[0;32m      <a href='vscode-notebook-cell://github%2B7b2276223a312c22726566223a7b2274797065223a342c226964223a2254657374696e67227d7d/why198546/HLandscape/7.Files/Copy%26RenameFiles.ipynb#X23sdnNjb2RlLXZmcw%3D%3D?line=3'>4</a>\u001b[0m docfiles \u001b[39m=\u001b[39m glob_files(folder, \u001b[39m'\u001b[39m\u001b[39m*.docx\u001b[39m\u001b[39m'\u001b[39m)\n\u001b[0;32m      <a href='vscode-notebook-cell://github%2B7b2276223a312c22726566223a7b2274797065223a342c226964223a2254657374696e67227d7d/why198546/HLandscape/7.Files/Copy%26RenameFiles.ipynb#X23sdnNjb2RlLXZmcw%3D%3D?line=4'>5</a>\u001b[0m doclist \u001b[39m=\u001b[39m \u001b[39mlist\u001b[39m(\u001b[39mmap\u001b[39m(\u001b[39mlambda\u001b[39;00m docfile: \u001b[39mstr\u001b[39m(docfile\u001b[39m.\u001b[39mabsolute()), docfiles))\n\u001b[1;32m----> <a href='vscode-notebook-cell://github%2B7b2276223a312c22726566223a7b2274797065223a342c226964223a2254657374696e67227d7d/why198546/HLandscape/7.Files/Copy%26RenameFiles.ipynb#X23sdnNjb2RlLXZmcw%3D%3D?line=5'>6</a>\u001b[0m batch_print_docx_files(doclist)\n",
      "\u001b[1;32mwhy198546\\HLandscape\\7.Files\\Copy&RenameFiles.ipynb Cell 14\u001b[0m line \u001b[0;36mbatch_print_docx_files\u001b[1;34m(docx_file_paths)\u001b[0m\n\u001b[0;32m     <a href='vscode-notebook-cell://github%2B7b2276223a312c22726566223a7b2274797065223a342c226964223a2254657374696e67227d7d/why198546/HLandscape/7.Files/Copy%26RenameFiles.ipynb#X23sdnNjb2RlLXZmcw%3D%3D?line=14'>15</a>\u001b[0m   document\u001b[39m.\u001b[39mClose()\n\u001b[0;32m     <a href='vscode-notebook-cell://github%2B7b2276223a312c22726566223a7b2274797065223a342c226964223a2254657374696e67227d7d/why198546/HLandscape/7.Files/Copy%26RenameFiles.ipynb#X23sdnNjb2RlLXZmcw%3D%3D?line=16'>17</a>\u001b[0m \u001b[39m# Quit Word.\u001b[39;00m\n\u001b[1;32m---> <a href='vscode-notebook-cell://github%2B7b2276223a312c22726566223a7b2274797065223a342c226964223a2254657374696e67227d7d/why198546/HLandscape/7.Files/Copy%26RenameFiles.ipynb#X23sdnNjb2RlLXZmcw%3D%3D?line=17'>18</a>\u001b[0m word\u001b[39m.\u001b[39;49mQuit()\n",
      "File \u001b[1;32m~\\AppData\\Roaming\\Python\\Python310\\site-packages\\win32com\\client\\dynamic.py:627\u001b[0m, in \u001b[0;36mCDispatch.__getattr__\u001b[1;34m(self, attr)\u001b[0m\n\u001b[0;32m    623\u001b[0m debug_attr_print(\n\u001b[0;32m    624\u001b[0m     \u001b[39m\"\u001b[39m\u001b[39mGetting property Id 0x\u001b[39m\u001b[39m%x\u001b[39;00m\u001b[39m from OLE object\u001b[39m\u001b[39m\"\u001b[39m \u001b[39m%\u001b[39m retEntry\u001b[39m.\u001b[39mdispid\n\u001b[0;32m    625\u001b[0m )\n\u001b[0;32m    626\u001b[0m \u001b[39mtry\u001b[39;00m:\n\u001b[1;32m--> 627\u001b[0m     ret \u001b[39m=\u001b[39m \u001b[39mself\u001b[39;49m\u001b[39m.\u001b[39;49m_oleobj_\u001b[39m.\u001b[39;49mInvoke(retEntry\u001b[39m.\u001b[39;49mdispid, \u001b[39m0\u001b[39;49m, invoke_type, \u001b[39m1\u001b[39;49m)\n\u001b[0;32m    628\u001b[0m \u001b[39mexcept\u001b[39;00m pythoncom\u001b[39m.\u001b[39mcom_error \u001b[39mas\u001b[39;00m details:\n\u001b[0;32m    629\u001b[0m     \u001b[39mif\u001b[39;00m details\u001b[39m.\u001b[39mhresult \u001b[39min\u001b[39;00m ERRORS_BAD_CONTEXT:\n\u001b[0;32m    630\u001b[0m         \u001b[39m# May be a method.\u001b[39;00m\n",
      "\u001b[1;31mcom_error\u001b[0m: (-2147352567, '发生意外。', (0, 'Microsoft Word', '“Quit”不是一种属性。', 'wdmain11.chm', 25342, -2146822426), None)"
     ]
    }
   ],
   "source": [
    "if __name__ == '__main__':\n",
    "    folder = r'D:\\Desktop\\外审\\2022年危险作业安全专题培训'\n",
    "    os.chdir(folder)\n",
    "    docfiles = glob_files(folder, '*.docx')\n",
    "    doclist = list(map(lambda docfile: str(docfile.absolute()), docfiles))\n",
    "    batch_print_docx_files(doclist)\n"
   ]
  },
  {
   "cell_type": "code",
   "execution_count": 65,
   "metadata": {},
   "outputs": [],
   "source": [
    "path = Path(source_file)"
   ]
  },
  {
   "cell_type": "code",
   "execution_count": 66,
   "metadata": {},
   "outputs": [
    {
     "data": {
      "text/plain": [
       "WindowsPath('A11 安全生产教育培训记录表.docx')"
      ]
     },
     "execution_count": 66,
     "metadata": {},
     "output_type": "execute_result"
    }
   ],
   "source": [
    "path"
   ]
  },
  {
   "cell_type": "code",
   "execution_count": 75,
   "metadata": {},
   "outputs": [
    {
     "ename": "TypeError",
     "evalue": "'WindowsPath' object is not iterable",
     "output_type": "error",
     "traceback": [
      "\u001b[1;31m---------------------------------------------------------------------------\u001b[0m",
      "\u001b[1;31mTypeError\u001b[0m                                 Traceback (most recent call last)",
      "\u001b[1;32mwhy198546\\HLandscape\\7.Files\\Copy&RenameFiles.ipynb Cell 21\u001b[0m line \u001b[0;36m<cell line: 1>\u001b[1;34m()\u001b[0m\n\u001b[1;32m----> <a href='vscode-notebook-cell://github%2B7b2276223a312c22726566223a7b2274797065223a342c226964223a2254657374696e67227d7d/why198546/HLandscape/7.Files/Copy%26RenameFiles.ipynb#X40sdnNjb2RlLXZmcw%3D%3D?line=0'>1</a>\u001b[0m \u001b[39mlist\u001b[39;49m(path\u001b[39m.\u001b[39;49mabsolute())\n",
      "\u001b[1;31mTypeError\u001b[0m: 'WindowsPath' object is not iterable"
     ]
    }
   ],
   "source": [
    "path.absolute().write_text"
   ]
  },
  {
   "cell_type": "code",
   "execution_count": 76,
   "metadata": {},
   "outputs": [
    {
     "data": {
      "text/plain": [
       "'D:\\\\Desktop\\\\外审\\\\2022年危险作业安全专题培训\\\\A11 安全生产教育培训记录表.docx'"
      ]
     },
     "execution_count": 76,
     "metadata": {},
     "output_type": "execute_result"
    }
   ],
   "source": [
    "str(path.absolute())"
   ]
  },
  {
   "cell_type": "code",
   "execution_count": null,
   "metadata": {},
   "outputs": [],
   "source": [
    "doclist = []\n",
    "for i in range(len(docfiles)):\n",
    "    doclist.append(str(docfiles[i].absolute()))\n"
   ]
  }
 ],
 "metadata": {
  "kernelspec": {
   "display_name": "OD",
   "language": "python",
   "name": "python3"
  },
  "language_info": {
   "codemirror_mode": {
    "name": "ipython",
    "version": 3
   },
   "file_extension": ".py",
   "mimetype": "text/x-python",
   "name": "python",
   "nbconvert_exporter": "python",
   "pygments_lexer": "ipython3",
   "version": "3.10.5"
  }
 },
 "nbformat": 4,
 "nbformat_minor": 2
}
