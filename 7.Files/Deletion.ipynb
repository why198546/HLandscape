{
 "cells": [
  {
   "cell_type": "code",
   "execution_count": null,
   "metadata": {},
   "outputs": [],
   "source": [
    "#遍历文件夹内所有jpeg文件，文件名中带（）的文件，将其移动到另一个文件夹"
   ]
  },
  {
   "cell_type": "code",
   "execution_count": 2,
   "metadata": {},
   "outputs": [],
   "source": [
    "import os\n",
    "import shutil\n",
    "\n",
    "source_folder = r'C:\\Users\\why19\\Desktop\\新建文件夹'\n",
    "destination_folder = r'C:\\Users\\why19\\Desktop\\新建文件夹\\newfolder'\n",
    "\n",
    "# Traverse all files in the source folder\n",
    "for filename in os.listdir(source_folder):\n",
    "    if filename.endswith('.jpeg') and '(' in filename:\n",
    "        # Construct the source and destination paths\n",
    "        source_path = os.path.join(source_folder, filename)\n",
    "        destination_path = os.path.join(destination_folder, filename)\n",
    "        \n",
    "        # Move the file to the destination folder\n",
    "        shutil.move(source_path, destination_path)\n"
   ]
  },
  {
   "cell_type": "code",
   "execution_count": null,
   "metadata": {},
   "outputs": [],
   "source": []
  }
 ],
 "metadata": {
  "kernelspec": {
   "display_name": ".venv",
   "language": "python",
   "name": "python3"
  },
  "language_info": {
   "codemirror_mode": {
    "name": "ipython",
    "version": 3
   },
   "file_extension": ".py",
   "mimetype": "text/x-python",
   "name": "python",
   "nbconvert_exporter": "python",
   "pygments_lexer": "ipython3",
   "version": "3.10.6"
  }
 },
 "nbformat": 4,
 "nbformat_minor": 2
}
