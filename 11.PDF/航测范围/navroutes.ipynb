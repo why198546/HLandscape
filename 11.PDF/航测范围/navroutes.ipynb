{
 "cells": [
  {
   "cell_type": "code",
   "execution_count": 5,
   "metadata": {},
   "outputs": [],
   "source": [
    "import geopandas as gpd\n",
    "import numpy as np\n",
    "import folium\n",
    "from scipy.spatial.distance import cdist\n"
   ]
  },
  {
   "cell_type": "code",
   "execution_count": 6,
   "metadata": {},
   "outputs": [
    {
     "data": {
      "text/plain": [
       "'./distance_map.html'"
      ]
     },
     "execution_count": 6,
     "metadata": {},
     "output_type": "execute_result"
    }
   ],
   "source": [
    "\n",
    "# 读取GeoJSON文件\n",
    "geojson_path = './combined_coordinates.geojson'\n",
    "gdf = gpd.read_file(geojson_path)\n",
    "\n",
    "# 提取坐标点\n",
    "coordinates = gdf.geometry.apply(lambda geom: (geom.x, geom.y)).tolist()\n",
    "\n",
    "# 计算距离矩阵\n",
    "def haversine(coord1, coord2):\n",
    "    lat1, lon1 = np.radians(coord1)\n",
    "    lat2, lon2 = np.radians(coord2)\n",
    "    dlat = lat2 - lat1\n",
    "    dlon = lon2 - lon1\n",
    "    a = np.sin(dlat / 2)**2 + np.cos(lat1) * np.cos(lat2) * np.sin(dlon / 2)**2\n",
    "    c = 2 * np.arcsin(np.sqrt(a))\n",
    "    r = 6371  # Radius of earth in kilometers\n",
    "    return c * r\n",
    "\n",
    "distance_matrix = cdist(coordinates, coordinates, metric=lambda u, v: haversine(u, v))\n",
    "\n",
    "# 创建地图\n",
    "m = folium.Map(location=[np.mean([coord[1] for coord in coordinates]), np.mean([coord[0] for coord in coordinates])], zoom_start=12)\n",
    "\n",
    "# 添加点和距离线\n",
    "for i, coord1 in enumerate(coordinates):\n",
    "    for j, coord2 in enumerate(coordinates):\n",
    "        if i < j:  # 只计算一次每对距离\n",
    "            distance = distance_matrix[i, j]\n",
    "            folium.PolyLine([coord1, coord2], color=\"blue\", weight=1.5, opacity=0.7, tooltip=f'{distance:.2f} km').add_to(m)\n",
    "    folium.Marker(location=list(coord1), popup=f'Point {i+1}').add_to(m)\n",
    "\n",
    "# 保存地图为HTML文件\n",
    "map_path = './distance_map.html'\n",
    "m.save(map_path)\n",
    "map_path\n"
   ]
  },
  {
   "cell_type": "code",
   "execution_count": 7,
   "metadata": {},
   "outputs": [],
   "source": [
    "import os\n",
    "import requests\n",
    "from bs4 import BeautifulSoup\n",
    "from urllib.parse import urlparse, urljoin\n",
    "\n",
    "# Define the URL of the HTML file\n",
    "html_file = './distance_map.html'\n",
    "\n",
    "# Define the directory to save the downloaded files\n",
    "save_directory = './resources'\n",
    "\n",
    "# Create the save directory if it doesn't exist\n",
    "os.makedirs(save_directory, exist_ok=True)\n",
    "\n",
    "# Read the HTML file\n",
    "with open(html_file, 'r') as f:\n",
    "    html_content = f.read()\n",
    "\n",
    "# Parse the HTML content\n",
    "soup = BeautifulSoup(html_content, 'html.parser')\n",
    "\n",
    "# Find all the <a> tags with href attribute\n",
    "links = soup.find_all('a', href=True)\n",
    "\n",
    "# Iterate over the links\n",
    "for link in links:\n",
    "    # Get the URL of the linked file\n",
    "    file_url = link['href']\n",
    "    \n",
    "    # Parse the URL to get the filename\n",
    "    parsed_url = urlparse(file_url)\n",
    "    filename = os.path.basename(parsed_url.path)\n",
    "    \n",
    "    # Download the file\n",
    "    response = requests.get(file_url)\n",
    "    \n",
    "    # Save the file to the specified directory\n",
    "    save_path = os.path.join(save_directory, filename)\n",
    "    with open(save_path, 'wb') as f:\n",
    "        f.write(response.content)\n",
    "    \n",
    "    # Change the link to the local file\n",
    "    local_link = os.path.join('resources', filename)\n",
    "    link['href'] = local_link\n",
    "\n",
    "# Save the modified HTML file\n",
    "modified_html_file = os.path.join(save_directory, 'modified_distance_map.html')\n",
    "with open(modified_html_file, 'w') as f:\n",
    "    f.write(str(soup))"
   ]
  },
  {
   "cell_type": "code",
   "execution_count": null,
   "metadata": {},
   "outputs": [],
   "source": []
  }
 ],
 "metadata": {
  "kernelspec": {
   "display_name": ".venv",
   "language": "python",
   "name": "python3"
  },
  "language_info": {
   "codemirror_mode": {
    "name": "ipython",
    "version": 3
   },
   "file_extension": ".py",
   "mimetype": "text/x-python",
   "name": "python",
   "nbconvert_exporter": "python",
   "pygments_lexer": "ipython3",
   "version": "3.10.6"
  }
 },
 "nbformat": 4,
 "nbformat_minor": 2
}
