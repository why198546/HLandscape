{
 "cells": [
  {
   "cell_type": "code",
   "execution_count": 1,
   "metadata": {},
   "outputs": [],
   "source": [
    "import os\n",
    "import subprocess\n",
    "from pdfminer.high_level import extract_text"
   ]
  },
  {
   "cell_type": "code",
   "execution_count": 5,
   "metadata": {},
   "outputs": [],
   "source": [
    "def extract_text_from_pdf(pdf_path):\n",
    "    return extract_text(pdf_path)\n",
    "\n",
    "def extract_text_from_doc(doc_path):\n",
    "    # 调用antiword来提取.doc文件的文本\n",
    "    result = subprocess.run(['antiword', doc_path], stdout=subprocess.PIPE)\n",
    "    return result.stdout.decode('utf-8', 'ignore')\n",
    "\n",
    "def clean_text(text):\n",
    "    # 这里可以加入清洗文本的代码，例如去除多余的空格、换行等\n",
    "    return text.strip().replace('\\n', ' ')"
   ]
  },
  {
   "cell_type": "code",
   "execution_count": 6,
   "metadata": {},
   "outputs": [
    {
     "name": "stderr",
     "output_type": "stream",
     "text": [
      "The PDF <_io.BufferedReader name='D:\\\\Desktop\\\\gpts\\\\规范\\\\CAD制图统一规则.pdf'> contains a metadata field indicating that it should not allow text extraction. Ignoring this field and proceeding. Use the check_extractable if you want to raise an error in this case\n",
      "The PDF <_io.BufferedReader name='D:\\\\Desktop\\\\gpts\\\\规范\\\\勘察设计收费标准2002版.pdf'> contains a metadata field indicating that it should not allow text extraction. Ignoring this field and proceeding. Use the check_extractable if you want to raise an error in this case\n"
     ]
    },
    {
     "name": "stdout",
     "output_type": "stream",
     "text": [
      "All text has been extracted and combined into combined_text.txt.\n"
     ]
    }
   ],
   "source": [
    "if __name__ == '__main__':\n",
    "    folder_path = 'D:\\Desktop\\gpts\\规范'  # 替换为你的文件夹路径\n",
    "    output_file = 'combined_text.txt'\n",
    "    with open(output_file, 'w', encoding='utf-8') as output:\n",
    "        for file_name in os.listdir(folder_path):\n",
    "            file_path = os.path.join(folder_path, file_name)\n",
    "            file_text = ''\n",
    "            if file_name.lower().endswith('.pdf'):\n",
    "                file_text = extract_text_from_pdf(file_path)\n",
    "            elif file_name.lower().endswith('.doc'):\n",
    "                file_text = extract_text_from_doc(file_path)\n",
    "            # 清洗并写入文件\n",
    "            file_text = clean_text(file_text)\n",
    "            output.write(file_text + '\\n')\n",
    "\n",
    "    print(f\"All text has been extracted and combined into {output_file}.\")"
   ]
  },
  {
   "cell_type": "code",
   "execution_count": null,
   "metadata": {},
   "outputs": [],
   "source": []
  }
 ],
 "metadata": {
  "kernelspec": {
   "display_name": ".venv",
   "language": "python",
   "name": "python3"
  },
  "language_info": {
   "codemirror_mode": {
    "name": "ipython",
    "version": 3
   },
   "file_extension": ".py",
   "mimetype": "text/x-python",
   "name": "python",
   "nbconvert_exporter": "python",
   "pygments_lexer": "ipython3",
   "version": "3.10.5"
  }
 },
 "nbformat": 4,
 "nbformat_minor": 2
}
