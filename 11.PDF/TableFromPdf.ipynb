{
 "cells": [
  {
   "cell_type": "code",
   "execution_count": 1,
   "metadata": {},
   "outputs": [],
   "source": [
    "import pdfplumber\n",
    "import pandas as pd"
   ]
  },
  {
   "cell_type": "code",
   "execution_count": 2,
   "metadata": {},
   "outputs": [],
   "source": [
    "\n",
    "pdf_path = r\"C:\\Users\\why19\\Desktop\\河北省环京津地区以水灭火等关键能力建设项目可行性研究报告（审定稿）(2).pdf\""
   ]
  },
  {
   "cell_type": "code",
   "execution_count": 3,
   "metadata": {},
   "outputs": [],
   "source": [
    "# 函数：从表格上方提取表格名称\n",
    "def extract_table_name(page, table_bbox):\n",
    "    # 从表格上方提取文本区域\n",
    "    top_area = (table_bbox[0], table_bbox[1] - 50, table_bbox[2], table_bbox[1])\n",
    "    text = page.within_bbox(top_area).extract_text()\n",
    "    return text.split('\\n')[-1] if text else \"Unknown Table Name\""
   ]
  },
  {
   "cell_type": "code",
   "execution_count": null,
   "metadata": {},
   "outputs": [],
   "source": [
    "tables_dict = {}\n",
    "\n",
    "with pdfplumber.open(pdf_path) as pdf:\n",
    "    for page_number, page in enumerate(pdf.pages, start=1):\n",
    "        for table_index, table in enumerate(page.extract_tables(), start=1):\n",
    "            # 使用第一行作为表头创建 DataFrame\n",
    "            df = pd.DataFrame(table[1:], columns=table[0])\n",
    "            \n",
    "            # 提取表格的边界框\n",
    "            table_bbox = page.find_tables()[table_index - 1].bbox\n",
    "\n",
    "            # 提取表格名称\n",
    "            table_name = extract_table_name(page, table_bbox)\n",
    "\n",
    "            # 添加表格名称列\n",
    "            df[\"Table Name\"] = table_name\n",
    "            \n",
    "            # 将 DataFrame 存储在字典中\n",
    "            tables_dict[table_name] = df"
   ]
  },
  {
   "cell_type": "code",
   "execution_count": null,
   "metadata": {},
   "outputs": [],
   "source": [
    "# 示例：显示提取的表格\n",
    "for table_name, table_df in tables_dict.items():\n",
    "    print(f\"Table: {table_name}\")\n",
    "    print(table_df)\n",
    "    print(\"\\n\")\n",
    "\n",
    "# 将表格保存为单独的 CSV 文件，使用 `utf-8-sig` 编码以防止 Excel 打开时出现乱码\n",
    "for table_name, table_df in tables_dict.items():\n",
    "    csv_file = f\"{table_name}.csv\"\n",
    "    table_df.to_csv(csv_file, index=False, encoding='utf-8-sig')"
   ]
  },
  {
   "cell_type": "code",
   "execution_count": null,
   "metadata": {},
   "outputs": [],
   "source": []
  }
 ],
 "metadata": {
  "kernelspec": {
   "display_name": ".venv",
   "language": "python",
   "name": "python3"
  },
  "language_info": {
   "codemirror_mode": {
    "name": "ipython",
    "version": 3
   },
   "file_extension": ".py",
   "mimetype": "text/x-python",
   "name": "python",
   "nbconvert_exporter": "python",
   "pygments_lexer": "ipython3",
   "version": "3.10.6"
  }
 },
 "nbformat": 4,
 "nbformat_minor": 2
}
