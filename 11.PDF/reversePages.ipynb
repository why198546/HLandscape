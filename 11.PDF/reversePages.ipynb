{
 "cells": [
  {
   "cell_type": "code",
   "execution_count": 9,
   "metadata": {},
   "outputs": [],
   "source": [
    "import fitz  # PyMuPDF\n",
    "import os"
   ]
  },
  {
   "cell_type": "code",
   "execution_count": 17,
   "metadata": {},
   "outputs": [],
   "source": [
    "def reverse_pdf_order(input_pdf_path, output_pdf_path):\n",
    "    source_pdf = fitz.open(input_pdf_path)  # Open the source PDF file\n",
    "    reversed_pdf = fitz.open()  # Create a new PDF file\n",
    "\n",
    "    # Iterate through the pages in reverse order\n",
    "    for page_number in range(source_pdf.page_count - 1, -1, -1):\n",
    "        # Insert the page into the new PDF\n",
    "        reversed_pdf.insert_pdf(source_pdf, from_page=page_number, to_page=page_number)\n",
    "\n",
    "    reversed_pdf.save(output_pdf_path)  # Save the new PDF file to disk\n",
    "    source_pdf.close()  # Close the source PDF file\n",
    "    reversed_pdf.close()  # Close the new PDF file"
   ]
  },
  {
   "cell_type": "code",
   "execution_count": 19,
   "metadata": {},
   "outputs": [],
   "source": [
    "folder = 'd:/Desktop/'\n",
    "os.chdir(folder)\n",
    "input = 'input.pdf'\n",
    "# Usage:\n",
    "reverse_pdf_order(input, 'reversed_' + input)"
   ]
  },
  {
   "cell_type": "code",
   "execution_count": null,
   "metadata": {},
   "outputs": [],
   "source": []
  }
 ],
 "metadata": {
  "kernelspec": {
   "display_name": "OD",
   "language": "python",
   "name": "python3"
  },
  "language_info": {
   "codemirror_mode": {
    "name": "ipython",
    "version": 3
   },
   "file_extension": ".py",
   "mimetype": "text/x-python",
   "name": "python",
   "nbconvert_exporter": "python",
   "pygments_lexer": "ipython3",
   "version": "3.10.5"
  }
 },
 "nbformat": 4,
 "nbformat_minor": 2
}
