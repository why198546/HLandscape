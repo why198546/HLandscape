{
 "cells": [
  {
   "cell_type": "markdown",
   "id": "21ad4f0f-65d1-4ebf-8878-6bd6ab3dea0e",
   "metadata": {},
   "source": [
    "# 导入必要包"
   ]
  },
  {
   "cell_type": "code",
   "execution_count": null,
   "id": "ef990b93-2a0a-45f7-8693-0674b9ac85ae",
   "metadata": {},
   "outputs": [],
   "source": [
    "import win32com.client\n",
    "import os\n",
    "import time"
   ]
  },
  {
   "cell_type": "markdown",
   "id": "2f68fdc4-93b0-4989-aef7-7d75e81ba648",
   "metadata": {},
   "source": [
    "## 连接Autocad"
   ]
  },
  {
   "cell_type": "code",
   "execution_count": 36,
   "id": "da95f092-55f7-4f47-886c-4870db31c262",
   "metadata": {},
   "outputs": [],
   "source": [
    "acad = win32com.client.Dispatch(\"AutoCAD.Application\")"
   ]
  },
  {
   "cell_type": "code",
   "execution_count": 3,
   "id": "548e3081-8e1b-46c0-9108-dab3af42a76b",
   "metadata": {},
   "outputs": [],
   "source": [
    "folder = r'W:\\20220613 中农鹤壁项目\\05-施工图纸'"
   ]
  },
  {
   "cell_type": "code",
   "execution_count": 4,
   "id": "0d609a27-1eec-4cec-9b59-885a4110b369",
   "metadata": {},
   "outputs": [
    {
     "data": {
      "text/plain": [
       "['XS-04 多媒体展厅详图.bak',\n",
       " 'XS-04 多媒体展厅详图.dwg',\n",
       " 'XS-05-01~06 游乐互动平台.bak',\n",
       " 'XS-05-01~06 游乐互动平台.dwg',\n",
       " 'XS-05-07~12 游乐互动平台.bak',\n",
       " 'XS-05-07~12 游乐互动平台.dwg',\n",
       " 'XS-05-13~16 游乐互动平台.bak',\n",
       " 'XS-05-13~16 游乐互动平台.dwg',\n",
       " 'XS-06 互动水幕墙详图.bak',\n",
       " 'XS-06 互动水幕墙详图.dwg',\n",
       " 'XS-08 水幕观景平台.bak',\n",
       " 'XS-08 水幕观景平台.dwg',\n",
       " 'XS-09手工坊廊架详图.bak',\n",
       " 'XS-09手工坊廊架详图.dwg',\n",
       " 'XS-10-01~10 造型廊架详图.bak',\n",
       " 'XS-10药卉坊廊架详图.bak',\n",
       " 'XS-10药卉坊廊架详图.dwg',\n",
       " 'XS-16 花舞时空建筑详图.bak',\n",
       " 'XS-16 花舞时空建筑详图.dwg',\n",
       " 'XS-17 花漾便利店详图.bak',\n",
       " 'XS-17 花漾便利店详图.dwg',\n",
       " 'XS-26-01~10 鱼菜蜀寨详图.bak',\n",
       " 'XS-26-01~10 鱼菜蜀寨详图.dwg',\n",
       " '中农鹤壁项目.bak',\n",
       " '中农鹤壁项目.ds$',\n",
       " '中农鹤壁项目.dst',\n",
       " '互动水幕轴测图.jpg',\n",
       " '会签栏A2.bak',\n",
       " '会签栏A2.dwg',\n",
       " '便利店.png',\n",
       " '多媒体展厅.jpg',\n",
       " '时空建筑.png',\n",
       " '树形雕像.jpg',\n",
       " '水幕观景平台.jpg',\n",
       " '游乐互动平台意向图.jpg',\n",
       " '爬梯.png']"
      ]
     },
     "execution_count": 4,
     "metadata": {},
     "output_type": "execute_result"
    }
   ],
   "source": [
    "files = os.listdir(folder)\n",
    "files"
   ]
  },
  {
   "cell_type": "code",
   "execution_count": 20,
   "id": "8b959090-2a8c-489d-af45-81736cc3c7ef",
   "metadata": {},
   "outputs": [
    {
     "name": "stdout",
     "output_type": "stream",
     "text": [
      "  A: 1\n",
      "  LD-01: LD-01\n",
      "  A: 1\n",
      "  LD-01: LD-01\n",
      "  图纸名称: 多媒体展厅详图一\n",
      "  设计阶段: 初步设计\n",
      "  版本号: 01\n",
      "  图纸编号: XS-04-01\n",
      "  项目编号: DFHM-04-2269\n",
      "  出图日期: 2022年06月\n",
      "  项目名称第二行: 2号馆\n",
      "  项目名称第一行: %%\n",
      "  开发商第一行: %%\n",
      "  开发商第二行: %%\n",
      "  比例: 1:300\n",
      "  子项编号: 2\n",
      "  图纸名称: 多媒体展厅详图二\n",
      "  设计阶段: 初步设计\n",
      "  版本号: 01\n",
      "  图纸编号: XS-04-02\n",
      "  项目编号: DFHM-04-2269\n",
      "  出图日期: 2022年06月\n",
      "  项目名称第二行: 2号馆\n",
      "  项目名称第一行: %%\n",
      "  开发商第一行: %%\n",
      "  开发商第二行: %%\n",
      "  比例: 1:300\n",
      "  子项编号: 2\n"
     ]
    },
    {
     "ename": "AttributeError",
     "evalue": "Open.blocks",
     "output_type": "error",
     "traceback": [
      "\u001b[1;31m---------------------------------------------------------------------------\u001b[0m",
      "\u001b[1;31mAttributeError\u001b[0m                            Traceback (most recent call last)",
      "\u001b[1;32m<ipython-input-20-0322754fab2b>\u001b[0m in \u001b[0;36m<module>\u001b[1;34m\u001b[0m\n\u001b[0;32m      2\u001b[0m     \u001b[1;32mif\u001b[0m \u001b[0mfile\u001b[0m\u001b[1;33m.\u001b[0m\u001b[0mendswith\u001b[0m\u001b[1;33m(\u001b[0m\u001b[1;34m'.dwg'\u001b[0m\u001b[1;33m)\u001b[0m\u001b[1;33m:\u001b[0m\u001b[1;33m\u001b[0m\u001b[1;33m\u001b[0m\u001b[0m\n\u001b[0;32m      3\u001b[0m         \u001b[0mdoc\u001b[0m \u001b[1;33m=\u001b[0m \u001b[0macad\u001b[0m\u001b[1;33m.\u001b[0m\u001b[0mDocuments\u001b[0m\u001b[1;33m.\u001b[0m\u001b[0mOpen\u001b[0m\u001b[1;33m(\u001b[0m\u001b[0mos\u001b[0m\u001b[1;33m.\u001b[0m\u001b[0mpath\u001b[0m\u001b[1;33m.\u001b[0m\u001b[0mjoin\u001b[0m\u001b[1;33m(\u001b[0m\u001b[0mfolder\u001b[0m\u001b[1;33m,\u001b[0m \u001b[0mfile\u001b[0m\u001b[1;33m)\u001b[0m\u001b[1;33m)\u001b[0m\u001b[1;33m\u001b[0m\u001b[1;33m\u001b[0m\u001b[0m\n\u001b[1;32m----> 4\u001b[1;33m         \u001b[1;32mfor\u001b[0m \u001b[0mlayout\u001b[0m \u001b[1;32min\u001b[0m \u001b[0mdoc\u001b[0m\u001b[1;33m.\u001b[0m\u001b[0mblocks\u001b[0m\u001b[1;33m:\u001b[0m\u001b[1;33m\u001b[0m\u001b[1;33m\u001b[0m\u001b[0m\n\u001b[0m\u001b[0;32m      5\u001b[0m             \u001b[1;32mfor\u001b[0m \u001b[0mentity\u001b[0m \u001b[1;32min\u001b[0m \u001b[0mlayout\u001b[0m\u001b[1;33m:\u001b[0m\u001b[1;33m\u001b[0m\u001b[1;33m\u001b[0m\u001b[0m\n\u001b[0;32m      6\u001b[0m                 \u001b[0mname\u001b[0m \u001b[1;33m=\u001b[0m \u001b[0mentity\u001b[0m\u001b[1;33m.\u001b[0m\u001b[0mEntityName\u001b[0m\u001b[1;33m\u001b[0m\u001b[1;33m\u001b[0m\u001b[0m\n",
      "\u001b[1;32m~\\AppData\\Roaming\\Python\\Python38\\site-packages\\win32com\\client\\dynamic.py\u001b[0m in \u001b[0;36m__getattr__\u001b[1;34m(self, attr)\u001b[0m\n\u001b[0;32m    525\u001b[0m \u001b[1;33m\u001b[0m\u001b[0m\n\u001b[0;32m    526\u001b[0m                 \u001b[1;31m# no where else to look.\u001b[0m\u001b[1;33m\u001b[0m\u001b[1;33m\u001b[0m\u001b[1;33m\u001b[0m\u001b[0m\n\u001b[1;32m--> 527\u001b[1;33m                 \u001b[1;32mraise\u001b[0m \u001b[0mAttributeError\u001b[0m\u001b[1;33m(\u001b[0m\u001b[1;34m\"%s.%s\"\u001b[0m \u001b[1;33m%\u001b[0m \u001b[1;33m(\u001b[0m\u001b[0mself\u001b[0m\u001b[1;33m.\u001b[0m\u001b[0m_username_\u001b[0m\u001b[1;33m,\u001b[0m \u001b[0mattr\u001b[0m\u001b[1;33m)\u001b[0m\u001b[1;33m)\u001b[0m\u001b[1;33m\u001b[0m\u001b[1;33m\u001b[0m\u001b[0m\n\u001b[0m\u001b[0;32m    528\u001b[0m \u001b[1;33m\u001b[0m\u001b[0m\n\u001b[0;32m    529\u001b[0m         \u001b[1;32mdef\u001b[0m \u001b[0m__setattr__\u001b[0m\u001b[1;33m(\u001b[0m\u001b[0mself\u001b[0m\u001b[1;33m,\u001b[0m \u001b[0mattr\u001b[0m\u001b[1;33m,\u001b[0m \u001b[0mvalue\u001b[0m\u001b[1;33m)\u001b[0m\u001b[1;33m:\u001b[0m\u001b[1;33m\u001b[0m\u001b[1;33m\u001b[0m\u001b[0m\n",
      "\u001b[1;31mAttributeError\u001b[0m: Open.blocks"
     ]
    }
   ],
   "source": [
    "for file in files:\n",
    "    if file.endswith('.dwg'):\n",
    "        doc = acad.Documents.Open(os.path.join(folder, file))\n",
    "        for layout in doc.blocks:\n",
    "            for entity in layout:\n",
    "                name = entity.EntityName\n",
    "                if name == 'AcDbBlockReference':\n",
    "                    HasAttributes = entity.HasAttributes\n",
    "                    if HasAttributes:\n",
    "                        for attrib in entity.GetAttributes():\n",
    "                            print(\"  {}: {}\".format(attrib.TagString, attrib.TextString))"
   ]
  },
  {
   "cell_type": "code",
   "execution_count": 1,
   "id": "c334bdb3-dd58-482c-8a06-2d416bb069e7",
   "metadata": {},
   "outputs": [],
   "source": [
    "doc = acad.ActiveDocument"
   ]
  },
  {
   "cell_type": "code",
   "execution_count": 2,
   "id": "2bd30b65-9443-432f-bc4e-4326cbbe9a95",
   "metadata": {},
   "outputs": [],
   "source": [
    "# iterate through all objects (entities) in the currently opened drawing\n",
    "# and if its a BlockReference, display its attributes."
   ]
  },
  {
   "cell_type": "code",
   "execution_count": 4,
   "id": "45d98379-6b4f-4fab-a15e-aa81649f1240",
   "metadata": {
    "collapsed": true,
    "jupyter": {
     "outputs_hidden": true
    },
    "tags": []
   },
   "outputs": [
    {
     "name": "stdout",
     "output_type": "stream",
     "text": [
      "  图纸名称: 游乐互动平台详图一\n",
      "  设计阶段: 初步设计\n",
      "  版本号: 01\n",
      "  图纸编号: XS-05-01\n",
      "  项目编号: DFHM-04-2269\n",
      "  出图日期: 2022年06月\n",
      "  项目名称第二行: 景观施工图\n",
      "  项目名称第一行: %%\n",
      "  开发商第一行: %%\n",
      "  开发商第二行: %%\n",
      "  比例: 1:300\n",
      "  子项编号: 3\n",
      "  A: 1\n",
      "  LD-01: XS-05-07\n",
      "  A: 1\n",
      "  LD-01: XS-05-03\n",
      "  A: 1\n",
      "  LD-01: XS-05-13\n",
      "  图纸名称: 游乐互动平台详图三\n",
      "  设计阶段: 初步设计\n",
      "  版本号: 01\n",
      "  图纸编号: XS-05-03\n",
      "  项目编号: DFHM-04-2269\n",
      "  出图日期: 2022年06月\n",
      "  项目名称第二行: 景观施工图\n",
      "  项目名称第一行: %%\n",
      "  开发商第一行: %%\n",
      "  开发商第二行: %%\n",
      "  比例: 1:300\n",
      "  子项编号: 3\n",
      "  A: 1\n",
      "  LD-01: XS-05-07\n",
      "  图纸名称: 游乐互动平台详图二\n",
      "  设计阶段: 初步设计\n",
      "  版本号: 01\n",
      "  图纸编号: XS-05-02\n",
      "  项目编号: DFHM-04-2269\n",
      "  出图日期: 2022年06月\n",
      "  项目名称第二行: 景观施工图\n",
      "  项目名称第一行: %%\n",
      "  开发商第一行: %%\n",
      "  开发商第二行: %%\n",
      "  比例: 1:300\n",
      "  子项编号: 3\n",
      "  图纸名称: 游乐互动平台详图五\n",
      "  设计阶段: 初步设计\n",
      "  版本号: 01\n",
      "  图纸编号: XS-05-05\n",
      "  项目编号: DFHM-04-2269\n",
      "  出图日期: 2022年06月\n",
      "  项目名称第二行: 景观施工图\n",
      "  项目名称第一行: %%\n",
      "  开发商第一行: %%\n",
      "  开发商第二行: %%\n",
      "  比例: 1:300\n",
      "  子项编号: 3\n",
      "  A: 4\n",
      "  LD-01: XS-05-06\n",
      "  图纸名称: 游乐互动平台详图四\n",
      "  设计阶段: 初步设计\n",
      "  版本号: 01\n",
      "  图纸编号: XS-05-04\n",
      "  项目编号: DFHM-04-2269\n",
      "  出图日期: 2022年06月\n",
      "  项目名称第二行: 景观施工图\n",
      "  项目名称第一行: %%\n",
      "  开发商第一行: %%\n",
      "  开发商第二行: %%\n",
      "  比例: 1:300\n",
      "  子项编号: 3\n",
      "  编号: 2\n",
      "  图号: -\n",
      "  编号: 2\n",
      "  图号: XS-05-05\n",
      "  A: 3\n",
      "  LD-01: XS-05-05\n",
      "  A: 1\n",
      "  LD-01: XS-05-06\n",
      "  A: 2\n",
      "  LD-01: XS-05-05\n",
      "  A: 4\n",
      "  LD-01: XS-05-06\n",
      "  图纸名称: 游乐互动平台详图六\n",
      "  设计阶段: 初步设计\n",
      "  版本号: 01\n",
      "  图纸编号: XS-05-06\n",
      "  项目编号: DFHM-04-2269\n",
      "  出图日期: 2022年06月\n",
      "  项目名称第二行: 景观施工图\n",
      "  项目名称第一行: %%\n",
      "  开发商第一行: %%\n",
      "  开发商第二行: %%\n",
      "  比例: 1:300\n",
      "  子项编号: 3\n",
      "  A: A\n",
      "  LD-01: -\n",
      "  A: 2\n",
      "  LD-01: -\n"
     ]
    }
   ],
   "source": [
    "doc = acad.ActiveDocument\n",
    "for layout in doc.blocks:\n",
    "    for entity in layout:\n",
    "        name = entity.EntityName\n",
    "        if name == 'AcDbBlockReference':\n",
    "            HasAttributes = entity.HasAttributes\n",
    "            if HasAttributes:\n",
    "                for attrib in entity.GetAttributes():\n",
    "                    print(\"  {}: {}\".format(attrib.TagString, attrib.TextString))"
   ]
  },
  {
   "cell_type": "markdown",
   "id": "139e269d-2524-47d6-9505-36a1074b1e23",
   "metadata": {},
   "source": [
    "# 批量打开文件"
   ]
  },
  {
   "cell_type": "code",
   "execution_count": 89,
   "id": "6ca3893d-de20-4392-b944-713395850b12",
   "metadata": {
    "collapsed": true,
    "jupyter": {
     "outputs_hidden": true
    },
    "tags": []
   },
   "outputs": [
    {
     "name": "stdout",
     "output_type": "stream",
     "text": [
      "W:\\20220613 中农鹤壁项目\\05-施工图纸\\XS-04 多媒体展厅详图.dwg\n",
      "W:\\20220613 中农鹤壁项目\\05-施工图纸\\XS-05-01~06 游乐互动平台.dwg\n",
      "W:\\20220613 中农鹤壁项目\\05-施工图纸\\XS-05-07~12 游乐互动平台.dwg\n",
      "W:\\20220613 中农鹤壁项目\\05-施工图纸\\XS-05-13~16 游乐互动平台.dwg\n",
      "W:\\20220613 中农鹤壁项目\\05-施工图纸\\XS-06 互动水幕墙详图.dwg\n",
      "W:\\20220613 中农鹤壁项目\\05-施工图纸\\XS-08 水幕观景平台.dwg\n",
      "W:\\20220613 中农鹤壁项目\\05-施工图纸\\XS-09手工坊廊架详图.dwg\n",
      "W:\\20220613 中农鹤壁项目\\05-施工图纸\\XS-10药卉坊廊架详图.dwg\n",
      "W:\\20220613 中农鹤壁项目\\05-施工图纸\\XS-16 花舞时空建筑详图.dwg\n",
      "W:\\20220613 中农鹤壁项目\\05-施工图纸\\XS-17 花漾便利店详图.dwg\n",
      "W:\\20220613 中农鹤壁项目\\05-施工图纸\\XS-26-01~10 鱼菜蜀寨详图.dwg\n",
      "W:\\20220613 中农鹤壁项目\\05-施工图纸\\会签栏A2.dwg\n"
     ]
    }
   ],
   "source": [
    "for file in files:\n",
    "    if file.endswith('.dwg'):\n",
    "        print(str(os.path.join(folder,file)))\n",
    "        acad.Documents.Open(os.path.join(folder,file))\n",
    "        time.sleep(2)"
   ]
  },
  {
   "cell_type": "code",
   "execution_count": null,
   "id": "5a90ea54-fa14-4b1b-89a4-87df6f9a91d1",
   "metadata": {
    "tags": []
   },
   "outputs": [],
   "source": [
    "doc = acad.ActiveDocument\n",
    "for layout in doc.Layouts:\n",
    "    for entity in layout.Block:\n",
    "        name = entity.EntityName\n",
    "        if name == 'AcDbBlockReference':\n",
    "            HasAttributes = entity.HasAttributes\n",
    "            if HasAttributes:\n",
    "                for attrib in entity.GetAttributes():\n",
    "                    if attrib.TagString == '项目名称第二行':\n",
    "                        attrib.TextString = '%<\\AcSm Sheet.子项名称>%'\n",
    "    time.sleep(2)"
   ]
  },
  {
   "cell_type": "code",
   "execution_count": 6,
   "id": "62e225b2-9726-4c61-bf25-35f9d7f55f45",
   "metadata": {
    "collapsed": true,
    "jupyter": {
     "outputs_hidden": true
    },
    "tags": []
   },
   "outputs": [
    {
     "name": "stdout",
     "output_type": "stream",
     "text": [
      "<COMObject <unknown>>\n",
      "7\n",
      "<COMObject <unknown>>\n",
      "7\n",
      "<COMObject <unknown>>\n",
      "7\n",
      "<COMObject <unknown>>\n",
      "7\n",
      "<COMObject <unknown>>\n",
      "7\n",
      "<COMObject <unknown>>\n",
      "7\n",
      "<COMObject <unknown>>\n",
      "7\n"
     ]
    }
   ],
   "source": [
    "doc = acad.ActiveDocument\n",
    "for layout in doc.Layouts:\n",
    "    print(layout)\n",
    "    print(len(doc.Layouts))\n",
    "    # for entity in layout[1:].Block:\n",
    "    #     print(entity.EntityName)"
   ]
  },
  {
   "cell_type": "code",
   "execution_count": 10,
   "id": "cca8c5d7-f0cf-4a8c-93a2-abfff6cc58cd",
   "metadata": {},
   "outputs": [
    {
     "name": "stdout",
     "output_type": "stream",
     "text": [
      "XS-05-01 游乐互动平台详图一\n",
      "XS-05-02 游乐互动平台详图二\n",
      "XS-05-03 游乐互动平台详图三\n",
      "XS-05-04 游乐互动平台详图四\n",
      "XS-05-05 游乐互动平台详图五\n",
      "XS-05-06 游乐互动平台详图六\n"
     ]
    }
   ],
   "source": [
    "doc = acad.ActiveDocument\n",
    "for i in range(1,len(doc.Layouts)):\n",
    "    print(doc.Layouts[i].Name)\n",
    "    for entity in doc.Layouts[i].Block:\n",
    "        name = entity.EntityName\n",
    "        if name == 'AcDbBlockReference':\n",
    "            HasAttributes = entity.HasAttributes\n",
    "            if HasAttributes:\n",
    "                for attrib in entity.GetAttributes():\n",
    "                    if attrib.TagString == '项目名称第二行':\n",
    "                        attrib.TextString = '%<\\AcSm Sheet.子项名称>%'"
   ]
  },
  {
   "cell_type": "code",
   "execution_count": 15,
   "id": "7e472738-5562-4bf1-9b00-ab54aa545016",
   "metadata": {},
   "outputs": [],
   "source": [
    "def PrintAttribute(dwg_file):\n",
    "    doc = acad.Documents.Open(dwg_file)\n",
    "    for i in range(1,len(doc.Layouts)):\n",
    "        print(doc.Layouts[i].Name)\n",
    "        for entity in doc.Layouts[i].Block:\n",
    "            name = entity.EntityName\n",
    "            if name == 'AcDbBlockReference':\n",
    "                HasAttributes = entity.HasAttributes\n",
    "                if HasAttributes:\n",
    "                    for attrib in entity.GetAttributes():\n",
    "                        if attrib.TagString == '项目名称第二行':\n",
    "                            attrib.TextString = '%<\\AcSm Sheet.子项名称>%'"
   ]
  },
  {
   "cell_type": "code",
   "execution_count": 32,
   "id": "d3ad37b6-814a-4e8a-9d7a-a5ff2066f4b8",
   "metadata": {},
   "outputs": [],
   "source": [
    "dwg_file = []\n",
    "for file in files:\n",
    "    if file.endswith('.dwg'):\n",
    "        dwg_file.append(os.path.join(folder,file))"
   ]
  },
  {
   "cell_type": "code",
   "execution_count": 33,
   "id": "76fc4ed5-d1bd-4098-81c4-ddabbd5f2f9a",
   "metadata": {},
   "outputs": [
    {
     "data": {
      "text/plain": [
       "['W:\\\\20220613 中农鹤壁项目\\\\05-施工图纸\\\\XS-04 多媒体展厅详图.dwg',\n",
       " 'W:\\\\20220613 中农鹤壁项目\\\\05-施工图纸\\\\XS-05-01~06 游乐互动平台.dwg',\n",
       " 'W:\\\\20220613 中农鹤壁项目\\\\05-施工图纸\\\\XS-05-07~12 游乐互动平台.dwg',\n",
       " 'W:\\\\20220613 中农鹤壁项目\\\\05-施工图纸\\\\XS-05-13~16 游乐互动平台.dwg',\n",
       " 'W:\\\\20220613 中农鹤壁项目\\\\05-施工图纸\\\\XS-06 互动水幕墙详图.dwg',\n",
       " 'W:\\\\20220613 中农鹤壁项目\\\\05-施工图纸\\\\XS-08 水幕观景平台.dwg',\n",
       " 'W:\\\\20220613 中农鹤壁项目\\\\05-施工图纸\\\\XS-09手工坊廊架详图.dwg',\n",
       " 'W:\\\\20220613 中农鹤壁项目\\\\05-施工图纸\\\\XS-10药卉坊廊架详图.dwg',\n",
       " 'W:\\\\20220613 中农鹤壁项目\\\\05-施工图纸\\\\XS-16 花舞时空建筑详图.dwg',\n",
       " 'W:\\\\20220613 中农鹤壁项目\\\\05-施工图纸\\\\XS-17 花漾便利店详图.dwg',\n",
       " 'W:\\\\20220613 中农鹤壁项目\\\\05-施工图纸\\\\XS-26-01~10 鱼菜蜀寨详图.dwg',\n",
       " 'W:\\\\20220613 中农鹤壁项目\\\\05-施工图纸\\\\会签栏A2.dwg']"
      ]
     },
     "execution_count": 33,
     "metadata": {},
     "output_type": "execute_result"
    }
   ],
   "source": [
    "dwg_file"
   ]
  },
  {
   "cell_type": "code",
   "execution_count": 37,
   "id": "c74969d4-1f8c-4b2d-886b-a18e5ebe76d6",
   "metadata": {},
   "outputs": [
    {
     "name": "stdout",
     "output_type": "stream",
     "text": [
      "XS-04-01 多媒体展厅详图一\n",
      "XS-04-02 多媒体展厅详图二\n",
      "XS-05-01 游乐互动平台详图一\n",
      "XS-05-02 游乐互动平台详图二\n",
      "XS-05-03 游乐互动平台详图三\n",
      "XS-05-04 游乐互动平台详图四\n",
      "XS-05-05 游乐互动平台详图五\n",
      "XS-05-06 游乐互动平台详图六\n",
      "XS-05-07 游乐互动平台详图七\n",
      "XS-05-08  游乐互动平台详图八\n",
      "XS-05-09 游乐互动平台详图九\n",
      "XS-05-10 游乐互动平台详图十\n",
      "XS-05-11 游乐互动平台详图十一\n",
      "XS-05-12 游乐互动平台详图十二\n",
      "XS-05-13 游乐互动平台详图十三\n",
      "XS-05-14 游乐互动平台详图十四\n",
      "XS-05-15 游乐互动平台详图十五\n",
      "XS-05-16 游乐互动平台详图十六\n",
      "XS-06-01 互动水幕详图一\n",
      "XS-06-02 互动水幕详图二\n",
      "XS-06-03 互动水幕详图三\n",
      "XS-08-01 水幕观景平台详图一\n",
      "XS-08-02 水幕观景平台详图二\n",
      "XS-08-03 水幕观景平台详图三\n",
      "XS-08-04 水幕观景平台详图四\n",
      "XS-08-05 水幕观景平台详图五\n",
      "XS-08-06 水幕观景平台详图六\n",
      "XS-08-07 水幕观景平台详图七\n",
      "XS-08-08 水幕观景平台详图八\n",
      "XS-08-09 水幕观景平台详图九\n",
      "手工坊廊架详图一\n",
      "手工坊廊架详图七\n",
      "手工坊廊架详图三\n",
      "手工坊廊架详图二\n",
      "手工坊廊架详图五\n",
      "手工坊廊架详图六\n",
      "手工坊廊架详图四\n",
      "XS-10-01药卉坊廊架底平面图\n",
      "XS-10-02药卉坊廊架顶平面图\n",
      "XS-10-03药卉坊廊架基础及龙骨布置图\n",
      "XS-10-04药卉坊廊架A、B、C立面图\n",
      "XS-10-05药卉坊廊架装饰大样图\n",
      "XS-10-06节点详图\n",
      "花舞时空建筑结构说明\n",
      "花舞时空建筑详图一\n",
      "花舞时空建筑详图三\n",
      "花舞时空建筑详图二\n",
      "花漾便利店详图一\n",
      "花漾便利店详图七\n",
      "花漾便利店详图三\n",
      "花漾便利店详图九\n",
      "花漾便利店详图二\n",
      "花漾便利店详图五\n",
      "花漾便利店详图八\n",
      "花漾便利店详图六\n",
      "花漾便利店详图十\n",
      "花漾便利店详图十一\n",
      "花漾便利店详图四\n",
      "XS-26-01鱼菜蜀寨详图一\n",
      "XS-26-02鱼菜蜀寨详图二\n",
      "XS-26-03鱼菜蜀寨详图三\n",
      "XS-26-04鱼菜蜀寨详图四\n",
      "XS-26-05鱼菜蜀寨详图五\n",
      "XS-26-06鱼菜蜀寨详图六\n",
      "XS-26-07鱼菜蜀寨详图七\n",
      "XS-26-08鱼菜蜀寨详图八\n",
      "XS-26-09鱼菜蜀寨详图九\n",
      "XS-26-10鱼菜蜀寨详图十\n",
      "XS-26-11鱼菜蜀寨详图十一\n",
      "XS-26-12鱼菜蜀寨详图十二\n",
      "布局1\n"
     ]
    }
   ],
   "source": [
    "for file in dwg_file:\n",
    "    acad.Documents.Open(file)\n",
    "    time.sleep(5)\n",
    "    doc = acad.ActiveDocument\n",
    "    for i in range(1,len(doc.Layouts)):\n",
    "        print(doc.Layouts[i].Name)\n",
    "        for entity in doc.Layouts[i].Block:\n",
    "            name = entity.EntityName\n",
    "            if name == 'AcDbBlockReference':\n",
    "                HasAttributes = entity.HasAttributes\n",
    "                if HasAttributes:\n",
    "                    for attrib in entity.GetAttributes():\n",
    "                        if attrib.TagString == '项目编号':\n",
    "                            attrib.TextString = '%<\\AcSm.16.2 SheetSet.ProjectNumber>%'\n",
    "                        if attrib.TagString == '比例':\n",
    "                            attrib.TextString = '图示'"
   ]
  },
  {
   "cell_type": "code",
   "execution_count": 29,
   "id": "b0aff220-a4c5-4846-a6df-9ab253a95f5b",
   "metadata": {},
   "outputs": [
    {
     "name": "stdout",
     "output_type": "stream",
     "text": [
      "XS-08-01 水幕观景平台详图一\n",
      "XS-08-02 水幕观景平台详图二\n",
      "XS-08-03 水幕观景平台详图三\n",
      "XS-08-04 水幕观景平台详图四\n",
      "XS-08-05 水幕观景平台详图五\n",
      "XS-08-06 水幕观景平台详图六\n",
      "XS-08-07 水幕观景平台详图七\n",
      "XS-08-08 水幕观景平台详图八\n",
      "XS-08-09 水幕观景平台详图九\n"
     ]
    }
   ],
   "source": [
    "doc = acad.ActiveDocument\n",
    "for i in range(1,len(doc.Layouts)):\n",
    "    print(doc.Layouts[i].Name)\n",
    "    for entity in doc.Layouts[i].Block:\n",
    "        name = entity.EntityName\n",
    "        if name == 'AcDbBlockReference':\n",
    "            HasAttributes = entity.HasAttributes\n",
    "            if HasAttributes:\n",
    "                for attrib in entity.GetAttributes():\n",
    "                    if attrib.TagString == '项目名称第二行':\n",
    "                        attrib.TextString = '%<\\AcSm Sheet.子项名称>%'"
   ]
  },
  {
   "cell_type": "code",
   "execution_count": null,
   "id": "9df16d28-ceaa-4d68-838f-ad0ed8e6703e",
   "metadata": {},
   "outputs": [],
   "source": []
  }
 ],
 "metadata": {
  "kernelspec": {
   "display_name": "Python 3.9.12 ('base')",
   "language": "python",
   "name": "python3"
  },
  "language_info": {
   "codemirror_mode": {
    "name": "ipython",
    "version": 3
   },
   "file_extension": ".py",
   "mimetype": "text/x-python",
   "name": "python",
   "nbconvert_exporter": "python",
   "pygments_lexer": "ipython3",
   "version": "3.10.5"
  },
  "vscode": {
   "interpreter": {
    "hash": "e974e133e6e3f7239e398afdda86b538e2da0f810b0a008ad94d8628e85cea83"
   }
  }
 },
 "nbformat": 4,
 "nbformat_minor": 5
}
