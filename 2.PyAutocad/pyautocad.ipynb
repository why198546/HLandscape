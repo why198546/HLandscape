{
 "cells": [
  {
   "cell_type": "code",
   "execution_count": null,
   "metadata": {},
   "outputs": [],
   "source": [
    "import os\n",
    "from pyautocad import Autocad, APoint"
   ]
  },
  {
   "cell_type": "code",
   "execution_count": null,
   "metadata": {},
   "outputs": [],
   "source": [
    "# 启动AutoCAD\n",
    "acad = Autocad(create_if_not_exists=True)"
   ]
  },
  {
   "cell_type": "markdown",
   "metadata": {},
   "source": [
    "# os.walk 遍历文件夹内dwg文件"
   ]
  },
  {
   "cell_type": "code",
   "execution_count": null,
   "metadata": {},
   "outputs": [],
   "source": [
    "# Define a function to find all .dwg files in a directory\n",
    "def find_dwg_files(file_folder):\n",
    "    dwg_files = []\n",
    "    for dirpath, dirnames, files in os.walk(file_folder):\n",
    "        for file_name in files:\n",
    "            if file_name.lower().endswith('.dwg'):\n",
    "                full_path = os.path.join(dirpath, file_name)\n",
    "                dwg_files.append(full_path)\n",
    "    return dwg_files"
   ]
  },
  {
   "cell_type": "markdown",
   "metadata": {},
   "source": [
    "# 定义字体"
   ]
  },
  {
   "cell_type": "code",
   "execution_count": null,
   "metadata": {},
   "outputs": [],
   "source": [
    "# 定义函数，替换字体\n",
    "def font_map(acad):\n",
    "    font_folder = r'C:\\Program Files\\Autodesk\\AutoCAD 2023\\Fonts'\n",
    "    font_list = os.listdir(font_folder)\n",
    "    text_styles = acad.doc.TextStyles\n",
    "    for style in text_styles:\n",
    "        if '|' not in style.Name:\n",
    "            if style.FontFile not in font_list:\n",
    "                style.FontFile = 'gbenor.shx'\n",
    "            if style.BigFontFile not in font_list:\n",
    "                style.BigFontFile = 'gbcbig.shx'\n"
   ]
  },
  {
   "cell_type": "markdown",
   "metadata": {},
   "source": [
    "# 图层相关操作"
   ]
  },
  {
   "cell_type": "code",
   "execution_count": null,
   "metadata": {},
   "outputs": [],
   "source": [
    "layers = acad.doc.Layers\n",
    "for layer in layers:\n",
    "    # 检查图层是否设置为不打印\n",
    "    print(layer.Name,layer.Color,layer.Linetype,layer.Plottable,layer.Linetype,layer.LayerOn,layer.Freeze,layer.Lock,layer.Description)"
   ]
  },
  {
   "cell_type": "markdown",
   "metadata": {},
   "source": [
    "# 天正相关内容"
   ]
  },
  {
   "cell_type": "markdown",
   "metadata": {},
   "source": [
    "## 引出标注"
   ]
  },
  {
   "cell_type": "code",
   "execution_count": null,
   "metadata": {},
   "outputs": [],
   "source": [
    "for layout in acad.doc.layouts:\n",
    "    for entity in layout.Block:\n",
    "        name = entity.EntityName\n",
    "        if name == 'TDbSymbMultiLeader':\n",
    "            print(entity.UpText,entity.DownText,entity.ArrowStyle,entity.ArrowSize,entity.Height) #上标文字，下标文字"
   ]
  },
  {
   "cell_type": "markdown",
   "metadata": {},
   "source": [
    "## 坐标标注"
   ]
  },
  {
   "cell_type": "code",
   "execution_count": null,
   "metadata": {},
   "outputs": [],
   "source": [
    "for layout in acad.doc.layouts:\n",
    "    for entity in layout.Block:\n",
    "        # print(entity.EntityName)\n",
    "        name = entity.EntityName\n",
    "        if name == 'TDbSymbCoord':\n",
    "            print((entity.Location)) #上标文字，下标文字"
   ]
  },
  {
   "cell_type": "code",
   "execution_count": null,
   "metadata": {},
   "outputs": [],
   "source": [
    "for entity in acad.iter_objects_fast():\n",
    "    # print(entity.EntityName)\n",
    "    name = entity.EntityName\n",
    "    if name == 'TDbSymbCoord':\n",
    "        print(entity.Location) #上标文字，下标文字"
   ]
  },
  {
   "cell_type": "code",
   "execution_count": null,
   "metadata": {},
   "outputs": [],
   "source": []
  },
  {
   "cell_type": "code",
   "execution_count": null,
   "metadata": {},
   "outputs": [],
   "source": []
  }
 ],
 "metadata": {
  "kernelspec": {
   "display_name": ".venv",
   "language": "python",
   "name": "python3"
  },
  "language_info": {
   "codemirror_mode": {
    "name": "ipython",
    "version": 3
   },
   "file_extension": ".py",
   "mimetype": "text/x-python",
   "name": "python",
   "nbconvert_exporter": "python",
   "pygments_lexer": "ipython3",
   "version": "3.10.5"
  }
 },
 "nbformat": 4,
 "nbformat_minor": 2
}
