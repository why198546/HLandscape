{
 "cells": [
  {
   "cell_type": "markdown",
   "metadata": {},
   "source": [
    "# Install the necessory packages: \n",
    "pyautocad,pywinauto"
   ]
  },
  {
   "cell_type": "code",
   "execution_count": null,
   "metadata": {},
   "outputs": [],
   "source": [
    "!pip install pywinauto"
   ]
  },
  {
   "cell_type": "code",
   "execution_count": 1,
   "metadata": {},
   "outputs": [],
   "source": [
    "import os\n",
    "import time\n",
    "import pandas as pd\n",
    "import re\n",
    "from pyautocad import Autocad\n"
   ]
  },
  {
   "cell_type": "code",
   "execution_count": 2,
   "metadata": {},
   "outputs": [],
   "source": [
    "file_path = r'W:\\python\\codes'\n",
    "project_name = '安康市汉江项目'"
   ]
  },
  {
   "cell_type": "code",
   "execution_count": 11,
   "metadata": {},
   "outputs": [],
   "source": [
    "acad = Autocad(create_if_not_exists=True)\n",
    "doc = acad.ActiveDocument"
   ]
  },
  {
   "cell_type": "code",
   "execution_count": 21,
   "metadata": {},
   "outputs": [
    {
     "ename": "MatchError",
     "evalue": "Could not find 'AutoCAD' in 'dict_keys(['HwndWrapper[DefaultDomain;;a4709191-ed8d-49ff-8f43-5a60bcc9b844]', 'Autodesk AutoCAD 2023 - [Drawing1.dwg]HwndWrapper[DefaultDomain;;a4709191-ed8d-49ff-8f43-5a60bcc9b844]', 'HwndWrapper[DefaultDomain;;d9535164-4fdf-4d23-8290-cad7050ac32e]', 'AfxMDIFrame140u', 'Autodesk AutoCAD 2023 - [Drawing1.dwg]', 'Autodesk AutoCAD 2023 - [Drawing1.dwg]AfxMDIFrame140u'])'",
     "output_type": "error",
     "traceback": [
      "\u001b[1;31m---------------------------------------------------------------------------\u001b[0m",
      "\u001b[1;31mTimeoutError\u001b[0m                              Traceback (most recent call last)",
      "File \u001b[1;32mc:\\Users\\why19\\anaconda3\\envs\\OD\\lib\\site-packages\\pywinauto\\application.py:250\u001b[0m, in \u001b[0;36mWindowSpecification.__resolve_control\u001b[1;34m(self, criteria, timeout, retry_interval)\u001b[0m\n\u001b[0;32m    249\u001b[0m \u001b[39mtry\u001b[39;00m:\n\u001b[1;32m--> 250\u001b[0m     ctrl \u001b[39m=\u001b[39m wait_until_passes(\n\u001b[0;32m    251\u001b[0m         timeout,\n\u001b[0;32m    252\u001b[0m         retry_interval,\n\u001b[0;32m    253\u001b[0m         \u001b[39mself\u001b[39;49m\u001b[39m.\u001b[39;49m__get_ctrl,\n\u001b[0;32m    254\u001b[0m         (findwindows\u001b[39m.\u001b[39;49mElementNotFoundError,\n\u001b[0;32m    255\u001b[0m          findbestmatch\u001b[39m.\u001b[39;49mMatchError,\n\u001b[0;32m    256\u001b[0m          controls\u001b[39m.\u001b[39;49mInvalidWindowHandle,\n\u001b[0;32m    257\u001b[0m          controls\u001b[39m.\u001b[39;49mInvalidElement),\n\u001b[0;32m    258\u001b[0m         criteria)\n\u001b[0;32m    260\u001b[0m \u001b[39mexcept\u001b[39;00m \u001b[39mTimeoutError\u001b[39;00m \u001b[39mas\u001b[39;00m e:\n",
      "File \u001b[1;32mc:\\Users\\why19\\anaconda3\\envs\\OD\\lib\\site-packages\\pywinauto\\timings.py:458\u001b[0m, in \u001b[0;36mwait_until_passes\u001b[1;34m(timeout, retry_interval, func, exceptions, *args, **kwargs)\u001b[0m\n\u001b[0;32m    457\u001b[0m             err\u001b[39m.\u001b[39moriginal_exception \u001b[39m=\u001b[39m e\n\u001b[1;32m--> 458\u001b[0m             \u001b[39mraise\u001b[39;00m err\n\u001b[0;32m    460\u001b[0m \u001b[39m# return the function value\u001b[39;00m\n",
      "\u001b[1;31mTimeoutError\u001b[0m: ",
      "\nDuring handling of the above exception, another exception occurred:\n",
      "\u001b[1;31mMatchError\u001b[0m                                Traceback (most recent call last)",
      "\u001b[1;32mwhy198546\\HLandscape\\2.PyAutocad\\ImageryInsertion.ipynb Cell 6\u001b[0m in \u001b[0;36m<cell line: 11>\u001b[1;34m()\u001b[0m\n\u001b[0;32m      <a href='vscode-notebook-cell://github%2B7b2276223a312c22726566223a7b2274797065223a342c226964223a2254657374696e67227d7d/why198546/HLandscape/2.PyAutocad/ImageryInsertion.ipynb#W3sdnNjb2RlLXZmcw%3D%3D?line=7'>8</a>\u001b[0m time\u001b[39m.\u001b[39msleep(\u001b[39m15\u001b[39m)\n\u001b[0;32m     <a href='vscode-notebook-cell://github%2B7b2276223a312c22726566223a7b2274797065223a342c226964223a2254657374696e67227d7d/why198546/HLandscape/2.PyAutocad/ImageryInsertion.ipynb#W3sdnNjb2RlLXZmcw%3D%3D?line=9'>10</a>\u001b[0m \u001b[39m# Send the command to insert an image\u001b[39;00m\n\u001b[1;32m---> <a href='vscode-notebook-cell://github%2B7b2276223a312c22726566223a7b2274797065223a342c226964223a2254657374696e67227d7d/why198546/HLandscape/2.PyAutocad/ImageryInsertion.ipynb#W3sdnNjb2RlLXZmcw%3D%3D?line=10'>11</a>\u001b[0m app\u001b[39m.\u001b[39;49mAutoCAD\u001b[39m.\u001b[39;49mtype_keys(\u001b[39m\"\u001b[39m\u001b[39mIMAGEATTACH\u001b[39m\u001b[39m\"\u001b[39m)\n\u001b[0;32m     <a href='vscode-notebook-cell://github%2B7b2276223a312c22726566223a7b2274797065223a342c226964223a2254657374696e67227d7d/why198546/HLandscape/2.PyAutocad/ImageryInsertion.ipynb#W3sdnNjb2RlLXZmcw%3D%3D?line=12'>13</a>\u001b[0m \u001b[39m# Wait for the dialog box to open\u001b[39;00m\n\u001b[0;32m     <a href='vscode-notebook-cell://github%2B7b2276223a312c22726566223a7b2274797065223a342c226964223a2254657374696e67227d7d/why198546/HLandscape/2.PyAutocad/ImageryInsertion.ipynb#W3sdnNjb2RlLXZmcw%3D%3D?line=13'>14</a>\u001b[0m time\u001b[39m.\u001b[39msleep(\u001b[39m10\u001b[39m)\n",
      "File \u001b[1;32mc:\\Users\\why19\\anaconda3\\envs\\OD\\lib\\site-packages\\pywinauto\\application.py:396\u001b[0m, in \u001b[0;36mWindowSpecification.__getattribute__\u001b[1;34m(self, attr_name)\u001b[0m\n\u001b[0;32m    393\u001b[0m     \u001b[39m# Probably there is no DialogWrapper for another backend\u001b[39;00m\n\u001b[0;32m    395\u001b[0m     \u001b[39mif\u001b[39;00m need_to_resolve:\n\u001b[1;32m--> 396\u001b[0m         ctrls \u001b[39m=\u001b[39m \u001b[39mself\u001b[39;49m\u001b[39m.\u001b[39;49m__resolve_control(\u001b[39mself\u001b[39;49m\u001b[39m.\u001b[39;49mcriteria)\n\u001b[0;32m    397\u001b[0m         \u001b[39mreturn\u001b[39;00m \u001b[39mgetattr\u001b[39m(ctrls[\u001b[39m-\u001b[39m\u001b[39m1\u001b[39m], attr_name)\n\u001b[0;32m    399\u001b[0m \u001b[39m# It is a dialog/control criterion so let getitem\u001b[39;00m\n\u001b[0;32m    400\u001b[0m \u001b[39m# deal with it\u001b[39;00m\n",
      "File \u001b[1;32mc:\\Users\\why19\\anaconda3\\envs\\OD\\lib\\site-packages\\pywinauto\\application.py:261\u001b[0m, in \u001b[0;36mWindowSpecification.__resolve_control\u001b[1;34m(self, criteria, timeout, retry_interval)\u001b[0m\n\u001b[0;32m    250\u001b[0m     ctrl \u001b[39m=\u001b[39m wait_until_passes(\n\u001b[0;32m    251\u001b[0m         timeout,\n\u001b[0;32m    252\u001b[0m         retry_interval,\n\u001b[1;32m   (...)\u001b[0m\n\u001b[0;32m    257\u001b[0m          controls\u001b[39m.\u001b[39mInvalidElement),\n\u001b[0;32m    258\u001b[0m         criteria)\n\u001b[0;32m    260\u001b[0m \u001b[39mexcept\u001b[39;00m \u001b[39mTimeoutError\u001b[39;00m \u001b[39mas\u001b[39;00m e:\n\u001b[1;32m--> 261\u001b[0m     \u001b[39mraise\u001b[39;00m e\u001b[39m.\u001b[39moriginal_exception\n\u001b[0;32m    263\u001b[0m \u001b[39mreturn\u001b[39;00m ctrl\n",
      "File \u001b[1;32mc:\\Users\\why19\\anaconda3\\envs\\OD\\lib\\site-packages\\pywinauto\\timings.py:436\u001b[0m, in \u001b[0;36mwait_until_passes\u001b[1;34m(timeout, retry_interval, func, exceptions, *args, **kwargs)\u001b[0m\n\u001b[0;32m    433\u001b[0m \u001b[39mwhile\u001b[39;00m \u001b[39mTrue\u001b[39;00m:\n\u001b[0;32m    434\u001b[0m     \u001b[39mtry\u001b[39;00m:\n\u001b[0;32m    435\u001b[0m         \u001b[39m# Call the function with any arguments\u001b[39;00m\n\u001b[1;32m--> 436\u001b[0m         func_val \u001b[39m=\u001b[39m func(\u001b[39m*\u001b[39;49margs, \u001b[39m*\u001b[39;49m\u001b[39m*\u001b[39;49mkwargs)\n\u001b[0;32m    438\u001b[0m         \u001b[39m# if no exception is raised then we are finished\u001b[39;00m\n\u001b[0;32m    439\u001b[0m         \u001b[39mbreak\u001b[39;00m\n",
      "File \u001b[1;32mc:\\Users\\why19\\anaconda3\\envs\\OD\\lib\\site-packages\\pywinauto\\application.py:203\u001b[0m, in \u001b[0;36mWindowSpecification.__get_ctrl\u001b[1;34m(self, criteria_)\u001b[0m\n\u001b[0;32m    201\u001b[0m     criteria[\u001b[39m0\u001b[39m][\u001b[39m'\u001b[39m\u001b[39mprocess\u001b[39m\u001b[39m'\u001b[39m] \u001b[39m=\u001b[39m \u001b[39mself\u001b[39m\u001b[39m.\u001b[39mapp\u001b[39m.\u001b[39mprocess\n\u001b[0;32m    202\u001b[0m     \u001b[39mdel\u001b[39;00m criteria[\u001b[39m0\u001b[39m][\u001b[39m'\u001b[39m\u001b[39mapp\u001b[39m\u001b[39m'\u001b[39m]\n\u001b[1;32m--> 203\u001b[0m dialog \u001b[39m=\u001b[39m \u001b[39mself\u001b[39m\u001b[39m.\u001b[39mbackend\u001b[39m.\u001b[39mgeneric_wrapper_class(findwindows\u001b[39m.\u001b[39;49mfind_element(\u001b[39m*\u001b[39;49m\u001b[39m*\u001b[39;49mcriteria[\u001b[39m0\u001b[39;49m]))\n\u001b[0;32m    205\u001b[0m ctrls \u001b[39m=\u001b[39m []\n\u001b[0;32m    206\u001b[0m \u001b[39m# if there is only criteria for a dialog then return it\u001b[39;00m\n",
      "File \u001b[1;32mc:\\Users\\why19\\anaconda3\\envs\\OD\\lib\\site-packages\\pywinauto\\findwindows.py:84\u001b[0m, in \u001b[0;36mfind_element\u001b[1;34m(**kwargs)\u001b[0m\n\u001b[0;32m     77\u001b[0m \u001b[39mdef\u001b[39;00m \u001b[39mfind_element\u001b[39m(\u001b[39m*\u001b[39m\u001b[39m*\u001b[39mkwargs):\n\u001b[0;32m     78\u001b[0m     \u001b[39m\"\"\"\u001b[39;00m\n\u001b[0;32m     79\u001b[0m \u001b[39m    Call find_elements and ensure that only one element is returned\u001b[39;00m\n\u001b[0;32m     80\u001b[0m \n\u001b[0;32m     81\u001b[0m \u001b[39m    Calls find_elements with exactly the same arguments as it is called with\u001b[39;00m\n\u001b[0;32m     82\u001b[0m \u001b[39m    so please see :py:func:`find_elements` for the full parameters description.\u001b[39;00m\n\u001b[0;32m     83\u001b[0m \u001b[39m    \"\"\"\u001b[39;00m\n\u001b[1;32m---> 84\u001b[0m     elements \u001b[39m=\u001b[39m find_elements(\u001b[39m*\u001b[39;49m\u001b[39m*\u001b[39;49mkwargs)\n\u001b[0;32m     86\u001b[0m     \u001b[39mif\u001b[39;00m \u001b[39mnot\u001b[39;00m elements:\n\u001b[0;32m     87\u001b[0m         \u001b[39mraise\u001b[39;00m ElementNotFoundError(kwargs)\n",
      "File \u001b[1;32mc:\\Users\\why19\\anaconda3\\envs\\OD\\lib\\site-packages\\pywinauto\\findwindows.py:305\u001b[0m, in \u001b[0;36mfind_elements\u001b[1;34m(class_name, class_name_re, parent, process, title, title_re, top_level_only, visible_only, enabled_only, best_match, handle, ctrl_index, found_index, predicate_func, active_only, control_id, control_type, auto_id, framework_id, backend, depth)\u001b[0m\n\u001b[0;32m    300\u001b[0m     \u001b[39mexcept\u001b[39;00m (controls\u001b[39m.\u001b[39mInvalidWindowHandle,\n\u001b[0;32m    301\u001b[0m             controls\u001b[39m.\u001b[39mInvalidElement):\n\u001b[0;32m    302\u001b[0m         \u001b[39m# skip invalid handles - they have dissapeared\u001b[39;00m\n\u001b[0;32m    303\u001b[0m         \u001b[39m# since the list of elements was retrieved\u001b[39;00m\n\u001b[0;32m    304\u001b[0m         \u001b[39mcontinue\u001b[39;00m\n\u001b[1;32m--> 305\u001b[0m elements \u001b[39m=\u001b[39m findbestmatch\u001b[39m.\u001b[39;49mfind_best_control_matches(best_match, wrapped_elems)\n\u001b[0;32m    307\u001b[0m \u001b[39m# convert found elements back to ElementInfo\u001b[39;00m\n\u001b[0;32m    308\u001b[0m backup_elements \u001b[39m=\u001b[39m elements[:]\n",
      "File \u001b[1;32mc:\\Users\\why19\\anaconda3\\envs\\OD\\lib\\site-packages\\pywinauto\\findbestmatch.py:536\u001b[0m, in \u001b[0;36mfind_best_control_matches\u001b[1;34m(search_text, controls)\u001b[0m\n\u001b[0;32m    533\u001b[0m     best_texts \u001b[39m=\u001b[39m best_texts_clean_ci\n\u001b[0;32m    535\u001b[0m \u001b[39mif\u001b[39;00m best_ratio \u001b[39m<\u001b[39m find_best_control_match_cutoff:\n\u001b[1;32m--> 536\u001b[0m     \u001b[39mraise\u001b[39;00m MatchError(items \u001b[39m=\u001b[39m name_control_map\u001b[39m.\u001b[39mkeys(), tofind \u001b[39m=\u001b[39m search_text)\n\u001b[0;32m    538\u001b[0m \u001b[39mreturn\u001b[39;00m [name_control_map[best_text] \u001b[39mfor\u001b[39;00m best_text \u001b[39min\u001b[39;00m best_texts]\n",
      "\u001b[1;31mMatchError\u001b[0m: Could not find 'AutoCAD' in 'dict_keys(['HwndWrapper[DefaultDomain;;a4709191-ed8d-49ff-8f43-5a60bcc9b844]', 'Autodesk AutoCAD 2023 - [Drawing1.dwg]HwndWrapper[DefaultDomain;;a4709191-ed8d-49ff-8f43-5a60bcc9b844]', 'HwndWrapper[DefaultDomain;;d9535164-4fdf-4d23-8290-cad7050ac32e]', 'AfxMDIFrame140u', 'Autodesk AutoCAD 2023 - [Drawing1.dwg]', 'Autodesk AutoCAD 2023 - [Drawing1.dwg]AfxMDIFrame140u'])'"
     ]
    }
   ],
   "source": [
    "from pywinauto.application import Application\n",
    "import time\n",
    "\n",
    "# Start AutoCAD\n",
    "app = Application().start(r'C:\\Program Files\\Autodesk\\AutoCAD 2023\\acad.exe')\n",
    "\n",
    "# Wait for the application to load\n",
    "time.sleep(15)\n"
   ]
  },
  {
   "cell_type": "code",
   "execution_count": 22,
   "metadata": {},
   "outputs": [
    {
     "ename": "MatchError",
     "evalue": "Could not find 'AutoCAD' in 'dict_keys(['HwndWrapper[DefaultDomain;;a4709191-ed8d-49ff-8f43-5a60bcc9b844]', 'Autodesk AutoCAD 2023 - [Drawing1.dwg]HwndWrapper[DefaultDomain;;a4709191-ed8d-49ff-8f43-5a60bcc9b844]', 'AfxMDIFrame140u', 'Autodesk AutoCAD 2023 - [Drawing1.dwg]', 'Autodesk AutoCAD 2023 - [Drawing1.dwg]AfxMDIFrame140u'])'",
     "output_type": "error",
     "traceback": [
      "\u001b[1;31m---------------------------------------------------------------------------\u001b[0m",
      "\u001b[1;31mTimeoutError\u001b[0m                              Traceback (most recent call last)",
      "File \u001b[1;32mc:\\Users\\why19\\anaconda3\\envs\\OD\\lib\\site-packages\\pywinauto\\application.py:250\u001b[0m, in \u001b[0;36mWindowSpecification.__resolve_control\u001b[1;34m(self, criteria, timeout, retry_interval)\u001b[0m\n\u001b[0;32m    249\u001b[0m \u001b[39mtry\u001b[39;00m:\n\u001b[1;32m--> 250\u001b[0m     ctrl \u001b[39m=\u001b[39m wait_until_passes(\n\u001b[0;32m    251\u001b[0m         timeout,\n\u001b[0;32m    252\u001b[0m         retry_interval,\n\u001b[0;32m    253\u001b[0m         \u001b[39mself\u001b[39;49m\u001b[39m.\u001b[39;49m__get_ctrl,\n\u001b[0;32m    254\u001b[0m         (findwindows\u001b[39m.\u001b[39;49mElementNotFoundError,\n\u001b[0;32m    255\u001b[0m          findbestmatch\u001b[39m.\u001b[39;49mMatchError,\n\u001b[0;32m    256\u001b[0m          controls\u001b[39m.\u001b[39;49mInvalidWindowHandle,\n\u001b[0;32m    257\u001b[0m          controls\u001b[39m.\u001b[39;49mInvalidElement),\n\u001b[0;32m    258\u001b[0m         criteria)\n\u001b[0;32m    260\u001b[0m \u001b[39mexcept\u001b[39;00m \u001b[39mTimeoutError\u001b[39;00m \u001b[39mas\u001b[39;00m e:\n",
      "File \u001b[1;32mc:\\Users\\why19\\anaconda3\\envs\\OD\\lib\\site-packages\\pywinauto\\timings.py:458\u001b[0m, in \u001b[0;36mwait_until_passes\u001b[1;34m(timeout, retry_interval, func, exceptions, *args, **kwargs)\u001b[0m\n\u001b[0;32m    457\u001b[0m             err\u001b[39m.\u001b[39moriginal_exception \u001b[39m=\u001b[39m e\n\u001b[1;32m--> 458\u001b[0m             \u001b[39mraise\u001b[39;00m err\n\u001b[0;32m    460\u001b[0m \u001b[39m# return the function value\u001b[39;00m\n",
      "\u001b[1;31mTimeoutError\u001b[0m: ",
      "\nDuring handling of the above exception, another exception occurred:\n",
      "\u001b[1;31mMatchError\u001b[0m                                Traceback (most recent call last)",
      "\u001b[1;32mwhy198546\\HLandscape\\2.PyAutocad\\ImageryInsertion.ipynb Cell 7\u001b[0m in \u001b[0;36m<cell line: 2>\u001b[1;34m()\u001b[0m\n\u001b[0;32m      <a href='vscode-notebook-cell://github%2B7b2276223a312c22726566223a7b2274797065223a342c226964223a2254657374696e67227d7d/why198546/HLandscape/2.PyAutocad/ImageryInsertion.ipynb#X12sdnNjb2RlLXZmcw%3D%3D?line=0'>1</a>\u001b[0m \u001b[39m# Send the command to insert an image\u001b[39;00m\n\u001b[1;32m----> <a href='vscode-notebook-cell://github%2B7b2276223a312c22726566223a7b2274797065223a342c226964223a2254657374696e67227d7d/why198546/HLandscape/2.PyAutocad/ImageryInsertion.ipynb#X12sdnNjb2RlLXZmcw%3D%3D?line=1'>2</a>\u001b[0m app\u001b[39m.\u001b[39;49mAutoCAD\u001b[39m.\u001b[39;49mtype_keys(\u001b[39m\"\u001b[39m\u001b[39mIMAGEATTACH\u001b[39m\u001b[39m\"\u001b[39m)\n",
      "File \u001b[1;32mc:\\Users\\why19\\anaconda3\\envs\\OD\\lib\\site-packages\\pywinauto\\application.py:396\u001b[0m, in \u001b[0;36mWindowSpecification.__getattribute__\u001b[1;34m(self, attr_name)\u001b[0m\n\u001b[0;32m    393\u001b[0m     \u001b[39m# Probably there is no DialogWrapper for another backend\u001b[39;00m\n\u001b[0;32m    395\u001b[0m     \u001b[39mif\u001b[39;00m need_to_resolve:\n\u001b[1;32m--> 396\u001b[0m         ctrls \u001b[39m=\u001b[39m \u001b[39mself\u001b[39;49m\u001b[39m.\u001b[39;49m__resolve_control(\u001b[39mself\u001b[39;49m\u001b[39m.\u001b[39;49mcriteria)\n\u001b[0;32m    397\u001b[0m         \u001b[39mreturn\u001b[39;00m \u001b[39mgetattr\u001b[39m(ctrls[\u001b[39m-\u001b[39m\u001b[39m1\u001b[39m], attr_name)\n\u001b[0;32m    399\u001b[0m \u001b[39m# It is a dialog/control criterion so let getitem\u001b[39;00m\n\u001b[0;32m    400\u001b[0m \u001b[39m# deal with it\u001b[39;00m\n",
      "File \u001b[1;32mc:\\Users\\why19\\anaconda3\\envs\\OD\\lib\\site-packages\\pywinauto\\application.py:261\u001b[0m, in \u001b[0;36mWindowSpecification.__resolve_control\u001b[1;34m(self, criteria, timeout, retry_interval)\u001b[0m\n\u001b[0;32m    250\u001b[0m     ctrl \u001b[39m=\u001b[39m wait_until_passes(\n\u001b[0;32m    251\u001b[0m         timeout,\n\u001b[0;32m    252\u001b[0m         retry_interval,\n\u001b[1;32m   (...)\u001b[0m\n\u001b[0;32m    257\u001b[0m          controls\u001b[39m.\u001b[39mInvalidElement),\n\u001b[0;32m    258\u001b[0m         criteria)\n\u001b[0;32m    260\u001b[0m \u001b[39mexcept\u001b[39;00m \u001b[39mTimeoutError\u001b[39;00m \u001b[39mas\u001b[39;00m e:\n\u001b[1;32m--> 261\u001b[0m     \u001b[39mraise\u001b[39;00m e\u001b[39m.\u001b[39moriginal_exception\n\u001b[0;32m    263\u001b[0m \u001b[39mreturn\u001b[39;00m ctrl\n",
      "File \u001b[1;32mc:\\Users\\why19\\anaconda3\\envs\\OD\\lib\\site-packages\\pywinauto\\timings.py:436\u001b[0m, in \u001b[0;36mwait_until_passes\u001b[1;34m(timeout, retry_interval, func, exceptions, *args, **kwargs)\u001b[0m\n\u001b[0;32m    433\u001b[0m \u001b[39mwhile\u001b[39;00m \u001b[39mTrue\u001b[39;00m:\n\u001b[0;32m    434\u001b[0m     \u001b[39mtry\u001b[39;00m:\n\u001b[0;32m    435\u001b[0m         \u001b[39m# Call the function with any arguments\u001b[39;00m\n\u001b[1;32m--> 436\u001b[0m         func_val \u001b[39m=\u001b[39m func(\u001b[39m*\u001b[39;49margs, \u001b[39m*\u001b[39;49m\u001b[39m*\u001b[39;49mkwargs)\n\u001b[0;32m    438\u001b[0m         \u001b[39m# if no exception is raised then we are finished\u001b[39;00m\n\u001b[0;32m    439\u001b[0m         \u001b[39mbreak\u001b[39;00m\n",
      "File \u001b[1;32mc:\\Users\\why19\\anaconda3\\envs\\OD\\lib\\site-packages\\pywinauto\\application.py:203\u001b[0m, in \u001b[0;36mWindowSpecification.__get_ctrl\u001b[1;34m(self, criteria_)\u001b[0m\n\u001b[0;32m    201\u001b[0m     criteria[\u001b[39m0\u001b[39m][\u001b[39m'\u001b[39m\u001b[39mprocess\u001b[39m\u001b[39m'\u001b[39m] \u001b[39m=\u001b[39m \u001b[39mself\u001b[39m\u001b[39m.\u001b[39mapp\u001b[39m.\u001b[39mprocess\n\u001b[0;32m    202\u001b[0m     \u001b[39mdel\u001b[39;00m criteria[\u001b[39m0\u001b[39m][\u001b[39m'\u001b[39m\u001b[39mapp\u001b[39m\u001b[39m'\u001b[39m]\n\u001b[1;32m--> 203\u001b[0m dialog \u001b[39m=\u001b[39m \u001b[39mself\u001b[39m\u001b[39m.\u001b[39mbackend\u001b[39m.\u001b[39mgeneric_wrapper_class(findwindows\u001b[39m.\u001b[39;49mfind_element(\u001b[39m*\u001b[39;49m\u001b[39m*\u001b[39;49mcriteria[\u001b[39m0\u001b[39;49m]))\n\u001b[0;32m    205\u001b[0m ctrls \u001b[39m=\u001b[39m []\n\u001b[0;32m    206\u001b[0m \u001b[39m# if there is only criteria for a dialog then return it\u001b[39;00m\n",
      "File \u001b[1;32mc:\\Users\\why19\\anaconda3\\envs\\OD\\lib\\site-packages\\pywinauto\\findwindows.py:84\u001b[0m, in \u001b[0;36mfind_element\u001b[1;34m(**kwargs)\u001b[0m\n\u001b[0;32m     77\u001b[0m \u001b[39mdef\u001b[39;00m \u001b[39mfind_element\u001b[39m(\u001b[39m*\u001b[39m\u001b[39m*\u001b[39mkwargs):\n\u001b[0;32m     78\u001b[0m     \u001b[39m\"\"\"\u001b[39;00m\n\u001b[0;32m     79\u001b[0m \u001b[39m    Call find_elements and ensure that only one element is returned\u001b[39;00m\n\u001b[0;32m     80\u001b[0m \n\u001b[0;32m     81\u001b[0m \u001b[39m    Calls find_elements with exactly the same arguments as it is called with\u001b[39;00m\n\u001b[0;32m     82\u001b[0m \u001b[39m    so please see :py:func:`find_elements` for the full parameters description.\u001b[39;00m\n\u001b[0;32m     83\u001b[0m \u001b[39m    \"\"\"\u001b[39;00m\n\u001b[1;32m---> 84\u001b[0m     elements \u001b[39m=\u001b[39m find_elements(\u001b[39m*\u001b[39;49m\u001b[39m*\u001b[39;49mkwargs)\n\u001b[0;32m     86\u001b[0m     \u001b[39mif\u001b[39;00m \u001b[39mnot\u001b[39;00m elements:\n\u001b[0;32m     87\u001b[0m         \u001b[39mraise\u001b[39;00m ElementNotFoundError(kwargs)\n",
      "File \u001b[1;32mc:\\Users\\why19\\anaconda3\\envs\\OD\\lib\\site-packages\\pywinauto\\findwindows.py:305\u001b[0m, in \u001b[0;36mfind_elements\u001b[1;34m(class_name, class_name_re, parent, process, title, title_re, top_level_only, visible_only, enabled_only, best_match, handle, ctrl_index, found_index, predicate_func, active_only, control_id, control_type, auto_id, framework_id, backend, depth)\u001b[0m\n\u001b[0;32m    300\u001b[0m     \u001b[39mexcept\u001b[39;00m (controls\u001b[39m.\u001b[39mInvalidWindowHandle,\n\u001b[0;32m    301\u001b[0m             controls\u001b[39m.\u001b[39mInvalidElement):\n\u001b[0;32m    302\u001b[0m         \u001b[39m# skip invalid handles - they have dissapeared\u001b[39;00m\n\u001b[0;32m    303\u001b[0m         \u001b[39m# since the list of elements was retrieved\u001b[39;00m\n\u001b[0;32m    304\u001b[0m         \u001b[39mcontinue\u001b[39;00m\n\u001b[1;32m--> 305\u001b[0m elements \u001b[39m=\u001b[39m findbestmatch\u001b[39m.\u001b[39;49mfind_best_control_matches(best_match, wrapped_elems)\n\u001b[0;32m    307\u001b[0m \u001b[39m# convert found elements back to ElementInfo\u001b[39;00m\n\u001b[0;32m    308\u001b[0m backup_elements \u001b[39m=\u001b[39m elements[:]\n",
      "File \u001b[1;32mc:\\Users\\why19\\anaconda3\\envs\\OD\\lib\\site-packages\\pywinauto\\findbestmatch.py:536\u001b[0m, in \u001b[0;36mfind_best_control_matches\u001b[1;34m(search_text, controls)\u001b[0m\n\u001b[0;32m    533\u001b[0m     best_texts \u001b[39m=\u001b[39m best_texts_clean_ci\n\u001b[0;32m    535\u001b[0m \u001b[39mif\u001b[39;00m best_ratio \u001b[39m<\u001b[39m find_best_control_match_cutoff:\n\u001b[1;32m--> 536\u001b[0m     \u001b[39mraise\u001b[39;00m MatchError(items \u001b[39m=\u001b[39m name_control_map\u001b[39m.\u001b[39mkeys(), tofind \u001b[39m=\u001b[39m search_text)\n\u001b[0;32m    538\u001b[0m \u001b[39mreturn\u001b[39;00m [name_control_map[best_text] \u001b[39mfor\u001b[39;00m best_text \u001b[39min\u001b[39;00m best_texts]\n",
      "\u001b[1;31mMatchError\u001b[0m: Could not find 'AutoCAD' in 'dict_keys(['HwndWrapper[DefaultDomain;;a4709191-ed8d-49ff-8f43-5a60bcc9b844]', 'Autodesk AutoCAD 2023 - [Drawing1.dwg]HwndWrapper[DefaultDomain;;a4709191-ed8d-49ff-8f43-5a60bcc9b844]', 'AfxMDIFrame140u', 'Autodesk AutoCAD 2023 - [Drawing1.dwg]', 'Autodesk AutoCAD 2023 - [Drawing1.dwg]AfxMDIFrame140u'])'"
     ]
    }
   ],
   "source": [
    "\n",
    "# Send the command to insert an image\n",
    "app.AutoCAD.type_keys(\"IMAGEATTACH\")\n"
   ]
  },
  {
   "cell_type": "code",
   "execution_count": null,
   "metadata": {},
   "outputs": [],
   "source": [
    "\n",
    "# Wait for the dialog box to open\n",
    "time.sleep(10)\n",
    "\n",
    "# Enter the file name and insert\n",
    "app.Open.Edit.SetText(\"path_to_your_image_file\")\n",
    "app.Open.Open.Click()"
   ]
  },
  {
   "cell_type": "code",
   "execution_count": 16,
   "metadata": {},
   "outputs": [
    {
     "name": "stdout",
     "output_type": "stream",
     "text": [
      "Collecting pywinauto\n",
      "  Downloading pywinauto-0.6.8-py2.py3-none-any.whl (362 kB)\n",
      "     ------------------------------------ 362.9/362.9 kB 778.5 kB/s eta 0:00:00\n",
      "Requirement already satisfied: pywin32 in c:\\users\\why19\\anaconda3\\envs\\od\\lib\\site-packages (from pywinauto) (303)\n",
      "Requirement already satisfied: comtypes in c:\\users\\why19\\anaconda3\\envs\\od\\lib\\site-packages (from pywinauto) (1.1.14)\n",
      "Requirement already satisfied: six in c:\\users\\why19\\anaconda3\\envs\\od\\lib\\site-packages (from pywinauto) (1.16.0)\n",
      "Installing collected packages: pywinauto\n",
      "Successfully installed pywinauto-0.6.8\n"
     ]
    }
   ],
   "source": []
  },
  {
   "cell_type": "code",
   "execution_count": null,
   "metadata": {},
   "outputs": [],
   "source": []
  }
 ],
 "metadata": {
  "kernelspec": {
   "display_name": "OD",
   "language": "python",
   "name": "python3"
  },
  "language_info": {
   "codemirror_mode": {
    "name": "ipython",
    "version": 3
   },
   "file_extension": ".py",
   "mimetype": "text/x-python",
   "name": "python",
   "nbconvert_exporter": "python",
   "pygments_lexer": "ipython3",
   "version": "3.8.13"
  },
  "orig_nbformat": 4
 },
 "nbformat": 4,
 "nbformat_minor": 2
}
