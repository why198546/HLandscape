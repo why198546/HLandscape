{
 "cells": [
  {
   "cell_type": "markdown",
   "metadata": {},
   "source": [
    "# pyautocad加载cad"
   ]
  },
  {
   "cell_type": "code",
   "execution_count": 59,
   "metadata": {},
   "outputs": [],
   "source": [
    "# Set autocad environment and set an empty list to store material name\n",
    "from pyautocad import Autocad,APoint\n",
    "pacad = Autocad(create_if_not_exists=True)"
   ]
  },
  {
   "cell_type": "code",
   "execution_count": 61,
   "metadata": {},
   "outputs": [],
   "source": [
    "import win32com.client as wc\n",
    "import pythoncom as p\n",
    "acad = wc.Dispatch(\"AutoCAD.Application\")\n",
    "acadDoc = acad.ActiveDocument\n",
    "acadModel = acad.ActiveDocument.ModelSpace"
   ]
  },
  {
   "cell_type": "markdown",
   "metadata": {},
   "source": [
    "How to seperate into multiple layouts?\n",
    "一些设计师总喜欢将多个视口布置到一个布局中，然后一个个框选打印。这样就无法利用到图纸集相关的功能，比如批量打印，批量导出PDF等。所以，我们需要将多个视口分离到不同的布局中，这样才能利用到图纸集的功能。\n",
    "这个脚本就是用来将多个视口分离到不同的布局中的。\n"
   ]
  },
  {
   "cell_type": "code",
   "execution_count": null,
   "metadata": {},
   "outputs": [],
   "source": [
    "获取每个视口的位置、尺寸\n",
    "获取选择集\n",
    "每个选择集放到一个布局\n",
    "检测每个布局是否有且只有一个图名标注\n",
    "命名布局\n",
    "保存cad\n"
   ]
  },
  {
   "cell_type": "markdown",
   "metadata": {},
   "source": [
    "# 获取每个图框的位置，尺寸，并进行框选"
   ]
  },
  {
   "cell_type": "code",
   "execution_count": 7,
   "metadata": {},
   "outputs": [],
   "source": [
    "def is_title_block(obj):\n",
    "    return obj.ObjectName == 'AcDbBlockReference' and obj.Name in ['A1', 'A2', 'A0']"
   ]
  },
  {
   "cell_type": "code",
   "execution_count": 60,
   "metadata": {},
   "outputs": [
    {
     "ename": "NameError",
     "evalue": "Name GeometricExtents not found",
     "output_type": "error",
     "traceback": [
      "\u001b[1;31m---------------------------------------------------------------------------\u001b[0m",
      "\u001b[1;31mKeyError\u001b[0m                                  Traceback (most recent call last)",
      "File \u001b[1;32mc:\\Users\\why19\\anaconda3\\envs\\OD\\lib\\site-packages\\comtypes\\client\\lazybind.py:123\u001b[0m, in \u001b[0;36mDispatch.__bind\u001b[1;34m(self, name, invkind)\u001b[0m\n\u001b[0;32m    122\u001b[0m \u001b[39mtry\u001b[39;00m:\n\u001b[1;32m--> 123\u001b[0m     \u001b[39mreturn\u001b[39;00m \u001b[39mself\u001b[39;49m\u001b[39m.\u001b[39;49m_tdesc[(name, invkind)]\n\u001b[0;32m    124\u001b[0m \u001b[39mexcept\u001b[39;00m \u001b[39mKeyError\u001b[39;00m:\n",
      "\u001b[1;31mKeyError\u001b[0m: ('GeometricExtents', 3)",
      "\nDuring handling of the above exception, another exception occurred:\n",
      "\u001b[1;31mNameError\u001b[0m                                 Traceback (most recent call last)",
      "\u001b[1;32mwhy198546\\HLandscape\\2.PyAutocad\\seperateLayouts.ipynb Cell 7\u001b[0m in \u001b[0;36m<cell line: 2>\u001b[1;34m()\u001b[0m\n\u001b[0;32m      <a href='vscode-notebook-cell://github%2B7b2276223a312c22726566223a7b2274797065223a342c226964223a2254657374696e67227d7d/why198546/HLandscape/2.PyAutocad/seperateLayouts.ipynb#W6sdnNjb2RlLXZmcw%3D%3D?line=1'>2</a>\u001b[0m \u001b[39mfor\u001b[39;00m obj \u001b[39min\u001b[39;00m acad\u001b[39m.\u001b[39miter_objects_fast(\u001b[39m'\u001b[39m\u001b[39mAcDbBlockReference\u001b[39m\u001b[39m'\u001b[39m):\n\u001b[0;32m      <a href='vscode-notebook-cell://github%2B7b2276223a312c22726566223a7b2274797065223a342c226964223a2254657374696e67227d7d/why198546/HLandscape/2.PyAutocad/seperateLayouts.ipynb#W6sdnNjb2RlLXZmcw%3D%3D?line=2'>3</a>\u001b[0m     \u001b[39mif\u001b[39;00m is_title_block(obj):\n\u001b[0;32m      <a href='vscode-notebook-cell://github%2B7b2276223a312c22726566223a7b2274797065223a342c226964223a2254657374696e67227d7d/why198546/HLandscape/2.PyAutocad/seperateLayouts.ipynb#W6sdnNjb2RlLXZmcw%3D%3D?line=3'>4</a>\u001b[0m         \u001b[39m# 获取图框的位置和尺寸\u001b[39;00m\n\u001b[1;32m----> <a href='vscode-notebook-cell://github%2B7b2276223a312c22726566223a7b2274797065223a342c226964223a2254657374696e67227d7d/why198546/HLandscape/2.PyAutocad/seperateLayouts.ipynb#W6sdnNjb2RlLXZmcw%3D%3D?line=4'>5</a>\u001b[0m         \u001b[39mprint\u001b[39m(\u001b[39m'\u001b[39m\u001b[39mMin point: \u001b[39m\u001b[39m'\u001b[39m, obj\u001b[39m.\u001b[39mInsertionPoint,obj\u001b[39m.\u001b[39;49mGeometricExtents)\n",
      "File \u001b[1;32mc:\\Users\\why19\\anaconda3\\envs\\OD\\lib\\site-packages\\comtypes\\client\\lazybind.py:161\u001b[0m, in \u001b[0;36mDispatch.__getattr__\u001b[1;34m(self, name)\u001b[0m\n\u001b[0;32m    159\u001b[0m     \u001b[39mraise\u001b[39;00m \u001b[39mAttributeError\u001b[39;00m(name)\n\u001b[0;32m    160\u001b[0m \u001b[39m# check for propget or method\u001b[39;00m\n\u001b[1;32m--> 161\u001b[0m descr \u001b[39m=\u001b[39m \u001b[39mself\u001b[39;49m\u001b[39m.\u001b[39;49m__bind(name, DISPATCH_METHOD \u001b[39m|\u001b[39;49m DISPATCH_PROPERTYGET)\n\u001b[0;32m    162\u001b[0m \u001b[39mif\u001b[39;00m descr \u001b[39mis\u001b[39;00m \u001b[39mNone\u001b[39;00m:\n\u001b[0;32m    163\u001b[0m     \u001b[39mraise\u001b[39;00m \u001b[39mAttributeError\u001b[39;00m(name)\n",
      "File \u001b[1;32mc:\\Users\\why19\\anaconda3\\envs\\OD\\lib\\site-packages\\comtypes\\client\\lazybind.py:126\u001b[0m, in \u001b[0;36mDispatch.__bind\u001b[1;34m(self, name, invkind)\u001b[0m\n\u001b[0;32m    124\u001b[0m \u001b[39mexcept\u001b[39;00m \u001b[39mKeyError\u001b[39;00m:\n\u001b[0;32m    125\u001b[0m     \u001b[39mtry\u001b[39;00m:\n\u001b[1;32m--> 126\u001b[0m         descr \u001b[39m=\u001b[39m \u001b[39mself\u001b[39;49m\u001b[39m.\u001b[39;49m_tcomp\u001b[39m.\u001b[39;49mBind(name, invkind)[\u001b[39m1\u001b[39m]\n\u001b[0;32m    127\u001b[0m     \u001b[39mexcept\u001b[39;00m comtypes\u001b[39m.\u001b[39mCOMError:\n\u001b[0;32m    128\u001b[0m         info \u001b[39m=\u001b[39m \u001b[39mNone\u001b[39;00m\n",
      "File \u001b[1;32mc:\\Users\\why19\\anaconda3\\envs\\OD\\lib\\site-packages\\comtypes\\typeinfo.py:366\u001b[0m, in \u001b[0;36mITypeComp.Bind\u001b[1;34m(self, name, flags, lHashVal)\u001b[0m\n\u001b[0;32m    364\u001b[0m     \u001b[39mraise\u001b[39;00m \u001b[39mNotImplementedError\u001b[39;00m\n\u001b[0;32m    365\u001b[0m \u001b[39melif\u001b[39;00m kind \u001b[39m==\u001b[39m DESCKIND_NONE:\n\u001b[1;32m--> 366\u001b[0m     \u001b[39mraise\u001b[39;00m \u001b[39mNameError\u001b[39;00m(\u001b[39m\"\u001b[39m\u001b[39mName \u001b[39m\u001b[39m%s\u001b[39;00m\u001b[39m not found\u001b[39m\u001b[39m\"\u001b[39m \u001b[39m%\u001b[39m name)\n",
      "\u001b[1;31mNameError\u001b[0m: Name GeometricExtents not found"
     ]
    }
   ],
   "source": [
    "doc = pacad.ActiveDocument\n",
    "for obj in acad.iter_objects_fast('AcDbBlockReference'):\n",
    "    if is_title_block(obj):\n",
    "        # 获取图框的位置和尺寸\n",
    "        print('Min point: ', obj.InsertionPoint,obj.GeometricExtents)\n",
    "        # print('Max point: ', obj.GeometricExtents.MaxPoint)\n"
   ]
  },
  {
   "cell_type": "markdown",
   "metadata": {},
   "source": [
    "# 定义框选范围"
   ]
  },
  {
   "cell_type": "code",
   "execution_count": null,
   "metadata": {},
   "outputs": [],
   "source": [
    "points = [obj.GeometricExtents.MinPoint,\n",
    "          APoint(obj.GeometricExtents.MinPoint.X, obj.GeometricExtents.MaxPoint.Y),\n",
    "          obj.GeometricExtents.MaxPoint,\n",
    "          APoint(obj.GeometricExtents.MaxPoint.X, obj.GeometricExtents.MinPoint.Y),\n",
    "          obj.GeometricExtents.MinPoint]\n",
    "\n",
    "acad.model.SelectByPolygon(points)"
   ]
  },
  {
   "cell_type": "code",
   "execution_count": 18,
   "metadata": {},
   "outputs": [],
   "source": [
    "page_size = {'A2': [597, 420], 'A1': [841, 597], 'A0': [1189, 841], 'A3': [420, 298], 'A4': [298, 210]}\n"
   ]
  },
  {
   "cell_type": "code",
   "execution_count": 20,
   "metadata": {},
   "outputs": [],
   "source": [
    "pt1 = APoint(0, 0)"
   ]
  },
  {
   "cell_type": "code",
   "execution_count": 55,
   "metadata": {},
   "outputs": [],
   "source": [
    "pt2 = APoint([a+b for a,b in zip(list(pt1), page_size['A0'] + [0])])\n"
   ]
  },
  {
   "cell_type": "code",
   "execution_count": 64,
   "metadata": {},
   "outputs": [
    {
     "ename": "AttributeError",
     "evalue": "<unknown>.SelectByPolygon",
     "output_type": "error",
     "traceback": [
      "\u001b[1;31m---------------------------------------------------------------------------\u001b[0m",
      "\u001b[1;31mAttributeError\u001b[0m                            Traceback (most recent call last)",
      "\u001b[1;32mwhy198546\\HLandscape\\2.PyAutocad\\seperateLayouts.ipynb Cell 14\u001b[0m in \u001b[0;36m<cell line: 1>\u001b[1;34m()\u001b[0m\n\u001b[1;32m----> <a href='vscode-notebook-cell://github%2B7b2276223a312c22726566223a7b2274797065223a342c226964223a2254657374696e67227d7d/why198546/HLandscape/2.PyAutocad/seperateLayouts.ipynb#X30sdnNjb2RlLXZmcw%3D%3D?line=0'>1</a>\u001b[0m acadModel\u001b[39m.\u001b[39;49mSelectByPolygon(pt1,pt2)\n",
      "File \u001b[1;32mc:\\Users\\why19\\anaconda3\\envs\\OD\\lib\\site-packages\\win32com\\client\\dynamic.py:639\u001b[0m, in \u001b[0;36mCDispatch.__getattr__\u001b[1;34m(self, attr)\u001b[0m\n\u001b[0;32m    636\u001b[0m     \u001b[39mreturn\u001b[39;00m \u001b[39mself\u001b[39m\u001b[39m.\u001b[39m_get_good_object_(ret)\n\u001b[0;32m    638\u001b[0m \u001b[39m# no where else to look.\u001b[39;00m\n\u001b[1;32m--> 639\u001b[0m \u001b[39mraise\u001b[39;00m \u001b[39mAttributeError\u001b[39;00m(\u001b[39m\"\u001b[39m\u001b[39m%s\u001b[39;00m\u001b[39m.\u001b[39m\u001b[39m%s\u001b[39;00m\u001b[39m\"\u001b[39m \u001b[39m%\u001b[39m (\u001b[39mself\u001b[39m\u001b[39m.\u001b[39m_username_, attr))\n",
      "\u001b[1;31mAttributeError\u001b[0m: <unknown>.SelectByPolygon"
     ]
    }
   ],
   "source": [
    "acadModel.SelectByPolygon(pt1,pt2)"
   ]
  },
  {
   "cell_type": "code",
   "execution_count": 58,
   "metadata": {},
   "outputs": [
    {
     "data": {
      "text/plain": [
       "<bound method Autocad.get_selection of <pyautocad.api.Autocad object at 0x000001A6AD1513D0>>"
      ]
     },
     "execution_count": 58,
     "metadata": {},
     "output_type": "execute_result"
    }
   ],
   "source": [
    "acad.get_selection"
   ]
  },
  {
   "cell_type": "code",
   "execution_count": null,
   "metadata": {},
   "outputs": [],
   "source": []
  }
 ],
 "metadata": {
  "kernelspec": {
   "display_name": "OD",
   "language": "python",
   "name": "python3"
  },
  "language_info": {
   "codemirror_mode": {
    "name": "ipython",
    "version": 3
   },
   "file_extension": ".py",
   "mimetype": "text/x-python",
   "name": "python",
   "nbconvert_exporter": "python",
   "pygments_lexer": "ipython3",
   "version": "3.8.13"
  },
  "orig_nbformat": 4
 },
 "nbformat": 4,
 "nbformat_minor": 2
}
