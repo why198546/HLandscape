{
 "cells": [
  {
   "cell_type": "code",
   "execution_count": 24,
   "metadata": {},
   "outputs": [],
   "source": [
    "from pyautocad import Autocad\n",
    "import os"
   ]
  },
  {
   "cell_type": "code",
   "execution_count": 2,
   "metadata": {},
   "outputs": [],
   "source": [
    "\n",
    "# 启动AutoCAD\n",
    "acad = Autocad(create_if_not_exists=True)"
   ]
  },
  {
   "cell_type": "code",
   "execution_count": 3,
   "metadata": {},
   "outputs": [],
   "source": [
    "\n",
    "# 获取所有文字样式\n",
    "text_styles = acad.doc.TextStyles"
   ]
  },
  {
   "cell_type": "code",
   "execution_count": 35,
   "metadata": {},
   "outputs": [],
   "source": [
    "for style in text_styles:\n",
    "    if '|' not in style.Name:\n",
    "        if style.FontFile not in font_list:\n",
    "            style.FontFile = 'gbenor.shx'\n",
    "        if style.BigFontFile not in font_list:\n",
    "            style.BigFontFile = 'gbcbig.shx'\n",
    "\n",
    "    "
   ]
  },
  {
   "cell_type": "code",
   "execution_count": 26,
   "metadata": {},
   "outputs": [],
   "source": [
    "font_folder = r'C:\\Program Files\\Autodesk\\AutoCAD 2023\\Fonts'"
   ]
  },
  {
   "cell_type": "code",
   "execution_count": 28,
   "metadata": {},
   "outputs": [],
   "source": [
    "font_list = os.listdir(font_folder)"
   ]
  },
  {
   "cell_type": "code",
   "execution_count": null,
   "metadata": {},
   "outputs": [],
   "source": [
    "import os\n",
    "from pyautocad import Autocad\n",
    "\n",
    "# 设定目录路径\n",
    "directory_path = '你的目录路径'\n",
    "\n",
    "# 启动AutoCAD\n",
    "acad = Autocad(create_if_not_exists=True)\n",
    "\n",
    "# 遍历目录下的所有文件和文件夹\n",
    "for dirpath, dirnames, files in os.walk(directory_path):\n",
    "    for file_name in files:\n",
    "        # 检查文件扩展名是否为.dwg\n",
    "        if file_name.lower().endswith('.dwg'):\n",
    "            # 构建文件的完整路径\n",
    "            full_path = os.path.join(dirpath, file_name)\n",
    "            # 打印文件路径\n",
    "            print(f'准备打开文件： {full_path}')\n",
    "            # 打开文件\n",
    "            try:\n",
    "                dwg = acad.app.Documents.Open(full_path)\n",
    "                # 在这里可以执行对dwg文件的操作\n",
    "                # ...\n",
    "                # 操作完成后，保存和关闭文件\n",
    "                dwg.Close(Save=True)\n",
    "            except Exception as e:\n",
    "                print(f'打开文件 {full_path} 失败: {e}')\n",
    "\n",
    "# 注意：这个脚本会为每个文件打开AutoCAD，进行操作后再关闭文件。\n",
    "# 如果AutoCAD处理速度较慢，这可能会耗费一定的时间。"
   ]
  }
 ],
 "metadata": {
  "kernelspec": {
   "display_name": ".venv",
   "language": "python",
   "name": "python3"
  },
  "language_info": {
   "codemirror_mode": {
    "name": "ipython",
    "version": 3
   },
   "file_extension": ".py",
   "mimetype": "text/x-python",
   "name": "python",
   "nbconvert_exporter": "python",
   "pygments_lexer": "ipython3",
   "version": "3.10.5"
  }
 },
 "nbformat": 4,
 "nbformat_minor": 2
}
