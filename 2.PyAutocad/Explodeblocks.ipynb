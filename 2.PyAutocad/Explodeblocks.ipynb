{
 "cells": [
  {
   "cell_type": "code",
   "execution_count": 21,
   "metadata": {},
   "outputs": [],
   "source": [
    "import os\n",
    "import win32com.client\n",
    "import pythoncom\n",
    "import time"
   ]
  },
  {
   "cell_type": "code",
   "execution_count": 22,
   "metadata": {},
   "outputs": [
    {
     "ename": "com_error",
     "evalue": "(-2147221008, '尚未调用 CoInitialize。', None, None)",
     "output_type": "error",
     "traceback": [
      "\u001b[1;31m---------------------------------------------------------------------------\u001b[0m",
      "\u001b[1;31mcom_error\u001b[0m                                 Traceback (most recent call last)",
      "File \u001b[1;32md:\\HLandscape\\.venv\\lib\\site-packages\\win32com\\client\\dynamic.py:84\u001b[0m, in \u001b[0;36m_GetGoodDispatch\u001b[1;34m(IDispatch, clsctx)\u001b[0m\n\u001b[0;32m     83\u001b[0m \u001b[38;5;28;01mtry\u001b[39;00m:\n\u001b[1;32m---> 84\u001b[0m     IDispatch \u001b[38;5;241m=\u001b[39m \u001b[43mpythoncom\u001b[49m\u001b[38;5;241;43m.\u001b[39;49m\u001b[43mconnect\u001b[49m\u001b[43m(\u001b[49m\u001b[43mIDispatch\u001b[49m\u001b[43m)\u001b[49m\n\u001b[0;32m     85\u001b[0m \u001b[38;5;28;01mexcept\u001b[39;00m pythoncom\u001b[38;5;241m.\u001b[39mole_error:\n",
      "\u001b[1;31mcom_error\u001b[0m: (-2147221008, '尚未调用 CoInitialize。', None, None)",
      "\nDuring handling of the above exception, another exception occurred:\n",
      "\u001b[1;31mcom_error\u001b[0m                                 Traceback (most recent call last)",
      "Cell \u001b[1;32mIn[22], line 2\u001b[0m\n\u001b[0;32m      1\u001b[0m \u001b[38;5;66;03m# Initialize AutoCAD application\u001b[39;00m\n\u001b[1;32m----> 2\u001b[0m acad \u001b[38;5;241m=\u001b[39m \u001b[43mwin32com\u001b[49m\u001b[38;5;241;43m.\u001b[39;49m\u001b[43mclient\u001b[49m\u001b[38;5;241;43m.\u001b[39;49m\u001b[43mDispatch\u001b[49m\u001b[43m(\u001b[49m\u001b[38;5;124;43m\"\u001b[39;49m\u001b[38;5;124;43mAutoCAD.Application\u001b[39;49m\u001b[38;5;124;43m\"\u001b[39;49m\u001b[43m)\u001b[49m\n\u001b[0;32m      3\u001b[0m doc \u001b[38;5;241m=\u001b[39m acad\u001b[38;5;241m.\u001b[39mActiveDocument\n\u001b[0;32m      4\u001b[0m \u001b[38;5;66;03m# Create a new selection set\u001b[39;00m\n",
      "File \u001b[1;32md:\\HLandscape\\.venv\\lib\\site-packages\\win32com\\client\\__init__.py:118\u001b[0m, in \u001b[0;36mDispatch\u001b[1;34m(dispatch, userName, resultCLSID, typeinfo, UnicodeToString, clsctx)\u001b[0m\n\u001b[0;32m    116\u001b[0m \u001b[38;5;250m\u001b[39m\u001b[38;5;124;03m\"\"\"Creates a Dispatch based COM object.\"\"\"\u001b[39;00m\n\u001b[0;32m    117\u001b[0m \u001b[38;5;28;01massert\u001b[39;00m UnicodeToString \u001b[38;5;129;01mis\u001b[39;00m \u001b[38;5;28;01mNone\u001b[39;00m, \u001b[38;5;124m\"\u001b[39m\u001b[38;5;124mthis is deprecated and will go away\u001b[39m\u001b[38;5;124m\"\u001b[39m\n\u001b[1;32m--> 118\u001b[0m dispatch, userName \u001b[38;5;241m=\u001b[39m \u001b[43mdynamic\u001b[49m\u001b[38;5;241;43m.\u001b[39;49m\u001b[43m_GetGoodDispatchAndUserName\u001b[49m\u001b[43m(\u001b[49m\u001b[43mdispatch\u001b[49m\u001b[43m,\u001b[49m\u001b[43m \u001b[49m\u001b[43muserName\u001b[49m\u001b[43m,\u001b[49m\u001b[43m \u001b[49m\u001b[43mclsctx\u001b[49m\u001b[43m)\u001b[49m\n\u001b[0;32m    119\u001b[0m \u001b[38;5;28;01mreturn\u001b[39;00m __WrapDispatch(dispatch, userName, resultCLSID, typeinfo, clsctx\u001b[38;5;241m=\u001b[39mclsctx)\n",
      "File \u001b[1;32md:\\HLandscape\\.venv\\lib\\site-packages\\win32com\\client\\dynamic.py:104\u001b[0m, in \u001b[0;36m_GetGoodDispatchAndUserName\u001b[1;34m(IDispatch, userName, clsctx)\u001b[0m\n\u001b[0;32m    101\u001b[0m     \u001b[38;5;66;03m## ??? else userName remains None ???\u001b[39;00m\n\u001b[0;32m    102\u001b[0m \u001b[38;5;28;01melse\u001b[39;00m:\n\u001b[0;32m    103\u001b[0m     userName \u001b[38;5;241m=\u001b[39m \u001b[38;5;28mstr\u001b[39m(userName)\n\u001b[1;32m--> 104\u001b[0m \u001b[38;5;28;01mreturn\u001b[39;00m (\u001b[43m_GetGoodDispatch\u001b[49m\u001b[43m(\u001b[49m\u001b[43mIDispatch\u001b[49m\u001b[43m,\u001b[49m\u001b[43m \u001b[49m\u001b[43mclsctx\u001b[49m\u001b[43m)\u001b[49m, userName)\n",
      "File \u001b[1;32md:\\HLandscape\\.venv\\lib\\site-packages\\win32com\\client\\dynamic.py:86\u001b[0m, in \u001b[0;36m_GetGoodDispatch\u001b[1;34m(IDispatch, clsctx)\u001b[0m\n\u001b[0;32m     84\u001b[0m         IDispatch \u001b[38;5;241m=\u001b[39m pythoncom\u001b[38;5;241m.\u001b[39mconnect(IDispatch)\n\u001b[0;32m     85\u001b[0m     \u001b[38;5;28;01mexcept\u001b[39;00m pythoncom\u001b[38;5;241m.\u001b[39mole_error:\n\u001b[1;32m---> 86\u001b[0m         IDispatch \u001b[38;5;241m=\u001b[39m \u001b[43mpythoncom\u001b[49m\u001b[38;5;241;43m.\u001b[39;49m\u001b[43mCoCreateInstance\u001b[49m\u001b[43m(\u001b[49m\n\u001b[0;32m     87\u001b[0m \u001b[43m            \u001b[49m\u001b[43mIDispatch\u001b[49m\u001b[43m,\u001b[49m\u001b[43m \u001b[49m\u001b[38;5;28;43;01mNone\u001b[39;49;00m\u001b[43m,\u001b[49m\u001b[43m \u001b[49m\u001b[43mclsctx\u001b[49m\u001b[43m,\u001b[49m\u001b[43m \u001b[49m\u001b[43mpythoncom\u001b[49m\u001b[38;5;241;43m.\u001b[39;49m\u001b[43mIID_IDispatch\u001b[49m\n\u001b[0;32m     88\u001b[0m \u001b[43m        \u001b[49m\u001b[43m)\u001b[49m\n\u001b[0;32m     89\u001b[0m \u001b[38;5;28;01melse\u001b[39;00m:\n\u001b[0;32m     90\u001b[0m     \u001b[38;5;66;03m# may already be a wrapped class.\u001b[39;00m\n\u001b[0;32m     91\u001b[0m     IDispatch \u001b[38;5;241m=\u001b[39m \u001b[38;5;28mgetattr\u001b[39m(IDispatch, \u001b[38;5;124m\"\u001b[39m\u001b[38;5;124m_oleobj_\u001b[39m\u001b[38;5;124m\"\u001b[39m, IDispatch)\n",
      "\u001b[1;31mcom_error\u001b[0m: (-2147221008, '尚未调用 CoInitialize。', None, None)"
     ]
    }
   ],
   "source": [
    "# Initialize AutoCAD application\n",
    "acad = win32com.client.Dispatch(\"AutoCAD.Application\")\n",
    "doc = acad.ActiveDocument\n",
    "# Create a new selection set\n",
    "selection_set_name = \"MyBlockSelectionSet\"\n",
    "try:\n",
    "    selection_set = doc.SelectionSets.Item(selection_set_name)\n",
    "    selection_set.Clear()\n",
    "except Exception:\n",
    "    selection_set = doc.SelectionSets.Add(selection_set_name)\n",
    "\n",
    "# Define selection criteria to select all block references\n",
    "filter_type = win32com.client.VARIANT(pythoncom.VT_ARRAY | pythoncom.VT_I2, [0])\n",
    "filter_data = win32com.client.VARIANT(pythoncom.VT_ARRAY | pythoncom.VT_VARIANT, ['INSERT'])\n",
    "\n",
    "# Select all block references automatically\n",
    "selection_set.Select(5, filter_type, filter_data)  # 5 - SelectAll\n",
    "\n",
    "# Send command to explode the selected blocks\n",
    "for entity in selection_set:\n",
    "    try:\n",
    "        if entity.ObjectName == 'AcDbBlockReference':\n",
    "            entity.Highlight(True)  # Highlight the entity in AutoCAD\n",
    "            handle = entity.Handle\n",
    "            doc.SendCommand(f'_.SELECT _Handle {handle} _EXPLODE _P\\n\\n')\n",
    "            doc.SendCommand('_.EXPLODE\\n\\n')\n",
    "    except Exception as e:\n",
    "        print(f\"Error exploding entity: {entity.ObjectName}, Handle: {entity.Handle}, Error: {str(e)}\")\n",
    "\n",
    "# Clear selection set\n",
    "selection_set.Clear()\n"
   ]
  },
  {
   "cell_type": "code",
   "execution_count": null,
   "metadata": {},
   "outputs": [],
   "source": [
    "import os\n",
    "import win32com.client\n",
    "import pythoncom\n",
    "import time\n",
    "\n",
    "\n",
    "acad = win32com.client.Dispatch(\"AutoCAD.Application\")\n",
    "acad.Visible = True\n",
    "\n",
    "def explode_blocks_in_dwg(file_path):\n",
    "    # Initialize AutoCAD application\n",
    "    \n",
    "    doc = acad.Documents.Open(file_path)\n",
    "    \n",
    "    # Create a new selection set\n",
    "    selection_set_name = \"MyBlockSelectionSet\"\n",
    "    try:\n",
    "        selection_set = doc.SelectionSets.Item(selection_set_name)\n",
    "        selection_set.Clear()\n",
    "    except Exception:\n",
    "        selection_set = doc.SelectionSets.Add(selection_set_name)\n",
    "\n",
    "    # Define selection criteria to select all block references\n",
    "    filter_type = win32com.client.VARIANT(pythoncom.VT_ARRAY | pythoncom.VT_I2, [0])\n",
    "    filter_data = win32com.client.VARIANT(pythoncom.VT_ARRAY | pythoncom.VT_VARIANT, ['INSERT'])\n",
    "\n",
    "    # Select all block references automatically\n",
    "    selection_set.Select(5, filter_type, filter_data)  # 5 - SelectAll\n",
    "\n",
    "    # Send command to explode the selected blocks\n",
    "    for entity in selection_set:\n",
    "        try:\n",
    "            if entity.ObjectName == 'AcDbBlockReference':\n",
    "                entity.Highlight(True)  # Highlight the entity in AutoCAD\n",
    "                handle = entity.Handle\n",
    "                doc.SendCommand(f'_.SELECT _Handle {handle} _EXPLODE _P\\n\\n')\n",
    "                time.sleep(0.1)  # Allow some time for the command to execute\n",
    "        except Exception as e:\n",
    "            print(f\"Error exploding entity: {entity.ObjectName}, Handle: {entity.Handle}, Error: {str(e)}\")\n",
    "\n",
    "    # Clear selection set\n",
    "    selection_set.Clear()\n",
    "    \n",
    "    # Save and close the document\n",
    "    doc.Save()\n",
    "    doc.Close()\n",
    "\n",
    "def process_folder(folder_path):\n",
    "    for file_name in os.listdir(folder_path):\n",
    "        if file_name.lower().endswith('.dwg'):\n",
    "            file_path = os.path.join(folder_path, file_name)\n",
    "            print(f\"Processing file: {file_path}\")\n",
    "            explode_blocks_in_dwg(file_path)\n",
    "\n",
    "# Specify the folder containing the DWG files\n",
    "folder_path = r\"C:\\Users\\why19\\Desktop\\献给敬爱的张总\"\n",
    "process_folder(folder_path)\n"
   ]
  },
  {
   "cell_type": "code",
   "execution_count": null,
   "metadata": {},
   "outputs": [],
   "source": []
  },
  {
   "cell_type": "code",
   "execution_count": null,
   "metadata": {},
   "outputs": [],
   "source": []
  },
  {
   "cell_type": "code",
   "execution_count": null,
   "metadata": {},
   "outputs": [],
   "source": []
  }
 ],
 "metadata": {
  "kernelspec": {
   "display_name": ".venv",
   "language": "python",
   "name": "python3"
  },
  "language_info": {
   "codemirror_mode": {
    "name": "ipython",
    "version": 3
   },
   "file_extension": ".py",
   "mimetype": "text/x-python",
   "name": "python",
   "nbconvert_exporter": "python",
   "pygments_lexer": "ipython3",
   "version": "3.10.6"
  }
 },
 "nbformat": 4,
 "nbformat_minor": 2
}
