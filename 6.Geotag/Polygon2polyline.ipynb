{
 "cells": [
  {
   "cell_type": "code",
   "execution_count": null,
   "metadata": {},
   "outputs": [],
   "source": [
    "import geopandas as gpd\n",
    "from shapely.geometry import LineString\n"
   ]
  },
  {
   "cell_type": "code",
   "execution_count": 29,
   "metadata": {},
   "outputs": [],
   "source": [
    "\n",
    "# Read the polygon shapefile\n",
    "gdf = gpd.read_file(r'D:/Desktop/test/城投用地红线.shp')"
   ]
  },
  {
   "cell_type": "code",
   "execution_count": 31,
   "metadata": {},
   "outputs": [],
   "source": [
    "gdf.to_crs(epsg=4326, inplace=True)"
   ]
  },
  {
   "cell_type": "code",
   "execution_count": 32,
   "metadata": {},
   "outputs": [
    {
     "data": {
      "text/html": [
       "<div>\n",
       "<style scoped>\n",
       "    .dataframe tbody tr th:only-of-type {\n",
       "        vertical-align: middle;\n",
       "    }\n",
       "\n",
       "    .dataframe tbody tr th {\n",
       "        vertical-align: top;\n",
       "    }\n",
       "\n",
       "    .dataframe thead th {\n",
       "        text-align: right;\n",
       "    }\n",
       "</style>\n",
       "<table border=\"1\" class=\"dataframe\">\n",
       "  <thead>\n",
       "    <tr style=\"text-align: right;\">\n",
       "      <th></th>\n",
       "      <th>Entity</th>\n",
       "      <th>Handle</th>\n",
       "      <th>Layer</th>\n",
       "      <th>LyrFrzn</th>\n",
       "      <th>LyrOn</th>\n",
       "      <th>Color</th>\n",
       "      <th>Linetype</th>\n",
       "      <th>Elevation</th>\n",
       "      <th>LineWt</th>\n",
       "      <th>RefName</th>\n",
       "      <th>...</th>\n",
       "      <th>DocId</th>\n",
       "      <th>XSIZE</th>\n",
       "      <th>YSIZE</th>\n",
       "      <th>A</th>\n",
       "      <th>height</th>\n",
       "      <th>Number</th>\n",
       "      <th>Shape_Leng</th>\n",
       "      <th>Shape_Area</th>\n",
       "      <th>geometry</th>\n",
       "      <th>Floor</th>\n",
       "    </tr>\n",
       "  </thead>\n",
       "  <tbody>\n",
       "    <tr>\n",
       "      <th>0</th>\n",
       "      <td>LWPolyline</td>\n",
       "      <td>2B3F18</td>\n",
       "      <td>用地红线</td>\n",
       "      <td>0</td>\n",
       "      <td>1</td>\n",
       "      <td>1</td>\n",
       "      <td>DOTE</td>\n",
       "      <td>0.0</td>\n",
       "      <td>25</td>\n",
       "      <td>NaN</td>\n",
       "      <td>...</td>\n",
       "      <td>8.036385e+18</td>\n",
       "      <td>0</td>\n",
       "      <td>0</td>\n",
       "      <td>NaN</td>\n",
       "      <td>0.0</td>\n",
       "      <td>NaN</td>\n",
       "      <td>1783.275033</td>\n",
       "      <td>112219.572374</td>\n",
       "      <td>POLYGON Z ((90.98716 29.64608 0.00000, 90.9872...</td>\n",
       "      <td>1</td>\n",
       "    </tr>\n",
       "    <tr>\n",
       "      <th>1</th>\n",
       "      <td>LWPolyline</td>\n",
       "      <td>2B41EE</td>\n",
       "      <td>用地红线</td>\n",
       "      <td>0</td>\n",
       "      <td>1</td>\n",
       "      <td>1</td>\n",
       "      <td>DOTE</td>\n",
       "      <td>0.0</td>\n",
       "      <td>25</td>\n",
       "      <td>NaN</td>\n",
       "      <td>...</td>\n",
       "      <td>8.036385e+18</td>\n",
       "      <td>0</td>\n",
       "      <td>0</td>\n",
       "      <td>NaN</td>\n",
       "      <td>0.0</td>\n",
       "      <td>NaN</td>\n",
       "      <td>750.663769</td>\n",
       "      <td>33377.789954</td>\n",
       "      <td>POLYGON Z ((90.98936 29.64409 0.00000, 90.9895...</td>\n",
       "      <td>1</td>\n",
       "    </tr>\n",
       "  </tbody>\n",
       "</table>\n",
       "<p>2 rows × 21 columns</p>\n",
       "</div>"
      ],
      "text/plain": [
       "       Entity  Handle Layer  LyrFrzn  LyrOn  Color Linetype  Elevation  \\\n",
       "0  LWPolyline  2B3F18  用地红线        0      1      1     DOTE        0.0   \n",
       "1  LWPolyline  2B41EE  用地红线        0      1      1     DOTE        0.0   \n",
       "\n",
       "   LineWt  RefName  ...         DocId  XSIZE  YSIZE   A  height  Number  \\\n",
       "0      25      NaN  ...  8.036385e+18      0      0 NaN     0.0     NaN   \n",
       "1      25      NaN  ...  8.036385e+18      0      0 NaN     0.0     NaN   \n",
       "\n",
       "    Shape_Leng     Shape_Area  \\\n",
       "0  1783.275033  112219.572374   \n",
       "1   750.663769   33377.789954   \n",
       "\n",
       "                                            geometry Floor  \n",
       "0  POLYGON Z ((90.98716 29.64608 0.00000, 90.9872...     1  \n",
       "1  POLYGON Z ((90.98936 29.64409 0.00000, 90.9895...     1  \n",
       "\n",
       "[2 rows x 21 columns]"
      ]
     },
     "execution_count": 32,
     "metadata": {},
     "output_type": "execute_result"
    }
   ],
   "source": [
    "gdf['Floor'] = 1\n",
    "gdf.head()"
   ]
  },
  {
   "cell_type": "code",
   "execution_count": 33,
   "metadata": {},
   "outputs": [],
   "source": [
    "\n",
    "# Convert polygons to polylines\n",
    "def polygon_to_polyline(row):\n",
    "    return LineString(list(row['geometry'].exterior.coords))\n"
   ]
  },
  {
   "cell_type": "code",
   "execution_count": 34,
   "metadata": {},
   "outputs": [],
   "source": [
    "\n",
    "gdf['geometry'] = gdf.apply(polygon_to_polyline, axis=1)\n",
    "\n",
    "# Write to GeoJSON\n",
    "gdf.to_file(r'D:/Desktop/test/城投用地红线.json', driver='GeoJSON')\n"
   ]
  },
  {
   "cell_type": "code",
   "execution_count": null,
   "metadata": {},
   "outputs": [],
   "source": []
  }
 ],
 "metadata": {
  "kernelspec": {
   "display_name": "OD",
   "language": "python",
   "name": "python3"
  },
  "language_info": {
   "codemirror_mode": {
    "name": "ipython",
    "version": 3
   },
   "file_extension": ".py",
   "mimetype": "text/x-python",
   "name": "python",
   "nbconvert_exporter": "python",
   "pygments_lexer": "ipython3",
   "version": "3.10.5"
  },
  "orig_nbformat": 4
 },
 "nbformat": 4,
 "nbformat_minor": 2
}
