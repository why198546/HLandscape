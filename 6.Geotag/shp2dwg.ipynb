{
 "cells": [
  {
   "cell_type": "code",
   "execution_count": null,
   "metadata": {},
   "outputs": [],
   "source": [
    "import geopandas as gpd\n",
    "import ezdxf\n",
    "\n",
    "# Read the shapefile\n",
    "shapefile_path = 'path_to_your_shapefile.shp'\n",
    "gdf = gpd.read_file(shapefile_path)\n",
    "\n",
    "# Reproject to CGCS2000 (EPSG:4490)\n",
    "gdf = gdf.to_crs(epsg=4542)\n",
    "\n",
    "# Create a new DXF document\n",
    "dwg = ezdxf.new(dxfversion='R2010')\n",
    "\n",
    "# Add a new modelspace\n",
    "msp = dwg.modelspace()\n",
    "\n",
    "# Iterate over the geometries and add them to the DWG file\n",
    "for geom in gdf.geometry:\n",
    "    if geom.geom_type == 'Point':\n",
    "        msp.add_point((geom.x, geom.y))\n",
    "    elif geom.geom_type == 'LineString':\n",
    "        msp.add_lwpolyline(geom.coords)\n",
    "    elif geom.geom_type == 'Polygon':\n",
    "        msp.add_lwpolyline(geom.exterior.coords, is_closed=True)\n",
    "        for interior in geom.interiors:\n",
    "            msp.add_lwpolyline(interior.coords, is_closed=True)\n",
    "\n",
    "# Save the DWG file\n",
    "dwg.saveas('output_file.dwg')"
   ]
  }
 ],
 "metadata": {
  "language_info": {
   "name": "python"
  }
 },
 "nbformat": 4,
 "nbformat_minor": 2
}
