{
 "cells": [
  {
   "cell_type": "code",
   "execution_count": 1,
   "metadata": {},
   "outputs": [],
   "source": [
    "import pandas as pd\n",
    "from pyproj import Proj, transform\n"
   ]
  },
  {
   "cell_type": "code",
   "execution_count": 8,
   "metadata": {},
   "outputs": [
    {
     "name": "stderr",
     "output_type": "stream",
     "text": [
      "d:\\HLandscape\\.venv\\lib\\site-packages\\pyproj\\crs\\crs.py:141: FutureWarning: '+init=<authority>:<code>' syntax is deprecated. '<authority>:<code>' is the preferred initialization method. When making the change, be mindful of axis order changes: https://pyproj4.github.io/pyproj/stable/gotchas.html#axis-order-changes-in-proj-6\n",
      "  in_crs_string = _prepare_from_proj_string(in_crs_string)\n",
      "d:\\HLandscape\\.venv\\lib\\site-packages\\pyproj\\crs\\crs.py:141: FutureWarning: '+init=<authority>:<code>' syntax is deprecated. '<authority>:<code>' is the preferred initialization method. When making the change, be mindful of axis order changes: https://pyproj4.github.io/pyproj/stable/gotchas.html#axis-order-changes-in-proj-6\n",
      "  in_crs_string = _prepare_from_proj_string(in_crs_string)\n",
      "C:\\Users\\why19\\AppData\\Local\\Temp\\ipykernel_6060\\1091431102.py:13: FutureWarning: This function is deprecated. See: https://pyproj4.github.io/pyproj/stable/gotchas.html#upgrading-to-pyproj-2-from-pyproj-1\n",
      "  lon, lat = transform(cgcs2000, wgs84, x, y)\n"
     ]
    },
    {
     "name": "stdout",
     "output_type": "stream",
     "text": [
      "Index(['序号', '地点', '坐标X', '坐标Y', 'Table Name'], dtype='object')\n"
     ]
    },
    {
     "ename": "ModuleNotFoundError",
     "evalue": "No module named 'ace_tools'",
     "output_type": "error",
     "traceback": [
      "\u001b[1;31m---------------------------------------------------------------------------\u001b[0m",
      "\u001b[1;31mModuleNotFoundError\u001b[0m                       Traceback (most recent call last)",
      "Cell \u001b[1;32mIn[8], line 25\u001b[0m\n\u001b[0;32m     22\u001b[0m     df\u001b[38;5;241m.\u001b[39mto_csv(\u001b[38;5;124m'\u001b[39m\u001b[38;5;124mconverted_coordinates.csv\u001b[39m\u001b[38;5;124m'\u001b[39m, index\u001b[38;5;241m=\u001b[39m\u001b[38;5;28;01mFalse\u001b[39;00m)\n\u001b[0;32m     24\u001b[0m     \u001b[38;5;66;03m# 显示转换后的数据框\u001b[39;00m\n\u001b[1;32m---> 25\u001b[0m     \u001b[38;5;28;01mimport\u001b[39;00m \u001b[38;5;21;01mace_tools\u001b[39;00m \u001b[38;5;28;01mas\u001b[39;00m \u001b[38;5;21;01mtools\u001b[39;00m; tools\u001b[38;5;241m.\u001b[39mdisplay_dataframe_to_user(name\u001b[38;5;241m=\u001b[39m\u001b[38;5;124m\"\u001b[39m\u001b[38;5;124mConverted Coordinates\u001b[39m\u001b[38;5;124m\"\u001b[39m, dataframe\u001b[38;5;241m=\u001b[39mdf)\n\u001b[0;32m     26\u001b[0m \u001b[38;5;28;01melse\u001b[39;00m:\n\u001b[0;32m     27\u001b[0m     \u001b[38;5;28mprint\u001b[39m(\u001b[38;5;124m\"\u001b[39m\u001b[38;5;124mCSV文件中没有找到\u001b[39m\u001b[38;5;124m'\u001b[39m\u001b[38;5;124mx\u001b[39m\u001b[38;5;124m'\u001b[39m\u001b[38;5;124m和\u001b[39m\u001b[38;5;124m'\u001b[39m\u001b[38;5;124my\u001b[39m\u001b[38;5;124m'\u001b[39m\u001b[38;5;124m列，请检查文件格式。\u001b[39m\u001b[38;5;124m\"\u001b[39m)\n",
      "\u001b[1;31mModuleNotFoundError\u001b[0m: No module named 'ace_tools'"
     ]
    }
   ],
   "source": [
    "# 定义CGCS2000坐标系（EPSG:4548）和WGS84坐标系（EPSG:4326）\n",
    "cgcs2000 = Proj(init='epsg:4548')\n",
    "wgs84 = Proj(init='epsg:4326')\n",
    "\n",
    "# 读取CSV文件\n",
    "df = pd.read_csv(r'D:\\HLandscape\\11.PDF\\航测范围\\表5-3 承德县蓄水池建设位置一览表.csv')\n",
    "\n",
    "# 打印数据框的列名以确认列名正确\n",
    "print(df.columns)\n",
    "\n",
    "# 定义转换函数\n",
    "def convert_to_latlon(x, y):\n",
    "    lon, lat = transform(cgcs2000, wgs84, x, y)\n",
    "    return pd.Series([lon, lat])\n",
    "\n",
    "# 确认CSV文件中存在名为'x'和'y'的列\n",
    "if '坐标X' in df.columns and '坐标Y' in df.columns:\n",
    "    # 应用转换函数\n",
    "    df[['Longitude', 'Latitude']] = df.apply(lambda row: convert_to_latlon(row['坐标X'], row['坐标Y']), axis=1)\n",
    "\n",
    "    # 保存结果到新的CSV文件\n",
    "    df.to_csv('converted_coordinates.csv', index=False)\n",
    "\n",
    "    # 显示转换后的数据框\n",
    "    import ace_tools as tools; tools.display_dataframe_to_user(name=\"Converted Coordinates\", dataframe=df)\n",
    "else:\n",
    "    print(\"CSV文件中没有找到'x'和'y'列，请检查文件格式。\")\n"
   ]
  },
  {
   "cell_type": "code",
   "execution_count": 14,
   "metadata": {},
   "outputs": [
    {
     "name": "stdout",
     "output_type": "stream",
     "text": [
      "Index(['序号', '地点', '坐标X', '坐标Y', 'Table Name'], dtype='object')\n",
      "           坐标X          坐标Y\n",
      "0  39545660.52  4501056.911\n",
      "1  39545596.88  4500692.601\n",
      "2  39547535.22  4501164.354\n",
      "3  39542953.88  4500771.478\n",
      "4  39543654.39  4502607.055\n",
      "        Longitude   Latitude\n",
      "count    8.000000   8.000000\n",
      "mean   117.527300  40.651737\n",
      "std      0.018314   0.011609\n",
      "min    117.507784  40.639620\n",
      "25%    117.515044  40.642290\n",
      "50%    117.521017  40.649767\n",
      "75%    117.539216  40.659102\n",
      "max    117.561970  40.668895\n",
      "Empty DataFrame\n",
      "Columns: [序号, 地点, 坐标X, 坐标Y, Table Name, Longitude, Latitude]\n",
      "Index: []\n"
     ]
    },
    {
     "ename": "ModuleNotFoundError",
     "evalue": "No module named 'ace_tools'",
     "output_type": "error",
     "traceback": [
      "\u001b[1;31m---------------------------------------------------------------------------\u001b[0m",
      "\u001b[1;31mModuleNotFoundError\u001b[0m                       Traceback (most recent call last)",
      "Cell \u001b[1;32mIn[14], line 43\u001b[0m\n\u001b[0;32m     40\u001b[0m     df\u001b[38;5;241m.\u001b[39mto_csv(\u001b[38;5;124m'\u001b[39m\u001b[38;5;124mconverted_coordinates.csv\u001b[39m\u001b[38;5;124m'\u001b[39m, index\u001b[38;5;241m=\u001b[39m\u001b[38;5;28;01mFalse\u001b[39;00m)\n\u001b[0;32m     42\u001b[0m     \u001b[38;5;66;03m# 显示转换后的数据框\u001b[39;00m\n\u001b[1;32m---> 43\u001b[0m     \u001b[38;5;28;01mimport\u001b[39;00m \u001b[38;5;21;01mace_tools\u001b[39;00m \u001b[38;5;28;01mas\u001b[39;00m \u001b[38;5;21;01mtools\u001b[39;00m; tools\u001b[38;5;241m.\u001b[39mdisplay_dataframe_to_user(name\u001b[38;5;241m=\u001b[39m\u001b[38;5;124m\"\u001b[39m\u001b[38;5;124mConverted Coordinates\u001b[39m\u001b[38;5;124m\"\u001b[39m, dataframe\u001b[38;5;241m=\u001b[39mdf)\n\u001b[0;32m     44\u001b[0m \u001b[38;5;28;01melse\u001b[39;00m:\n\u001b[0;32m     45\u001b[0m     \u001b[38;5;28mprint\u001b[39m(\u001b[38;5;124m\"\u001b[39m\u001b[38;5;124mCSV文件中没有找到\u001b[39m\u001b[38;5;124m'\u001b[39m\u001b[38;5;124m坐标X\u001b[39m\u001b[38;5;124m'\u001b[39m\u001b[38;5;124m和\u001b[39m\u001b[38;5;124m'\u001b[39m\u001b[38;5;124m坐标Y\u001b[39m\u001b[38;5;124m'\u001b[39m\u001b[38;5;124m列，请检查文件格式。\u001b[39m\u001b[38;5;124m\"\u001b[39m)\n",
      "\u001b[1;31mModuleNotFoundError\u001b[0m: No module named 'ace_tools'"
     ]
    }
   ],
   "source": [
    "import pandas as pd\n",
    "from pyproj import CRS, Transformer\n",
    "\n",
    "# 定义CGCS2000坐标系（EPSG:4548）和WGS84坐标系（EPSG:4326）\n",
    "crs_cgcs2000 = CRS.from_epsg(4548)\n",
    "crs_wgs84 = CRS.from_epsg(4326)\n",
    "transformer = Transformer.from_crs(crs_cgcs2000, crs_wgs84, always_xy=True)\n",
    "\n",
    "# 读取CSV文件\n",
    "df = pd.read_csv(r'D:\\HLandscape\\11.PDF\\航测范围\\表5-3 承德县蓄水池建设位置一览表.csv')\n",
    "\n",
    "# 打印数据框的列名以确认列名正确\n",
    "print(df.columns)\n",
    "\n",
    "# 定义转换函数，去除带号\n",
    "def convert_to_latlon(x, y):\n",
    "    try:\n",
    "        # 去除坐标中的带号\n",
    "        x_m = float(str(x)[2:])\n",
    "        y_m = float(str(y))\n",
    "        lon, lat = transformer.transform(x_m, y_m)\n",
    "        return pd.Series([lon, lat])\n",
    "    except Exception as e:\n",
    "        print(f\"Error converting coordinates ({x}, {y}): {e}\")\n",
    "        return pd.Series([None, None])\n",
    "\n",
    "# 确认CSV文件中存在名为'坐标X'和'坐标Y'的列\n",
    "if '坐标X' in df.columns and '坐标Y' in df.columns:\n",
    "    # 打印前几行数据以检查坐标值\n",
    "    print(df[['坐标X', '坐标Y']].head())\n",
    "\n",
    "    # 应用转换函数\n",
    "    df[['Longitude', 'Latitude']] = df.apply(lambda row: convert_to_latlon(row['坐标X'], row['坐标Y']), axis=1)\n",
    "\n",
    "    # 检查转换后的结果是否有inf或None值\n",
    "    print(df[['Longitude', 'Latitude']].describe())\n",
    "    print(df[df['Longitude'].isnull() | df['Latitude'].isnull()])\n",
    "\n",
    "    # 保存结果到新的CSV文件\n",
    "    df.to_csv('converted_coordinates.csv', index=False)\n",
    "\n",
    "    # 显示转换后的数据框\n",
    "    import ace_tools as tools; tools.display_dataframe_to_user(name=\"Converted Coordinates\", dataframe=df)\n",
    "else:\n",
    "    print(\"CSV文件中没有找到'坐标X'和'坐标Y'列，请检查文件格式。\")\n"
   ]
  },
  {
   "cell_type": "code",
   "execution_count": null,
   "metadata": {},
   "outputs": [],
   "source": []
  }
 ],
 "metadata": {
  "kernelspec": {
   "display_name": ".venv",
   "language": "python",
   "name": "python3"
  },
  "language_info": {
   "codemirror_mode": {
    "name": "ipython",
    "version": 3
   },
   "file_extension": ".py",
   "mimetype": "text/x-python",
   "name": "python",
   "nbconvert_exporter": "python",
   "pygments_lexer": "ipython3",
   "version": "3.10.6"
  }
 },
 "nbformat": 4,
 "nbformat_minor": 2
}
