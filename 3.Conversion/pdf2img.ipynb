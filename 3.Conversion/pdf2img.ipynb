{
 "cells": [
  {
   "cell_type": "code",
   "execution_count": 2,
   "metadata": {},
   "outputs": [],
   "source": [
    "import os\n",
    "from pdf2image import convert_from_path\n"
   ]
  },
  {
   "cell_type": "code",
   "execution_count": null,
   "metadata": {},
   "outputs": [],
   "source": [
    "\n",
    "# 指定包含PDF文件的文件夹\n",
    "pdf_dir = r\"path-to-your-pdf-folder\"\n",
    "\n",
    "# 遍历文件夹中的所有PDF文件\n",
    "for filename in os.listdir(pdf_dir):\n",
    "    if filename.startswith('XS') and filename.endswith(\".pdf\"):\n",
    "        # 获取PDF文件的完整路径\n",
    "        pdf_path = os.path.join(pdf_dir, filename)\n",
    "        \n",
    "        # 将PDF转换为图片\n",
    "        images = convert_from_path(pdf_path)\n",
    "        \n",
    "        # 遍历所有生成的图片\n",
    "        for image in images:\n",
    "            # 为每个图片指定一个文件名（基于原始PDF文件的文件名）\n",
    "            image_filename = f\"{os.path.splitext(filename)[0]}.jpg\"\n",
    "            result = image_filename.split(\"-\", 2)[0:2]\n",
    "            image_filename = \"-\".join(result)+\".jpg\"\n",
    "            # 将图片保存为JPG文件\n",
    "            image.save(os.path.join(pdf_dir, image_filename), \"JPEG\")"
   ]
  }
 ],
 "metadata": {
  "kernelspec": {
   "display_name": "OD",
   "language": "python",
   "name": "python3"
  },
  "language_info": {
   "codemirror_mode": {
    "name": "ipython",
    "version": 3
   },
   "file_extension": ".py",
   "mimetype": "text/x-python",
   "name": "python",
   "nbconvert_exporter": "python",
   "pygments_lexer": "ipython3",
   "version": "3.10.5"
  },
  "orig_nbformat": 4
 },
 "nbformat": 4,
 "nbformat_minor": 2
}
