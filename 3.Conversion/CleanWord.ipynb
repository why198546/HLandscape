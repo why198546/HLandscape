{
 "cells": [
  {
   "cell_type": "code",
   "execution_count": 1,
   "metadata": {},
   "outputs": [
    {
     "name": "stdout",
     "output_type": "stream",
     "text": [
      "Collecting python-docx\n",
      "  Downloading python_docx-1.1.0-py3-none-any.whl.metadata (2.0 kB)\n",
      "Requirement already satisfied: Pillow in d:\\hlandscape\\.venv\\lib\\site-packages (10.1.0)\n",
      "Requirement already satisfied: lxml>=3.1.0 in d:\\hlandscape\\.venv\\lib\\site-packages (from python-docx) (4.9.3)\n",
      "Requirement already satisfied: typing-extensions in d:\\hlandscape\\.venv\\lib\\site-packages (from python-docx) (4.8.0)\n",
      "Downloading python_docx-1.1.0-py3-none-any.whl (239 kB)\n",
      "   ---------------------------------------- 0.0/239.6 kB ? eta -:--:--\n",
      "   - -------------------------------------- 10.2/239.6 kB ? eta -:--:--\n",
      "   ----- --------------------------------- 30.7/239.6 kB 259.2 kB/s eta 0:00:01\n",
      "   ----- --------------------------------- 30.7/239.6 kB 259.2 kB/s eta 0:00:01\n",
      "   ----- --------------------------------- 30.7/239.6 kB 259.2 kB/s eta 0:00:01\n",
      "   ----------------- -------------------- 112.6/239.6 kB 467.6 kB/s eta 0:00:01\n",
      "   ------------------------ ------------- 153.6/239.6 kB 538.9 kB/s eta 0:00:01\n",
      "   ----------------------------------- -- 225.3/239.6 kB 724.0 kB/s eta 0:00:01\n",
      "   -------------------------------------- 239.6/239.6 kB 732.8 kB/s eta 0:00:00\n",
      "Installing collected packages: python-docx\n",
      "Successfully installed python-docx-1.1.0\n"
     ]
    },
    {
     "name": "stderr",
     "output_type": "stream",
     "text": [
      "WARNING: Retrying (Retry(total=4, connect=None, read=None, redirect=None, status=None)) after connection broken by 'ProtocolError('Connection aborted.', ConnectionResetError(10054, '远程主机强迫关闭了一个现有的连接。', None, 10054, None))': /simple/python-docx/\n"
     ]
    }
   ],
   "source": [
    "!pip install python-docx Pillow\n"
   ]
  },
  {
   "cell_type": "code",
   "execution_count": 3,
   "metadata": {},
   "outputs": [],
   "source": [
    "from docx import Document\n",
    "from PIL import Image\n",
    "import io\n"
   ]
  },
  {
   "cell_type": "code",
   "execution_count": 4,
   "metadata": {},
   "outputs": [],
   "source": [
    "\n",
    "def reduce_image_quality(image_stream):\n",
    "    # Open the image using PIL\n",
    "    image = Image.open(image_stream)\n",
    "\n",
    "    # Reduce image quality by saving it in JPEG format with reduced quality\n",
    "    reduced_quality_stream = io.BytesIO()\n",
    "    image.save(reduced_quality_stream, format=\"JPEG\", quality=50)\n",
    "\n",
    "    return reduced_quality_stream.getvalue()\n",
    "\n",
    "def process_word_file(input_path, output_path):\n",
    "    # Load the Word document\n",
    "    document = Document(input_path)\n",
    "\n",
    "    # Iterate through the document elements to find InlineShape elements which usually contain images\n",
    "    for shape in document.inline_shapes:\n",
    "        # Only proceed if the shape has an image blob (represents the image data)\n",
    "        if shape._inline.graphic.graphicData.pic.blipFill.blip.blob is not None:\n",
    "            # Extract image blob data\n",
    "            image_stream = io.BytesIO(shape._inline.graphic.graphicData.pic.blipFill.blip.blob)\n",
    "\n",
    "            # Reduce image quality\n",
    "            reduced_quality_blob = reduce_image_quality(image_stream)\n",
    "\n",
    "            # Replace the original image blob with the new lower quality blob\n",
    "            shape._inline.graphic.graphicData.pic.blipFill.blip.blob = reduced_quality_blob\n",
    "\n",
    "    # Save the modified document\n",
    "    document.save(output_path)\n"
   ]
  },
  {
   "cell_type": "code",
   "execution_count": 5,
   "metadata": {},
   "outputs": [],
   "source": [
    "\n",
    "if __name__ == \"__main__\":\n",
    "    input_path = r\"D:\\Documents\\PDFgear\\深基坑专项施工方案（最终） conv 1.docx\"\n",
    "    output_path = r\"D:\\Documents\\PDFgear\\深基坑专项施工方案.docx\"\n",
    "    process_word_file(input_path, output_path)\n"
   ]
  },
  {
   "cell_type": "code",
   "execution_count": null,
   "metadata": {},
   "outputs": [],
   "source": []
  }
 ],
 "metadata": {
  "kernelspec": {
   "display_name": "OD",
   "language": "python",
   "name": "python3"
  },
  "language_info": {
   "codemirror_mode": {
    "name": "ipython",
    "version": 3
   },
   "file_extension": ".py",
   "mimetype": "text/x-python",
   "name": "python",
   "nbconvert_exporter": "python",
   "pygments_lexer": "ipython3",
   "version": "3.10.5"
  },
  "orig_nbformat": 4
 },
 "nbformat": 4,
 "nbformat_minor": 2
}
