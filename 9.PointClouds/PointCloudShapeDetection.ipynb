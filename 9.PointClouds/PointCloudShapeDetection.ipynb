{
 "cells": [
  {
   "cell_type": "markdown",
   "metadata": {},
   "source": [
    "# Import packs"
   ]
  },
  {
   "cell_type": "code",
   "execution_count": 3,
   "metadata": {},
   "outputs": [
    {
     "name": "stdout",
     "output_type": "stream",
     "text": [
      "Jupyter environment detected. Enabling Open3D WebVisualizer.\n",
      "[Open3D INFO] WebRTC GUI backend enabled.\n",
      "[Open3D INFO] WebRTCWindowSystem: HTTP handshake server disabled.\n"
     ]
    }
   ],
   "source": [
    "import open3d as o3d\n",
    "import numpy as np\n",
    "import matplotlib.pyplot as plt"
   ]
  },
  {
   "cell_type": "markdown",
   "metadata": {},
   "source": [
    "# Point Cloud Data Preparation"
   ]
  },
  {
   "cell_type": "code",
   "execution_count": 2,
   "metadata": {},
   "outputs": [],
   "source": [
    "filefolder = r\"D:/Downloads/ITC/\"\n",
    "dataname = \"ITC_groundfloor.ply\""
   ]
  },
  {
   "cell_type": "code",
   "execution_count": 3,
   "metadata": {},
   "outputs": [],
   "source": [
    "pcd = o3d.io.read_point_cloud(filefolder + dataname)"
   ]
  },
  {
   "cell_type": "code",
   "execution_count": 4,
   "metadata": {},
   "outputs": [
    {
     "data": {
      "text/plain": [
       "PointCloud with 334992 points."
      ]
     },
     "execution_count": 4,
     "metadata": {},
     "output_type": "execute_result"
    }
   ],
   "source": [
    "pcd_center = pcd.get_center()\n",
    "pcd.translate(-pcd_center)"
   ]
  },
  {
   "cell_type": "code",
   "execution_count": 5,
   "metadata": {},
   "outputs": [],
   "source": [
    "o3d.visualization.draw_geometries([pcd])"
   ]
  },
  {
   "cell_type": "markdown",
   "metadata": {},
   "source": [
    "# Point cloud Random Sampling"
   ]
  },
  {
   "cell_type": "code",
   "execution_count": 6,
   "metadata": {},
   "outputs": [],
   "source": [
    "retained_ratio = 0.2\n",
    "sampled_pcd = pcd.random_down_sample(retained_ratio)"
   ]
  },
  {
   "cell_type": "code",
   "execution_count": 7,
   "metadata": {},
   "outputs": [],
   "source": [
    "o3d.visualization.draw_geometries([sampled_pcd], window_name = \"Sampled Point Cloud\")"
   ]
  },
  {
   "cell_type": "markdown",
   "metadata": {},
   "source": [
    "# Stastical Outlier Removal"
   ]
  },
  {
   "cell_type": "code",
   "execution_count": 8,
   "metadata": {},
   "outputs": [],
   "source": [
    "nn = 16\n",
    "std_multiplier = 10\n",
    "filtered_pcd,filtered_idx = pcd.remove_statistical_outlier(nb_neighbors=nn,std_ratio=std_multiplier)"
   ]
  },
  {
   "cell_type": "code",
   "execution_count": 9,
   "metadata": {},
   "outputs": [],
   "source": [
    "outliers = pcd.select_by_index(filtered_idx,invert=True)\n",
    "outliers.paint_uniform_color([1,0,0])\n",
    "o3d.visualization.draw_geometries([filtered_pcd,outliers],window_name=\"Outlier Removal\")\n"
   ]
  },
  {
   "cell_type": "code",
   "execution_count": 10,
   "metadata": {},
   "outputs": [],
   "source": [
    "num = []\n",
    "for i in range(10000,5):\n",
    "    num.append(i)"
   ]
  },
  {
   "cell_type": "code",
   "execution_count": 11,
   "metadata": {},
   "outputs": [
    {
     "data": {
      "text/plain": [
       "'[]'"
      ]
     },
     "execution_count": 11,
     "metadata": {},
     "output_type": "execute_result"
    }
   ],
   "source": [
    "str(num)"
   ]
  },
  {
   "cell_type": "markdown",
   "metadata": {},
   "source": [
    "# PointCloud Voxel Sampling"
   ]
  },
  {
   "cell_type": "code",
   "execution_count": 12,
   "metadata": {},
   "outputs": [],
   "source": [
    "voxel_size = 0.05\n",
    "pcd_downSampled  = filtered_pcd.voxel_down_sample(voxel_size=voxel_size)"
   ]
  },
  {
   "cell_type": "code",
   "execution_count": 13,
   "metadata": {},
   "outputs": [],
   "source": [
    "o3d.visualization.draw_geometries([pcd_downSampled],window_name=\"Voxel Downsampled\")"
   ]
  },
  {
   "cell_type": "code",
   "execution_count": 14,
   "metadata": {},
   "outputs": [
    {
     "data": {
      "text/plain": [
       "PointCloud with 322996 points."
      ]
     },
     "execution_count": 14,
     "metadata": {},
     "output_type": "execute_result"
    }
   ],
   "source": [
    "pcd_downSampled"
   ]
  },
  {
   "cell_type": "markdown",
   "metadata": {},
   "source": [
    "# PointCloud Normals Rxtraction"
   ]
  },
  {
   "cell_type": "code",
   "execution_count": 15,
   "metadata": {},
   "outputs": [],
   "source": [
    "nn_distance = 0.05"
   ]
  },
  {
   "cell_type": "code",
   "execution_count": 16,
   "metadata": {},
   "outputs": [],
   "source": [
    "radius_normals = nn_distance * 4\n",
    "pcd_downSampled.estimate_normals(o3d.geometry.KDTreeSearchParamHybrid(radius=radius_normals,max_nn=30))"
   ]
  },
  {
   "cell_type": "code",
   "execution_count": 17,
   "metadata": {},
   "outputs": [],
   "source": [
    "pcd_downSampled.paint_uniform_color([0.6,0.6,0.6])\n",
    "o3d.visualization.draw_geometries([pcd_downSampled,outliers],window_name=\"Normal Estimation\")"
   ]
  },
  {
   "cell_type": "markdown",
   "metadata": {},
   "source": [
    "# RANSAC Parameter Setting"
   ]
  },
  {
   "cell_type": "code",
   "execution_count": 18,
   "metadata": {},
   "outputs": [],
   "source": [
    "nn_distance = np.mean(pcd_downSampled.compute_nearest_neighbor_distance())"
   ]
  },
  {
   "cell_type": "code",
   "execution_count": 19,
   "metadata": {},
   "outputs": [
    {
     "data": {
      "text/plain": [
       "0.05188491177806045"
      ]
     },
     "execution_count": 19,
     "metadata": {},
     "output_type": "execute_result"
    }
   ],
   "source": [
    "nn_distance"
   ]
  },
  {
   "cell_type": "markdown",
   "metadata": {},
   "source": [
    "# PointCloud Segmentation with RANSAC"
   ]
  },
  {
   "cell_type": "code",
   "execution_count": 20,
   "metadata": {},
   "outputs": [],
   "source": [
    "distance_threshold = 0.1\n",
    "ransac_n =3\n",
    "num_iterations = 1000"
   ]
  },
  {
   "cell_type": "code",
   "execution_count": 21,
   "metadata": {},
   "outputs": [
    {
     "name": "stdout",
     "output_type": "stream",
     "text": [
      "Plane equation: -0.00x + -0.00y + 1.00z + 1.35 = 0\n"
     ]
    }
   ],
   "source": [
    "plane_model, inliers = pcd.segment_plane(distance_threshold,ransac_n,num_iterations)\n",
    "[a,b,c,d] = plane_model\n",
    "print(f\"Plane equation: {a:.2f}x + {b:.2f}y + {c:.2f}z + {d:.2f} = 0\")"
   ]
  },
  {
   "cell_type": "code",
   "execution_count": 22,
   "metadata": {},
   "outputs": [],
   "source": [
    "inlier_cloud = pcd.select_by_index(inliers)\n",
    "outlier_cloud = pcd.select_by_index(inliers, invert=True)\n",
    "\n",
    "#Paint the clouds\n",
    "inlier_cloud.paint_uniform_color([1.0, 0, 0])\n",
    "outlier_cloud.paint_uniform_color([0.6, 0.6, 0.6])\n",
    "\n",
    "radius_normals = nn_distance * 4\n",
    "outlier_cloud.estimate_normals(o3d.geometry.KDTreeSearchParamHybrid(radius=radius_normals,max_nn=30))\n",
    "\n",
    "#Visualize the inliers and outliers\n",
    "o3d.visualization.draw_geometries([inlier_cloud, outlier_cloud])"
   ]
  },
  {
   "cell_type": "markdown",
   "metadata": {},
   "source": [
    "# Scaling 3d Segmentation:Mi;to_order RANSAC"
   ]
  },
  {
   "cell_type": "code",
   "execution_count": 23,
   "metadata": {},
   "outputs": [],
   "source": [
    "segment_models = {}\n",
    "segments= {}"
   ]
  },
  {
   "cell_type": "code",
   "execution_count": 24,
   "metadata": {},
   "outputs": [],
   "source": [
    "max_plane_idx = 10"
   ]
  },
  {
   "cell_type": "code",
   "execution_count": 25,
   "metadata": {},
   "outputs": [
    {
     "name": "stdout",
     "output_type": "stream",
     "text": [
      "pass 0 / 10 done.\n",
      "pass 1 / 10 done.\n",
      "pass 2 / 10 done.\n",
      "pass 3 / 10 done.\n",
      "pass 4 / 10 done.\n",
      "pass 5 / 10 done.\n",
      "pass 6 / 10 done.\n",
      "pass 7 / 10 done.\n",
      "pass 8 / 10 done.\n",
      "pass 9 / 10 done.\n"
     ]
    }
   ],
   "source": [
    "rest=pcd\n",
    "for i in range(max_plane_idx):\n",
    "    colors = plt.get_cmap(\"tab20\")(i)\n",
    "    segment_models[i], inliers = rest.segment_plane(\n",
    "    distance_threshold=0.1,ransac_n=3,num_iterations=1000)\n",
    "    segments[i]=rest.select_by_index(inliers)\n",
    "    segments[i].paint_uniform_color(list(colors[:3]))\n",
    "    rest = rest.select_by_index(inliers, invert=True)\n",
    "    print(\"pass\",i,\"/\",max_plane_idx,\"done.\")"
   ]
  },
  {
   "cell_type": "code",
   "execution_count": 26,
   "metadata": {},
   "outputs": [],
   "source": [
    "o3d.visualization.draw_geometries([segments[i] for i in range(max_plane_idx)]+[rest])"
   ]
  },
  {
   "cell_type": "markdown",
   "metadata": {},
   "source": [
    "# DBSCAN for 3d point cloud Clustering"
   ]
  },
  {
   "cell_type": "code",
   "execution_count": 27,
   "metadata": {},
   "outputs": [],
   "source": [
    "epsilon = 0.15\n",
    "min_cluster_points = 5"
   ]
  },
  {
   "cell_type": "code",
   "execution_count": 28,
   "metadata": {},
   "outputs": [
    {
     "name": "stdout",
     "output_type": "stream",
     "text": [
      "pass 0 / 10 done.\n",
      "pass 1 / 10 done.\n",
      "pass 2 / 10 done.\n",
      "pass 3 / 10 done.\n",
      "pass 4 / 10 done.\n",
      "pass 5 / 10 done.\n",
      "pass 6 / 10 done.\n",
      "pass 7 / 10 done.\n",
      "pass 8 / 10 done.\n",
      "pass 9 / 10 done.\n"
     ]
    }
   ],
   "source": [
    "rest=pcd\n",
    "for i in range(max_plane_idx):\n",
    "    colors = plt.get_cmap(\"tab20\")(i)\n",
    "    segment_models[i], inliers = rest.segment_plane(\n",
    "    distance_threshold=0.1,ransac_n=3,num_iterations=1000)\n",
    "    segments[i]=rest.select_by_index(inliers)\n",
    "    labels = np.array(segments[i].cluster_dbscan(eps=epsilon, min_points=min_cluster_points))\n",
    "    candidates=[len(np.where(labels==j)[0]) for j in np.unique(labels)]\n",
    "    best_candidate=int(np.unique(labels)[np.where(candidates== np.max(candidates))[0]])\n",
    "    rest = rest.select_by_index(inliers, invert=True) + segments[i].select_by_index(list(np.where(labels!=best_candidate)[0]))\n",
    "    segments[i]=segments[i].select_by_index(list(np.where(labels== best_candidate)[0]))\n",
    "    segments[i].paint_uniform_color(list(colors[:3]))\n",
    "    print(\"pass\",i,\"/\",max_plane_idx,\"done.\")"
   ]
  },
  {
   "cell_type": "code",
   "execution_count": 29,
   "metadata": {},
   "outputs": [],
   "source": [
    "o3d.visualization.draw_geometries([segments[i] for i in range(max_plane_idx)]+[rest])"
   ]
  },
  {
   "cell_type": "markdown",
   "metadata": {},
   "source": [
    "There are several metrics that can be used to evaluate the quality of clustering results. Here are a few commonly used metrics:\n",
    "\n",
    "1. **Silhouette score**: The silhouette score measures how similar a point is to its own cluster compared to other clusters. It ranges from -1 to 1, where a score of 1 indicates that the point is well-matched to its own cluster and poorly-matched to neighboring clusters, and a score of -1 indicates the opposite. A higher silhouette score indicates better clustering results.\n",
    "\n",
    "2. **Calinski-Harabasz index**: The Calinski-Harabasz index measures the ratio of the between-cluster variance to the within-cluster variance. A higher index indicates better clustering results.\n",
    "\n",
    "3. **Davies-Bouldin index**: The Davies-Bouldin index measures the average similarity between each cluster and its most similar cluster, normalized by the average dissimilarity between each cluster and its least similar cluster. A lower index indicates better clustering results.\n",
    "\n",
    "4. **Visual inspection**: Sometimes, the best way to evaluate the quality of clustering results is to visually inspect the clusters and see if they make sense. This can be done using a 3D visualization library such as `matplotlib` or `mayavi`.\n",
    "\n",
    "To calculate these metrics in Python, you can use the scikit-learn library. Here is an example code snippet:\n",
    "\n"
   ]
  },
  {
   "cell_type": "code",
   "execution_count": 30,
   "metadata": {},
   "outputs": [],
   "source": [
    "o3d.visualization.draw_geometries([rest])"
   ]
  },
  {
   "cell_type": "code",
   "execution_count": 31,
   "metadata": {},
   "outputs": [],
   "source": [
    "labels = np.array(rest.cluster_dbscan(eps=0.2, min_points=5))"
   ]
  },
  {
   "cell_type": "code",
   "execution_count": 32,
   "metadata": {},
   "outputs": [],
   "source": [
    "max_label = labels.max()\n",
    "colors = plt.get_cmap(\"tab20\")(labels / (max_label \n",
    "if max_label > 0 else 1))\n",
    "colors[labels < 0] = 0\n",
    "rest.colors = o3d.utility.Vector3dVector(colors[:, :3])\n",
    "o3d.visualization.draw_geometries([rest])"
   ]
  },
  {
   "cell_type": "markdown",
   "metadata": {},
   "source": [
    "# Voxelization and Labeling"
   ]
  },
  {
   "cell_type": "code",
   "execution_count": 33,
   "metadata": {},
   "outputs": [],
   "source": [
    "voxel_size = 0.2"
   ]
  },
  {
   "cell_type": "code",
   "execution_count": 34,
   "metadata": {},
   "outputs": [],
   "source": [
    "min_bound = pcd.get_min_bound()\n",
    "max_bound = pcd.get_max_bound()"
   ]
  },
  {
   "cell_type": "code",
   "execution_count": 35,
   "metadata": {},
   "outputs": [],
   "source": [
    "pcd_ransac=o3d.geometry.PointCloud()\n",
    "for i in segments:\n",
    " pcd_ransac += segments[i]"
   ]
  },
  {
   "cell_type": "code",
   "execution_count": 36,
   "metadata": {},
   "outputs": [
    {
     "data": {
      "text/plain": [
       "PointCloud with 262490 points."
      ]
     },
     "execution_count": 36,
     "metadata": {},
     "output_type": "execute_result"
    }
   ],
   "source": [
    "pcd_ransac.paint_uniform_color([1, 0, 0])"
   ]
  },
  {
   "cell_type": "code",
   "execution_count": 37,
   "metadata": {},
   "outputs": [],
   "source": [
    "voxel_grid_structural = o3d.geometry.VoxelGrid.create_from_point_cloud(pcd_ransac, voxel_size=voxel_size)"
   ]
  },
  {
   "cell_type": "code",
   "execution_count": 38,
   "metadata": {},
   "outputs": [],
   "source": [
    "rest.paint_uniform_color([0.1, 0.1, 0.8])\n",
    "voxel_grid_clutter = o3d.geometry.VoxelGrid.create_from_point_cloud(rest, voxel_size=voxel_size)"
   ]
  },
  {
   "cell_type": "code",
   "execution_count": 39,
   "metadata": {},
   "outputs": [],
   "source": [
    "o3d.visualization.draw_geometries([voxel_grid_clutter,voxel_grid_structural])"
   ]
  },
  {
   "cell_type": "markdown",
   "metadata": {},
   "source": [
    "# Spatial Modelling"
   ]
  },
  {
   "cell_type": "code",
   "execution_count": 40,
   "metadata": {},
   "outputs": [],
   "source": [
    "def fit_voxel_grid(point_cloud, voxel_size, min_b=False, max_b=False):\n",
    "# This is where we write what we want our function to do.\n",
    "    return voxel_grid, indices"
   ]
  },
  {
   "cell_type": "markdown",
   "metadata": {},
   "source": [
    "Within the function, we will (1) Determine the minimum and maximum coordinates of the point cloud, (2) Calculate the dimensions of the voxel grid, (3) Create an empty voxel grid, (4) Calculate the indices of the occupied voxels and (5) Mark occupied voxels as True."
   ]
  },
  {
   "cell_type": "code",
   "execution_count": 41,
   "metadata": {},
   "outputs": [],
   "source": [
    "min_b = pcd.get_min_bound()\n",
    "max_b = pcd.get_max_bound()"
   ]
  },
  {
   "cell_type": "code",
   "execution_count": 42,
   "metadata": {},
   "outputs": [
    {
     "ename": "NameError",
     "evalue": "name 'point_cloud' is not defined",
     "output_type": "error",
     "traceback": [
      "\u001b[1;31m---------------------------------------------------------------------------\u001b[0m",
      "\u001b[1;31mNameError\u001b[0m                                 Traceback (most recent call last)",
      "\u001b[1;32mwhy198546\\HLandscape\\9.PointClouds\\PointCloudShapeDetection.ipynb Cell 56\u001b[0m line \u001b[0;36m<cell line: 13>\u001b[1;34m()\u001b[0m\n\u001b[0;32m     <a href='vscode-notebook-cell://github%2B7b2276223a312c22726566223a7b2274797065223a342c226964223a2254657374696e67227d7d/why198546/HLandscape/9.PointClouds/PointCloudShapeDetection.ipynb#Y106sdnNjb2RlLXZmcw%3D%3D?line=10'>11</a>\u001b[0m voxel_grid \u001b[39m=\u001b[39m np\u001b[39m.\u001b[39mzeros(grid_dims, dtype\u001b[39m=\u001b[39m\u001b[39mbool\u001b[39m)\n\u001b[0;32m     <a href='vscode-notebook-cell://github%2B7b2276223a312c22726566223a7b2274797065223a342c226964223a2254657374696e67227d7d/why198546/HLandscape/9.PointClouds/PointCloudShapeDetection.ipynb#Y106sdnNjb2RlLXZmcw%3D%3D?line=11'>12</a>\u001b[0m \u001b[39m# Calculate the indices of the occupied voxels\u001b[39;00m\n\u001b[1;32m---> <a href='vscode-notebook-cell://github%2B7b2276223a312c22726566223a7b2274797065223a342c226964223a2254657374696e67227d7d/why198546/HLandscape/9.PointClouds/PointCloudShapeDetection.ipynb#Y106sdnNjb2RlLXZmcw%3D%3D?line=12'>13</a>\u001b[0m indices \u001b[39m=\u001b[39m ((point_cloud \u001b[39m-\u001b[39m min_coords) \u001b[39m/\u001b[39m voxel_size)\u001b[39m.\u001b[39mastype(\u001b[39mint\u001b[39m)\n\u001b[0;32m     <a href='vscode-notebook-cell://github%2B7b2276223a312c22726566223a7b2274797065223a342c226964223a2254657374696e67227d7d/why198546/HLandscape/9.PointClouds/PointCloudShapeDetection.ipynb#Y106sdnNjb2RlLXZmcw%3D%3D?line=13'>14</a>\u001b[0m \u001b[39m# Mark occupied voxels as True\u001b[39;00m\n\u001b[0;32m     <a href='vscode-notebook-cell://github%2B7b2276223a312c22726566223a7b2274797065223a342c226964223a2254657374696e67227d7d/why198546/HLandscape/9.PointClouds/PointCloudShapeDetection.ipynb#Y106sdnNjb2RlLXZmcw%3D%3D?line=14'>15</a>\u001b[0m voxel_grid[indices[:, \u001b[39m0\u001b[39m], indices[:, \u001b[39m1\u001b[39m], indices[:, \u001b[39m2\u001b[39m]] \u001b[39m=\u001b[39m \u001b[39mTrue\u001b[39;00m\n",
      "\u001b[1;31mNameError\u001b[0m: name 'point_cloud' is not defined"
     ]
    }
   ],
   "source": [
    "# Determine the minimum and maximum coordinates of the point cloud\n",
    "if type(min_b) == bool or type(max_b) == bool:\n",
    "  min_coords = np.min(point_cloud, axis=0)\n",
    "  max_coords = np.max(point_cloud, axis=0)\n",
    "else:\n",
    "  min_coords = min_b\n",
    "  max_coords = max_b\n",
    "# Calculate the dimensions of the voxel grid\n",
    "grid_dims = np.ceil((max_coords - min_coords) / voxel_size).astype(int)\n",
    "# Create an empty voxel grid\n",
    "voxel_grid = np.zeros(grid_dims, dtype=bool)\n",
    "# Calculate the indices of the occupied voxels\n",
    "indices = ((point_cloud - min_coords) / voxel_size).astype(int)\n",
    "# Mark occupied voxels as True\n",
    "voxel_grid[indices[:, 0], indices[:, 1], indices[:, 2]] = True"
   ]
  },
  {
   "cell_type": "code",
   "execution_count": null,
   "metadata": {},
   "outputs": [
    {
     "ename": "NameError",
     "evalue": "name 'indices' is not defined",
     "output_type": "error",
     "traceback": [
      "\u001b[1;31m---------------------------------------------------------------------------\u001b[0m",
      "\u001b[1;31mNameError\u001b[0m                                 Traceback (most recent call last)",
      "\u001b[1;32mwhy198546\\HLandscape\\9.PointClouds\\PointCloudShapeDetection.ipynb Cell 57\u001b[0m line \u001b[0;36m<cell line: 7>\u001b[1;34m()\u001b[0m\n\u001b[0;32m      <a href='vscode-notebook-cell://github%2B7b2276223a312c22726566223a7b2274797065223a342c226964223a2254657374696e67227d7d/why198546/HLandscape/9.PointClouds/PointCloudShapeDetection.ipynb#Y113sdnNjb2RlLXZmcw%3D%3D?line=3'>4</a>\u001b[0m min_bound \u001b[39m=\u001b[39m pcd\u001b[39m.\u001b[39mget_min_bound()\n\u001b[0;32m      <a href='vscode-notebook-cell://github%2B7b2276223a312c22726566223a7b2274797065223a342c226964223a2254657374696e67227d7d/why198546/HLandscape/9.PointClouds/PointCloudShapeDetection.ipynb#Y113sdnNjb2RlLXZmcw%3D%3D?line=4'>5</a>\u001b[0m max_bound \u001b[39m=\u001b[39m pcd\u001b[39m.\u001b[39mget_max_bound()\n\u001b[1;32m----> <a href='vscode-notebook-cell://github%2B7b2276223a312c22726566223a7b2274797065223a342c226964223a2254657374696e67227d7d/why198546/HLandscape/9.PointClouds/PointCloudShapeDetection.ipynb#Y113sdnNjb2RlLXZmcw%3D%3D?line=6'>7</a>\u001b[0m ransac_voxels, idx_ransac \u001b[39m=\u001b[39m fit_voxel_grid(pcd_ransac\u001b[39m.\u001b[39;49mpoints, voxel_size, min_bound, max_bound)\n\u001b[0;32m      <a href='vscode-notebook-cell://github%2B7b2276223a312c22726566223a7b2274797065223a342c226964223a2254657374696e67227d7d/why198546/HLandscape/9.PointClouds/PointCloudShapeDetection.ipynb#Y113sdnNjb2RlLXZmcw%3D%3D?line=7'>8</a>\u001b[0m rest_voxels, idx_rest \u001b[39m=\u001b[39m fit_voxel_grid(rest\u001b[39m.\u001b[39mpoints, voxel_size, min_bound, max_bound)\n\u001b[0;32m     <a href='vscode-notebook-cell://github%2B7b2276223a312c22726566223a7b2274797065223a342c226964223a2254657374696e67227d7d/why198546/HLandscape/9.PointClouds/PointCloudShapeDetection.ipynb#Y113sdnNjb2RlLXZmcw%3D%3D?line=9'>10</a>\u001b[0m \u001b[39m#Gather the filled voxels from RANSAC Segmentation\u001b[39;00m\n",
      "\u001b[1;32mwhy198546\\HLandscape\\9.PointClouds\\PointCloudShapeDetection.ipynb Cell 57\u001b[0m line \u001b[0;36mfit_voxel_grid\u001b[1;34m(point_cloud, voxel_size, min_b, max_b)\u001b[0m\n\u001b[0;32m      <a href='vscode-notebook-cell://github%2B7b2276223a312c22726566223a7b2274797065223a342c226964223a2254657374696e67227d7d/why198546/HLandscape/9.PointClouds/PointCloudShapeDetection.ipynb#Y113sdnNjb2RlLXZmcw%3D%3D?line=0'>1</a>\u001b[0m \u001b[39mdef\u001b[39;00m \u001b[39mfit_voxel_grid\u001b[39m(point_cloud, voxel_size, min_b\u001b[39m=\u001b[39m\u001b[39mFalse\u001b[39;00m, max_b\u001b[39m=\u001b[39m\u001b[39mFalse\u001b[39;00m):\n\u001b[0;32m      <a href='vscode-notebook-cell://github%2B7b2276223a312c22726566223a7b2274797065223a342c226964223a2254657374696e67227d7d/why198546/HLandscape/9.PointClouds/PointCloudShapeDetection.ipynb#Y113sdnNjb2RlLXZmcw%3D%3D?line=1'>2</a>\u001b[0m \u001b[39m# This is where we write what we want our function to do.\u001b[39;00m\n\u001b[1;32m----> <a href='vscode-notebook-cell://github%2B7b2276223a312c22726566223a7b2274797065223a342c226964223a2254657374696e67227d7d/why198546/HLandscape/9.PointClouds/PointCloudShapeDetection.ipynb#Y113sdnNjb2RlLXZmcw%3D%3D?line=2'>3</a>\u001b[0m     \u001b[39mreturn\u001b[39;00m voxel_grid, indices\n",
      "\u001b[1;31mNameError\u001b[0m: name 'indices' is not defined"
     ]
    }
   ],
   "source": [
    "voxel_size = 0.3\n",
    "\n",
    "#get the bounds of the original point cloud\n",
    "min_bound = pcd.get_min_bound()\n",
    "max_bound = pcd.get_max_bound()\n",
    "\n",
    "ransac_voxels, idx_ransac = fit_voxel_grid(pcd_ransac.points, voxel_size, min_bound, max_bound)\n",
    "rest_voxels, idx_rest = fit_voxel_grid(rest.points, voxel_size, min_bound, max_bound)\n",
    "\n",
    "#Gather the filled voxels from RANSAC Segmentation\n",
    "filled_ransac = np.transpose(np.nonzero(ransac_voxels))\n",
    "\n",
    "#Gather the filled remaining voxels (not belonging to any segments)\n",
    "filled_rest = np.transpose(np.nonzero(rest_voxels))\n",
    "\n",
    "#Compute and gather the remaining empty voxels\n",
    "total = pcd_ransac + rest\n",
    "total_voxels, idx_total = fit_voxel_grid(total.points, voxel_size, min_bound, max_bound)\n",
    "empty_indices = np.transpose(np.nonzero(~total_voxels))"
   ]
  },
  {
   "cell_type": "code",
   "execution_count": null,
   "metadata": {},
   "outputs": [],
   "source": []
  },
  {
   "cell_type": "code",
   "execution_count": null,
   "metadata": {},
   "outputs": [],
   "source": []
  },
  {
   "cell_type": "code",
   "execution_count": null,
   "metadata": {},
   "outputs": [],
   "source": []
  },
  {
   "cell_type": "code",
   "execution_count": null,
   "metadata": {},
   "outputs": [],
   "source": []
  },
  {
   "cell_type": "code",
   "execution_count": null,
   "metadata": {},
   "outputs": [],
   "source": []
  },
  {
   "cell_type": "code",
   "execution_count": null,
   "metadata": {},
   "outputs": [],
   "source": []
  },
  {
   "cell_type": "code",
   "execution_count": null,
   "metadata": {},
   "outputs": [],
   "source": []
  },
  {
   "cell_type": "code",
   "execution_count": null,
   "metadata": {},
   "outputs": [],
   "source": []
  },
  {
   "cell_type": "code",
   "execution_count": null,
   "metadata": {},
   "outputs": [],
   "source": []
  }
 ],
 "metadata": {
  "kernelspec": {
   "display_name": "OD",
   "language": "python",
   "name": "python3"
  },
  "language_info": {
   "codemirror_mode": {
    "name": "ipython",
    "version": 3
   },
   "file_extension": ".py",
   "mimetype": "text/x-python",
   "name": "python",
   "nbconvert_exporter": "python",
   "pygments_lexer": "ipython3",
   "version": "3.10.5"
  },
  "orig_nbformat": 4
 },
 "nbformat": 4,
 "nbformat_minor": 2
}
