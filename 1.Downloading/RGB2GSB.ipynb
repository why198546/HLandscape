{
 "cells": [
  {
   "cell_type": "markdown",
   "metadata": {},
   "source": [
    "# 通过api获取，failed"
   ]
  },
  {
   "cell_type": "code",
   "execution_count": null,
   "metadata": {},
   "outputs": [],
   "source": [
    "import requests\n",
    "import json\n",
    "import pandas as pd"
   ]
  },
  {
   "cell_type": "code",
   "execution_count": 4,
   "metadata": {},
   "outputs": [],
   "source": [
    "def rgb_to_hex(r, g, b):\n",
    "    return \"#{:02x}{:02x}{:02x}\".format(r, g, b)\n",
    "\n",
    "def fetch_color_info(hex_color):\n",
    "    url = \"https://www.qtccolor.com/webapi/color/Search\"\n",
    "    headers = {\n",
    "        \"Content-Type\": \"application/x-www-form-urlencoded\",\n",
    "        \"User-Agent\": \"Mozilla/5.0\",\n",
    "        \"Accept\": \"application/json, text/plain, */*\",\n",
    "        \"X-Requested-With\": \"XMLHttpRequest\"\n",
    "    }\n",
    "    data = {\n",
    "        \"hex\": hex_color,\n",
    "        'brand': '',\n",
    "    }\n",
    "    \n",
    "    response = requests.post(url, headers=headers, data=data)\n",
    "    \n",
    "    if response.status_code == 200:\n",
    "        return json.loads(response.text)\n",
    "    else:\n",
    "        return None"
   ]
  },
  {
   "cell_type": "code",
   "execution_count": null,
   "metadata": {},
   "outputs": [],
   "source": [
    "if __name__ == \"__main__\":\n",
    "    # 示例RGB值\n",
    "    \n",
    "    \n",
    "    \n",
    "    # 获取颜色信息\n",
    "    color_info = fetch_color_info(hex_color)\n",
    "    \n",
    "    if color_info:\n",
    "        print(\"获取到的颜色信息：\")\n",
    "        print(json.dumps(color_info, indent=4))\n",
    "    else:\n",
    "        print(\"未能获取颜色信息。\")"
   ]
  },
  {
   "cell_type": "markdown",
   "metadata": {},
   "source": [
    "# 通过request、xpath获取网页信息"
   ]
  },
  {
   "cell_type": "code",
   "execution_count": 1,
   "metadata": {},
   "outputs": [],
   "source": [
    "import requests\n",
    "from bs4 import BeautifulSoup\n",
    "import pandas as pd\n",
    "import pyperclip\n",
    "from pymongo import MongoClient\n",
    "from selenium import webdriver\n",
    "from selenium.webdriver.common.keys import Keys\n",
    "from selenium.webdriver.common.by import By\n",
    "import time\n",
    "from lxml import etree\n",
    "import re\n",
    "import os"
   ]
  },
  {
   "cell_type": "code",
   "execution_count": 13,
   "metadata": {},
   "outputs": [],
   "source": []
  },
  {
   "cell_type": "code",
   "execution_count": 11,
   "metadata": {},
   "outputs": [],
   "source": [
    "r, g, b = 224, 141, 123\n"
   ]
  },
  {
   "cell_type": "code",
   "execution_count": 72,
   "metadata": {},
   "outputs": [],
   "source": [
    "def rgb_to_hex(r, g, b):\n",
    "    return \"#{:02x}{:02x}{:02x}\".format(r, g, b)\n",
    "def fetch_color_info(r,g,b):\n",
    "    hex_color = rgb_to_hex(r, g, b)[1:]\n",
    "    url = f'https://www.qtccolor.com/secaiku/search?hex={hex_color}&brand='\n",
    "    response = requests.get(url)\n",
    "    root = etree.HTML(response.text)\n",
    "    ColorBrand = root.xpath(\"//div[@id='findColor']//div[@class='ColorBrand']\")\n",
    "    ColorCode = root.xpath(\"//div[@id='findColor']//div[@class='ColorCode']\")\n",
    "    delta = root.xpath(\"//i[@class='delta']\")\n",
    "    # colorData = root.xpath(\"//div[@class='el-col el-col-24 el-col-xs-8 el-col-sm-4']\")\n",
    "    hex = root.xpath(\"//img[@class='larger-color-image pointer']/@style\")\n",
    "    ColorList = []\n",
    "    for i in range(len(delta)):\n",
    "        ColorList.append([ColorBrand[i].text,ColorCode[i].text,delta[i].text,hex[i][11:-2]])\n",
    "    return ColorList"
   ]
  },
  {
   "cell_type": "code",
   "execution_count": 73,
   "metadata": {},
   "outputs": [
    {
     "data": {
      "text/plain": [
       "[['PANTONE', '4051 CP', 'ΔE 1.6', '#DD897'],\n",
       " ['PANTONE', '16-1329TPG', 'ΔE 2.4', '#E3928'],\n",
       " ['PANTONE', '4052 C', 'ΔE 2.4', '#DA887'],\n",
       " [None, 'SM1-0552', 'ΔE 2.5', '#E7948'],\n",
       " ['RAL', '040 70 40', 'ΔE 2.7', '#E8917'],\n",
       " ['PANTONE', '486 C', 'ΔE 3.2', '#E8927'],\n",
       " ['PANTONE', '486 UP', 'ΔE 3.2', '#E88A7'],\n",
       " ['PANTONE', 'P 55-3 C', 'ΔE 3.4', '#E4948'],\n",
       " ['PANTONE', '4052 U', 'ΔE 3.9', '#DD8B8'],\n",
       " ['PANTONE', '15-1520TCX', 'ΔE 3.9', '#EB968'],\n",
       " ['PANTONE', 'P 57-12 U', 'ΔE 4', '#DB887'],\n",
       " ['PANTONE', '15-1520TPG', 'ΔE 4', '#EC978'],\n",
       " ['CBCC', '0223 10R7/7.2', 'ΔE 4.2', '#EA927'],\n",
       " ['PANTONE', '486 CP', 'ΔE 4.4', '#E4937'],\n",
       " ['PANTONE', 'P 57-2 U', 'ΔE 4.4', '#EA978'],\n",
       " ['PANTONE', 'P 52-4 U', 'ΔE 4.8', '#EC998'],\n",
       " ['PANTONE', 'P 40-12 U', 'ΔE 4.9', '#D5846'],\n",
       " ['PANTONE', '17-1341TCX', 'ΔE 5.1', '#D37F6'],\n",
       " ['RAL', '430-2', 'ΔE 5.1', '#EC998'],\n",
       " ['PANTONE', '16-1526TCX', 'ΔE 5.1', '#D3837'],\n",
       " ['PANTONE', '4053 U', 'ΔE 5.2', '#D3827'],\n",
       " ['PANTONE', '177 CP', 'ΔE 5.2', '#E37F7'],\n",
       " ['PANTONE', '4052 UP', 'ΔE 5.3', '#DD8F8'],\n",
       " ['PANTONE', 'P 57-12 C', 'ΔE 5.6', '#D98A8'],\n",
       " ['PANTONE', 'P 58-3 C', 'ΔE 5.6', '#D1837'],\n",
       " ['NCS', 'S 2040-Y70R', 'ΔE 6.2', '#D6846'],\n",
       " ['PANTONE', 'P 48-11 C', 'ΔE 6.3', '#D6816'],\n",
       " ['RAL', '420-2', 'ΔE 6.3', '#F29D8'],\n",
       " ['PANTONE', 'P 59-9 U', 'ΔE 6.6', '#E0928'],\n",
       " ['CBCC', '0263 5.6R7/6.8', 'ΔE 6.6', '#E5938']]"
      ]
     },
     "execution_count": 73,
     "metadata": {},
     "output_type": "execute_result"
    }
   ],
   "source": [
    "fetch_color_info(r,g,b)"
   ]
  },
  {
   "cell_type": "markdown",
   "metadata": {},
   "source": [
    "# Autocad"
   ]
  },
  {
   "cell_type": "code",
   "execution_count": null,
   "metadata": {},
   "outputs": [],
   "source": []
  },
  {
   "cell_type": "code",
   "execution_count": 84,
   "metadata": {},
   "outputs": [],
   "source": [
    "# Set autocad environment and set an empty list to store material name\n",
    "from pyautocad import Autocad\n",
    "acad = Autocad(create_if_not_exists=True)"
   ]
  },
  {
   "cell_type": "code",
   "execution_count": 85,
   "metadata": {},
   "outputs": [],
   "source": [
    "# Define the function to extract material from the drawing\n",
    "def extract_text_from_dwg(dwg_file):\n",
    "    try:    \n",
    "        acad = Autocad(create_if_not_exists=True)\n",
    "        doc = acad.app.Documents.Open(dwg_file)  \n",
    "        time.sleep(1)    \n",
    "        for i in range(doc.Layouts.Count):\n",
    "            layout = doc.Layouts[i]\n",
    "            print('extracting from layout: %s' % layout.Name)\n",
    "            for entity in acad.iter_objects(['AcDbText','AcDbMText','AcDbMLeader','TDbSymbMultiLeader','TDbSymbIndexPointer','TDbSymbComposing','TDbText'],block=layout.Block,dont_cast=True):\n",
    "                name = entity.ObjectName\n",
    "                if name == 'AcDbText' or name == 'AcDbMText' or name == 'AcDbMLeader':\n",
    "                    extracted_text.append(entity.TextString)\n",
    "                if name == 'TDbSymbMultiLeader':\n",
    "                    extracted_text.append([entity.UpText,entity.DownText])\n",
    "                if name == 'TDbSymbIndexPointer':\n",
    "                    extracted_text.append([entity.UpText,entity.DownText]) #上标文字，下标文字\n",
    "                if name == 'TDbSymbComposing'or name == 'TDbText':\n",
    "                    extracted_text.append(entity.Text) #文字内容\n",
    "        doc.Close()\n",
    "        return extracted_text        \n",
    "    except Exception as e:\n",
    "        return str(e)\n"
   ]
  },
  {
   "cell_type": "code",
   "execution_count": 86,
   "metadata": {},
   "outputs": [],
   "source": [
    "# Define the function to find all dwg files in the folder\n",
    "def find_dwg_files(file_path):\n",
    "    dwg_files = []\n",
    "    for root, dirs, files in os.walk(file_path):\n",
    "        for file in files:\n",
    "            if file.endswith(\".dwg\"):\n",
    "                dwg_files.append(os.path.join(root, file))\n",
    "    return dwg_files"
   ]
  },
  {
   "cell_type": "code",
   "execution_count": 87,
   "metadata": {},
   "outputs": [
    {
     "name": "stdout",
     "output_type": "stream",
     "text": [
      "Opening file: W:\\城建院数据\\20220526 西藏项目\\05-施工图纸\\中心公园\\广场\\YS-01建筑附属广场.dwg\n",
      "Time taken: 8.780218839645386 seconds\n",
      "Opening file: W:\\城建院数据\\20220526 西藏项目\\05-施工图纸\\中心公园\\广场\\YS-020304礼仪广场、音乐广场、数学广场-wkf.dwg\n",
      "extracting from layout: Model\n",
      "Time taken: 147.2991647720337 seconds\n",
      "Opening file: W:\\城建院数据\\20220526 西藏项目\\05-施工图纸\\中心公园\\广场\\YS-0506健身广场、书法广场-wsd.dwg\n",
      "Time taken: 0.15412664413452148 seconds\n",
      "Opening file: W:\\城建院数据\\20220526 西藏项目\\05-施工图纸\\中心公园\\广场\\YS-0708体育广场、下沉广场-bxn.dwg\n",
      "Time taken: 1.108246088027954 seconds\n",
      "Opening file: W:\\城建院数据\\20220526 西藏项目\\05-施工图纸\\中心公园\\广场\\YS-09舞动广场.dwg\n",
      "Time taken: 0.008019208908081055 seconds\n",
      "Opening file: W:\\城建院数据\\20220526 西藏项目\\05-施工图纸\\中心公园\\广场\\YS-10水磨台.dwg\n",
      "Time taken: 0.42551612854003906 seconds\n"
     ]
    },
    {
     "data": {
      "text/plain": [
       "[['浅蓝色彩色塑胶地垫', '(RGB值：135,206,235)'],\n",
       " ['中黄色彩色塑胶地垫', '(RGB值：255,215,0)'],\n",
       " ['500X150X200白麻烧面花岗岩平缘石', ''],\n",
       " ['500X500X30厚芝麻灰烧面花岗岩座面', ''],\n",
       " ['%%c500~1000X100厚圆形青石板', '粒径20~30白色卵石填缝，1:3水泥砂浆粘牢'],\n",
       " ['5厚钢板收边', ''],\n",
       " ['5厚钢板收边', ''],\n",
       " '绿地',\n",
       " '绿地',\n",
       " '绿地',\n",
       " '绿地',\n",
       " '铺装',\n",
       " '铺装',\n",
       " '铺装',\n",
       " '铺装',\n",
       " '坐凳',\n",
       " '绿地',\n",
       " '绿地',\n",
       " '绿地',\n",
       " '绿地',\n",
       " '绿地',\n",
       " '绿地',\n",
       " '绿地',\n",
       " '绿地',\n",
       " '绿地',\n",
       " '绿地',\n",
       " '坐凳',\n",
       " '坐凳',\n",
       " '铺装',\n",
       " '铺装',\n",
       " '铺装',\n",
       " '铺装',\n",
       " '铺装',\n",
       " '铺装',\n",
       " '铺装',\n",
       " '铺装',\n",
       " '铺装',\n",
       " '铺装',\n",
       " '铺装',\n",
       " '铺装',\n",
       " ['白色涂料喷涂音符图案', ''],\n",
       " ['白色涂料喷涂音符图案', ''],\n",
       " ['浅蓝色彩色塑胶地垫', '(RGB值：135,206,235)'],\n",
       " ['中黄色彩色塑胶地垫', '(RGB值：255,215,0)'],\n",
       " ['500X150X200白麻烧面花岗岩平缘石', ''],\n",
       " ['500X150X200白麻烧面花岗岩平缘石', ''],\n",
       " ['500X150X200白麻烧面花岗岩平缘石', ''],\n",
       " ['500X500X30厚花岗岩坐凳面', ''],\n",
       " ['500X500X30厚花岗岩坐凳面', ''],\n",
       " ['%%c500~1000X100厚圆形青石板', '粒径20~30白色卵石填缝，1:3水泥砂浆粘牢'],\n",
       " ['%%c500~1000X100厚圆形青石板', '粒径20~30白色卵石填缝，1:3水泥砂浆粘牢'],\n",
       " ['%%c500~1000X100厚圆形青石板', '粒径20~30白色卵石填缝，1:3水泥砂浆粘牢'],\n",
       " ['砖红色彩色塑胶地垫', ''],\n",
       " ['砖红色彩色塑胶地垫', '(RGB值：178,34,34)'],\n",
       " ['中黄色彩色塑胶地垫', ''],\n",
       " ['白色涂料喷涂音符图案', ''],\n",
       " ['砖红色仿石涂料', ''],\n",
       " ['拉丝不锈钢音符五线谱', ''],\n",
       " ['拉丝不锈钢音符五线谱', ''],\n",
       " '铺装',\n",
       " '铺装',\n",
       " '铺装',\n",
       " ['中黄色彩色塑胶地垫', '(RGB值：255,215,0)'],\n",
       " ['中黄色彩色塑胶地垫', '(RGB值：255,215,0)'],\n",
       " ['砖红色彩色塑胶地垫', '(RGB值：178,34,34)'],\n",
       " ['砖红色彩色塑胶地垫', '(RGB值：178,34,34)'],\n",
       " ['浅蓝色彩色塑胶地垫', '(RGB值：135,206,235)'],\n",
       " ['浅蓝色彩色塑胶地垫', '(RGB值：135,206,235)'],\n",
       " ['浅蓝色彩色塑胶地垫', '(RGB值：135,206,235)'],\n",
       " ['500X500X30厚芝麻灰烧面花岗岩座面', ''],\n",
       " ['500X150X200白麻烧面花岗岩平缘石', ''],\n",
       " ['500X150X200白麻烧面花岗岩平缘石', ''],\n",
       " ['500X150X200白麻烧面花岗岩平缘石', ''],\n",
       " '水面',\n",
       " '水面',\n",
       " '铺装',\n",
       " '水面',\n",
       " '铺装',\n",
       " '铺装',\n",
       " '铺装',\n",
       " '水面',\n",
       " '铺装',\n",
       " '铺装',\n",
       " '铺装',\n",
       " '坐凳',\n",
       " '景墙',\n",
       " '绿地',\n",
       " '绿地',\n",
       " '绿地',\n",
       " '绿地',\n",
       " '绿地',\n",
       " '绿地',\n",
       " '铺装',\n",
       " '铺装',\n",
       " ['艺术黑板景墙详见', ''],\n",
       " ['音符景墙详见', ''],\n",
       " ['儿童游戏滑梯详见', ''],\n",
       " '绿地',\n",
       " ['做法详见', ''],\n",
       " ['做法详见', ''],\n",
       " ['做法详见', ''],\n",
       " ['花岗岩汀步铺装样式详见', ''],\n",
       " ['坐凳挡墙详见', ''],\n",
       " ['做法详见', ''],\n",
       " ['做法详见', ''],\n",
       " ['花岗岩汀步铺装样式详见', ''],\n",
       " ['坐凳挡墙详见', ''],\n",
       " ['做法详见', ''],\n",
       " ['数字图案大样详见', ''],\n",
       " '成品座椅',\n",
       " '成品垃圾桶',\n",
       " '定制标识牌',\n",
       " '成品垃圾桶']"
      ]
     },
     "execution_count": 87,
     "metadata": {},
     "output_type": "execute_result"
    }
   ],
   "source": [
    "# Set the path to the folder where the dwg files are located,and find all the dwg files in the folder\n",
    "file_path = r'W:\\城建院数据\\20220526 西藏项目\\05-施工图纸\\中心公园\\广场'\n",
    "dwg_files = find_dwg_files(file_path)\n",
    "#Empty list to store extracted text\n",
    "extracted_text = []\n",
    "# Extract all text from dwg files in a folder\n",
    "for dwg_file in dwg_files:\n",
    "    try:\n",
    "        t1 = time.time()\n",
    "        print('Opening file: ' + dwg_file)\n",
    "        extract_text_from_dwg(dwg_file)\n",
    "        t2 = time.time()\n",
    "        print(f'Time taken: ' + str(t2-t1) + ' seconds')\n",
    "    except:\n",
    "        print('Error in file: ' + dwg_file)\n",
    "        pass\n",
    "extracted_text"
   ]
  },
  {
   "cell_type": "code",
   "execution_count": 78,
   "metadata": {},
   "outputs": [
    {
     "data": {
      "text/plain": [
       "[]"
      ]
     },
     "execution_count": 78,
     "metadata": {},
     "output_type": "execute_result"
    }
   ],
   "source": [
    "extrancted_text"
   ]
  },
  {
   "cell_type": "code",
   "execution_count": null,
   "metadata": {},
   "outputs": [],
   "source": []
  }
 ],
 "metadata": {
  "kernelspec": {
   "display_name": "OD",
   "language": "python",
   "name": "python3"
  },
  "language_info": {
   "codemirror_mode": {
    "name": "ipython",
    "version": 3
   },
   "file_extension": ".py",
   "mimetype": "text/x-python",
   "name": "python",
   "nbconvert_exporter": "python",
   "pygments_lexer": "ipython3",
   "version": "3.10.5"
  }
 },
 "nbformat": 4,
 "nbformat_minor": 2
}
