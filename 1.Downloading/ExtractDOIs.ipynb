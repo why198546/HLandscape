{
 "cells": [
  {
   "cell_type": "code",
   "execution_count": 3,
   "metadata": {},
   "outputs": [
    {
     "name": "stdout",
     "output_type": "stream",
     "text": [
      "w:\\python\\HLandscape\n"
     ]
    }
   ],
   "source": [
    "%cd .."
   ]
  },
  {
   "cell_type": "code",
   "execution_count": 3,
   "metadata": {},
   "outputs": [],
   "source": [
    "# import autopipimport \n",
    "import requests\n",
    "import re\n",
    "import pandas as pd\n",
    "import pyperclip\n",
    "from pyzotero import zotero"
   ]
  },
  {
   "cell_type": "code",
   "execution_count": 12,
   "metadata": {},
   "outputs": [],
   "source": [
    "# def extract_dois(url):\n",
    "#   \"\"\"Extracts DOIs from a URL.\n",
    "\n",
    "#   Args:\n",
    "#     url: A URL.\n",
    "\n",
    "#   Returns:\n",
    "#     A list of DOIs.\n",
    "#   \"\"\"\n",
    "\n",
    "#   response = requests.get(url)\n",
    "#   text = response.text\n",
    "#   dois = re.findall(r'\\b10\\.\\d{4,9}/[-.;()/:\\w]+', text)\n",
    "#   return dois\n",
    "# add_str = lambda x: 'https://doi.org/' + str(x)\n",
    "# def main():\n",
    "#   url = pyperclip.paste()\n",
    "#   dois = extract_dois(url)\n",
    "#   links = list(map(add_str, dois))\n",
    "#   df = pd.DataFrame({\"DOI\": links})\n",
    "#   df.to_csv(\"dois.csv\", index=False)\n",
    "#   df['DOI'].to_clipboard(index=False, header=False)\n",
    "  \n",
    "\n",
    "# if __name__ == \"__main__\":\n",
    "#   main()\n"
   ]
  },
  {
   "cell_type": "code",
   "execution_count": 25,
   "metadata": {},
   "outputs": [],
   "source": [
    "def extract_dois(url):\n",
    "  \"\"\"Extracts DOIs from a URL.\n",
    "\n",
    "  Args:\n",
    "    url: A URL.\n",
    "\n",
    "  Returns:\n",
    "    A list of DOIs.\n",
    "  \"\"\"\n",
    "\n",
    "  response = requests.get(url)\n",
    "  text = response.text\n",
    "  dois = re.findall(r'\\b10\\.\\d{4,9}/[-.;()/:\\w]+', text)\n",
    "  return dois\n",
    "add_str = lambda x: 'https://doi.org/' + str(x)\n",
    "\n",
    "def main():\n",
    "  url = pyperclip.paste()\n",
    "  dois = extract_dois(url)\n",
    "  links = list(map(add_str, dois))\n",
    "  df = pd.DataFrame({\"DOI\": links})\n",
    "  df.to_csv(\"dois.csv\", index=False)\n",
    "  df['DOI'].to_clipboard(index=False, header=False)\n",
    "  return df['DOI']\n",
    "\n",
    "def add_items_to_zotero_by_doi(doi_list, library_id, api_key, collection_id):\n",
    "    # 初始化 Pyzotero 对象\n",
    "    zot = zotero.Zotero(library_id, \"user\", api_key)\n",
    "    \n",
    "    for doi_url in doi_list:\n",
    "        # 去除 \"https\" 前缀\n",
    "        doi = doi_url.replace(\"https://doi.org/\", \"\")\n",
    "        \n",
    "        # 使用 CrossRef API 获取元数据\n",
    "        crossref_url = f\"https://api.crossref.org/works/{doi}\"\n",
    "        response = requests.get(crossref_url)\n",
    "        metadata = response.json()['message']\n",
    "        \n",
    "        # 创建新项的模板\n",
    "        new_item_template = zot.item_template('journalArticle')  # 以期刊文章为例\n",
    "        new_item_template['title'] = metadata.get('title')[0]\n",
    "        new_item_template['DOI'] = doi\n",
    "        new_item_template['creators'] = [{\"creatorType\": \"author\", \"name\": author['family']} for author in metadata.get('author', [])]\n",
    "        \n",
    "        # 提交新项\n",
    "        new_item = zot.create_items([new_item_template])\n",
    "        \n",
    "        # 将新项添加到特定集合\n",
    "        if new_item['successful']:\n",
    "            item_keys = list(new_item['successful'].values())\n",
    "            for item_key in item_keys:\n",
    "                try:\n",
    "                    # 确保项实际存在\n",
    "                    item_data = zot.item(item_key)\n",
    "                    if item_data:\n",
    "                        payload = {\n",
    "                            'key': item_key,\n",
    "                            'version': item_data['version']\n",
    "                        }\n",
    "                        zot.addto_collection(collection_id, payload)\n",
    "                        print(f\"Item successfully added to collection with DOI: {doi}\")\n",
    "                    else:\n",
    "                        print(f\"Item with key {item_key} not found.\")\n",
    "                except Exception as e:\n",
    "                    print(f\"An error occurred: {e}\")\n",
    "        else:\n",
    "            print(f\"Failed to add item with DOI: {doi}\")\n"
   ]
  },
  {
   "cell_type": "code",
   "execution_count": 26,
   "metadata": {},
   "outputs": [
    {
     "name": "stdout",
     "output_type": "stream",
     "text": [
      "An error occurred: 'dict' object has no attribute 'upper'\n",
      "An error occurred: 'dict' object has no attribute 'upper'\n",
      "An error occurred: 'dict' object has no attribute 'upper'\n",
      "An error occurred: 'dict' object has no attribute 'upper'\n",
      "An error occurred: 'dict' object has no attribute 'upper'\n",
      "An error occurred: 'dict' object has no attribute 'upper'\n",
      "An error occurred: 'dict' object has no attribute 'upper'\n",
      "An error occurred: 'dict' object has no attribute 'upper'\n",
      "An error occurred: 'dict' object has no attribute 'upper'\n",
      "An error occurred: 'dict' object has no attribute 'upper'\n",
      "An error occurred: 'dict' object has no attribute 'upper'\n",
      "An error occurred: 'dict' object has no attribute 'upper'\n",
      "An error occurred: 'dict' object has no attribute 'upper'\n",
      "An error occurred: 'dict' object has no attribute 'upper'\n",
      "An error occurred: 'dict' object has no attribute 'upper'\n",
      "An error occurred: 'dict' object has no attribute 'upper'\n",
      "An error occurred: 'dict' object has no attribute 'upper'\n",
      "An error occurred: 'dict' object has no attribute 'upper'\n",
      "An error occurred: 'dict' object has no attribute 'upper'\n",
      "An error occurred: 'dict' object has no attribute 'upper'\n",
      "An error occurred: 'dict' object has no attribute 'upper'\n"
     ]
    }
   ],
   "source": [
    "if __name__ == \"__main__\":\n",
    "  doi_list = main()\n",
    "  # library_id = '9769982'\n",
    "  # api_key = 'fw2EPYr4Dby6PulXbrftoSZ2'\n",
    "  # collection_id = \"SILYZPVI\"\n",
    "  # add_items_to_zotero_by_doi(list(doi_list), library_id, api_key, collection_id)\n",
    "  pyperclip.copy(doi_list)\n"
   ]
  },
  {
   "cell_type": "code",
   "execution_count": 23,
   "metadata": {},
   "outputs": [
    {
     "data": {
      "text/plain": [
       "['https://doi.org/10.1016/j.isprsjprs.2023.03.023',\n",
       " 'https://doi.org/10.1016/j.isprsjprs.2023.03.021',\n",
       " 'https://doi.org/10.1016/j.isprsjprs.2023.03.019',\n",
       " 'https://doi.org/10.1016/j.isprsjprs.2023.03.016',\n",
       " 'https://doi.org/10.1016/j.isprsjprs.2023.04.001',\n",
       " 'https://doi.org/10.1016/j.isprsjprs.2023.03.018',\n",
       " 'https://doi.org/10.1016/j.isprsjprs.2023.03.017',\n",
       " 'https://doi.org/10.1016/j.isprsjprs.2023.04.002',\n",
       " 'https://doi.org/10.1016/j.isprsjprs.2023.03.022',\n",
       " 'https://doi.org/10.1016/j.isprsjprs.2023.03.020',\n",
       " 'https://doi.org/10.1016/j.isprsjprs.2023.04.004',\n",
       " 'https://doi.org/10.1016/j.isprsjprs.2023.04.006',\n",
       " 'https://doi.org/10.1016/j.isprsjprs.2023.04.007',\n",
       " 'https://doi.org/10.1016/j.isprsjprs.2023.04.012',\n",
       " 'https://doi.org/10.1016/j.isprsjprs.2023.04.016',\n",
       " 'https://doi.org/10.1016/j.isprsjprs.2023.04.009',\n",
       " 'https://doi.org/10.1016/j.isprsjprs.2023.04.014',\n",
       " 'https://doi.org/10.1016/j.isprsjprs.2023.04.008',\n",
       " 'https://doi.org/10.1016/j.isprsjprs.2023.04.015',\n",
       " 'https://doi.org/10.1016/j.isprsjprs.2023.04.010',\n",
       " 'https://doi.org/10.1016/j.isprsjprs.2023.04.011']"
      ]
     },
     "execution_count": 23,
     "metadata": {},
     "output_type": "execute_result"
    }
   ],
   "source": [
    "list(doi_list)"
   ]
  },
  {
   "cell_type": "code",
   "execution_count": null,
   "metadata": {},
   "outputs": [],
   "source": []
  }
 ],
 "metadata": {
  "kernelspec": {
   "display_name": "OD",
   "language": "python",
   "name": "python3"
  },
  "language_info": {
   "codemirror_mode": {
    "name": "ipython",
    "version": 3
   },
   "file_extension": ".py",
   "mimetype": "text/x-python",
   "name": "python",
   "nbconvert_exporter": "python",
   "pygments_lexer": "ipython3",
   "version": "3.10.5"
  },
  "orig_nbformat": 4
 },
 "nbformat": 4,
 "nbformat_minor": 2
}
