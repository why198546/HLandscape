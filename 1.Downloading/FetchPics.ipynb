{
 "cells": [
  {
   "cell_type": "markdown",
   "metadata": {},
   "source": [
    "# Import libraries"
   ]
  },
  {
   "cell_type": "code",
   "execution_count": null,
   "metadata": {},
   "outputs": [],
   "source": [
    "import os\n",
    "import requests\n",
    "import pyperclip\n",
    "import img2pdf\n",
    "from natsort import natsorted"
   ]
  },
  {
   "cell_type": "markdown",
   "metadata": {},
   "source": [
    "# Copy the image urls from the clipboard with xpath"
   ]
  },
  {
   "cell_type": "code",
   "execution_count": 54,
   "metadata": {},
   "outputs": [
    {
     "data": {
      "text/plain": [
       "['http://5b0988e595225.cdn.sohucs.com/images/20171026/28808555a2dc48aca3da4a1d435b3b74.jpeg',\n",
       " 'http://5b0988e595225.cdn.sohucs.com/images/20171026/13969d5da8e94192828c291e5ff34043.jpeg',\n",
       " 'http://5b0988e595225.cdn.sohucs.com/images/20171026/9e8c02ffb4de4d32a9cb46bc9b5d2f2f.jpeg',\n",
       " 'http://5b0988e595225.cdn.sohucs.com/images/20171026/115eff02be7248039c9f9bfadb7efa69.jpeg',\n",
       " 'http://5b0988e595225.cdn.sohucs.com/images/20171026/ed67c5f1c25c4cc78b01e41a237d7287.jpeg',\n",
       " 'http://5b0988e595225.cdn.sohucs.com/images/20171026/94791e5119fe4fc790c889598e06090a.jpeg',\n",
       " 'http://5b0988e595225.cdn.sohucs.com/images/20171026/06461bb9c2934d42bd73d551239707e0.jpeg',\n",
       " 'http://5b0988e595225.cdn.sohucs.com/images/20171026/06f3d82b71904a08b4f91492f899d341.jpeg']"
      ]
     },
     "execution_count": 54,
     "metadata": {},
     "output_type": "execute_result"
    }
   ],
   "source": [
    "image_urls = pyperclip.paste().split(\"\\r\\n\")\n",
    "image_urls"
   ]
  },
  {
   "cell_type": "markdown",
   "metadata": {},
   "source": [
    "# Define the base url\n"
   ]
  },
  {
   "cell_type": "code",
   "execution_count": 55,
   "metadata": {},
   "outputs": [],
   "source": [
    "base_url = \"\""
   ]
  },
  {
   "cell_type": "markdown",
   "metadata": {},
   "source": [
    "# Download images into the current directory\n"
   ]
  },
  {
   "cell_type": "code",
   "execution_count": 57,
   "metadata": {},
   "outputs": [
    {
     "name": "stdout",
     "output_type": "stream",
     "text": [
      "Failed to download image http://5b0988e595225.cdn.sohucs.com/images/20171026/28808555a2dc48aca3da4a1d435b3b74.jpeg. Status code: 403\n",
      "Failed to download image http://5b0988e595225.cdn.sohucs.com/images/20171026/13969d5da8e94192828c291e5ff34043.jpeg. Status code: 403\n",
      "Failed to download image http://5b0988e595225.cdn.sohucs.com/images/20171026/9e8c02ffb4de4d32a9cb46bc9b5d2f2f.jpeg. Status code: 403\n",
      "Failed to download image http://5b0988e595225.cdn.sohucs.com/images/20171026/115eff02be7248039c9f9bfadb7efa69.jpeg. Status code: 403\n",
      "Failed to download image http://5b0988e595225.cdn.sohucs.com/images/20171026/ed67c5f1c25c4cc78b01e41a237d7287.jpeg. Status code: 403\n",
      "Failed to download image http://5b0988e595225.cdn.sohucs.com/images/20171026/94791e5119fe4fc790c889598e06090a.jpeg. Status code: 403\n",
      "Failed to download image http://5b0988e595225.cdn.sohucs.com/images/20171026/06461bb9c2934d42bd73d551239707e0.jpeg. Status code: 403\n",
      "Failed to download image http://5b0988e595225.cdn.sohucs.com/images/20171026/06f3d82b71904a08b4f91492f899d341.jpeg. Status code: 403\n"
     ]
    }
   ],
   "source": [
    "for i, url in enumerate(image_urls):\n",
    "    full_url = base_url + url\n",
    "    response = requests.get(full_url)\n",
    "    if response.status_code == 200:\n",
    "        with open(f\"{i+1}_{url.split('/')[-1]}\", 'wb') as f:\n",
    "            f.write(response.content)\n",
    "        print(f\"Image {url} downloaded successfully.\")\n",
    "    else:\n",
    "        print(f\"Failed to download image {url}. Status code: {response.status_code}\")\n"
   ]
  },
  {
   "cell_type": "markdown",
   "metadata": {},
   "source": [
    "# Combine images into a single PDF and delete the images\n"
   ]
  },
  {
   "cell_type": "code",
   "execution_count": null,
   "metadata": {},
   "outputs": [],
   "source": [
    "# Get the list of image files in the current folder\n",
    "image_files = [file for file in os.listdir(os.getcwd()) if file.endswith('.JPG') or file.endswith('.png')]\n",
    "\n",
    "# Sort the image files alphabetically\n",
    "image_files = natsorted(image_files)\n",
    "\n",
    "# Ensure all files are images and exist\n",
    "image_files = [img for img in image_files if os.path.exists(img) and img.lower().endswith(('.png', '.jpg', '.jpeg', '.bmp'))]\n",
    "\n",
    "# Convert images to a PDF\n",
    "with open(\"output.pdf\", \"wb\") as f:\n",
    "    f.write(img2pdf.convert(image_files))\n",
    "for image_file in image_files:\n",
    "    os.remove(image_file)"
   ]
  },
  {
   "cell_type": "code",
   "execution_count": null,
   "metadata": {},
   "outputs": [],
   "source": []
  }
 ],
 "metadata": {
  "kernelspec": {
   "display_name": ".venv",
   "language": "python",
   "name": "python3"
  },
  "language_info": {
   "codemirror_mode": {
    "name": "ipython",
    "version": 3
   },
   "file_extension": ".py",
   "mimetype": "text/x-python",
   "name": "python",
   "nbconvert_exporter": "python",
   "pygments_lexer": "ipython3",
   "version": "3.10.6"
  }
 },
 "nbformat": 4,
 "nbformat_minor": 2
}
