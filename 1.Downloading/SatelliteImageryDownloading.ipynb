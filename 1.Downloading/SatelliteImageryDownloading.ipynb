{
 "cells": [
  {
   "cell_type": "code",
   "execution_count": 1,
   "metadata": {
    "ExecuteTime": {
     "end_time": "2023-07-26T16:30:44.003018Z",
     "start_time": "2023-07-26T16:30:43.992020Z"
    }
   },
   "outputs": [],
   "source": [
    "import os\n",
    "import leafmap\n",
    "from samgeo import SamGeo, tms_to_geotiff, get_basemaps\n",
    "from osgeo import gdal"
   ]
  },
  {
   "cell_type": "code",
   "execution_count": 2,
   "metadata": {},
   "outputs": [],
   "source": [
    "lat, lon = 32.689670,109.004300"
   ]
  },
  {
   "cell_type": "code",
   "execution_count": 3,
   "metadata": {
    "ExecuteTime": {
     "end_time": "2023-07-26T16:31:32.519162Z",
     "start_time": "2023-07-26T16:31:32.452053Z"
    }
   },
   "outputs": [
    {
     "data": {
      "application/vnd.jupyter.widget-view+json": {
       "model_id": "b63536c46eee40acae3b3b2e1757da7e",
       "version_major": 2,
       "version_minor": 0
      },
      "text/plain": [
       "Map(center=[32.68967, 109.0043], controls=(AttributionControl(options=['position', 'prefix'], position='bottom…"
      ]
     },
     "execution_count": 3,
     "metadata": {},
     "output_type": "execute_result"
    }
   ],
   "source": [
    "m = leafmap.Map(draw_control=True, layers_control=True, measure_control=True, fullscreen_control=False, attribution_control=True)\n",
    "m.add_basemap(\"SATELLITE\")\n",
    "m.set_center(lon,lat,16)\n",
    "m"
   ]
  },
  {
   "cell_type": "code",
   "execution_count": null,
   "metadata": {},
   "outputs": [],
   "source": [
    "m.user_roi_bounds"
   ]
  },
  {
   "cell_type": "code",
   "execution_count": null,
   "metadata": {
    "ExecuteTime": {
     "end_time": "2023-07-26T16:22:48.257879Z",
     "start_time": "2023-07-26T16:22:48.246132Z"
    }
   },
   "outputs": [],
   "source": [
    "def download_geotiff(Name,Zoom,geotiff_path,source):\n",
    "    tms_to_geotiff(output=geotiff_path,bbox=m.user_roi_bounds(), zoom=Zoom,source=source,overwrite=True)\n",
    "def cal_epsg():\n",
    "    center = round(m.center[1],0)\n",
    "    epsg = int(4548 - round((117-center)/3,0))\n",
    "    print(f'本项目中央子午线精度为：{center}，投影坐标系应为 EPSG:{epsg}')\n",
    "    return epsg\n",
    "def reproject_geotiff(src_filename, dst_filename, dst_srs):\n",
    "    # Open the source file\n",
    "    src_ds = gdal.Open(src_filename)\n",
    "    if src_ds is None:\n",
    "        print('Could not open source file', src_filename)\n",
    "        return\n",
    "    \n",
    "    # Fetch the source SRS\n",
    "    src_srs = src_ds.GetProjectionRef()\n",
    "    \n",
    "    # Create the destination file\n",
    "    dst_ds = gdal.Warp(dst_filename, src_ds, dstSRS=dst_srs)\n",
    "    print(src_filename,dst_filename,dst_srs)\n",
    "\n",
    "    # Close datasets\n",
    "    if dst_ds:\n",
    "        dst_ds = None\n",
    "    if src_ds:\n",
    "        src_ds = None\n",
    "\n",
    "def generate_tfw(geotiff_path, tfw_path):\n",
    "    \"\"\"Generate a TFW file from a GeoTIFF file.\n",
    "\n",
    "    Args:\n",
    "        geotiff_path: The path to the GeoTIFF file.\n",
    "        tfw_path: The path to the TFW file.\n",
    "    \"\"\"\n",
    "\n",
    "    dataset = gdal.Open(Re_geotiff_path)\n",
    "\n",
    "    if dataset is None:\n",
    "        raise Exception(\"Could not open GeoTIFF file.\")\n",
    "\n",
    "    transform = dataset.GetGeoTransform()\n",
    "    transform = [transform[1], transform[2], transform[4], transform[5], transform[0], transform[3]]\n",
    "\n",
    "    with open(tfw_path, \"w\") as f:\n",
    "        f.write(\"\\n\".join([f\"{x:.16f} \" for x in transform]))"
   ]
  },
  {
   "cell_type": "code",
   "execution_count": null,
   "metadata": {
    "ExecuteTime": {
     "end_time": "2023-07-26T16:22:57.471275Z",
     "start_time": "2023-07-26T16:22:55.808713Z"
    }
   },
   "outputs": [],
   "source": [
    "if __name__ == \"__main__\":\n",
    "    image_folder = r'D:\\Documents\\WeChat Files\\wxid_3oemgw81j4rc22\\FileStorage\\File\\2023-10\\IMG_20231030_162539(1)'\n",
    "    epsg = cal_epsg()\n",
    "    Name = \"安康项目\"\n",
    "    source = \"SATELLITE\"\n",
    "    temp  = \"D:\\Temp\"\n",
    "    os.chdir(temp)\n",
    "    # base_path = r\"W:\\20230808 腾冲火山地质公园\\08-现场照片\\卫片\"\n",
    "    # os.chdir(base_path)\n",
    "    os.makedirs(f\"./{Name}\", exist_ok=True)\n",
    "    Zoom = 21\n",
    "    geotiff_path = f\"./{Name}/{Name}_{source}_4326.tif\"\n",
    "    Re_geotiff_path = f\"./{Name}/{Name}_{source}_{epsg}.tif\"\n",
    "    download_geotiff(Name,Zoom,geotiff_path,source)\n",
    "    reproject_geotiff(geotiff_path, Re_geotiff_path, f'EPSG:{epsg}')\n",
    "    tfw_path = f\"./{Name}/{Name}_{source}_{epsg}.tfw\"\n",
    "    generate_tfw(geotiff_path, tfw_path)\n",
    "    os.system('start .')"
   ]
  },
  {
   "cell_type": "code",
   "execution_count": null,
   "metadata": {},
   "outputs": [],
   "source": []
  },
  {
   "cell_type": "code",
   "execution_count": null,
   "metadata": {},
   "outputs": [],
   "source": []
  }
 ],
 "metadata": {
  "kernelspec": {
   "display_name": "OD",
   "language": "python",
   "name": "python3"
  },
  "language_info": {
   "codemirror_mode": {
    "name": "ipython",
    "version": 3
   },
   "file_extension": ".py",
   "mimetype": "text/x-python",
   "name": "python",
   "nbconvert_exporter": "python",
   "pygments_lexer": "ipython3",
   "version": "3.10.5"
  },
  "toc": {
   "base_numbering": 1,
   "nav_menu": {},
   "number_sections": true,
   "sideBar": true,
   "skip_h1_title": false,
   "title_cell": "Table of Contents",
   "title_sidebar": "Contents",
   "toc_cell": false,
   "toc_position": {},
   "toc_section_display": true,
   "toc_window_display": false
  }
 },
 "nbformat": 4,
 "nbformat_minor": 2
}
