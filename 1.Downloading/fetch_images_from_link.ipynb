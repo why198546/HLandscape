{
 "cells": [
  {
   "cell_type": "code",
   "execution_count": 2,
   "metadata": {},
   "outputs": [],
   "source": [
    "import os\n",
    "import requests\n",
    "from bs4 import BeautifulSoup\n",
    "from urllib.parse import urljoin\n"
   ]
  },
  {
   "cell_type": "code",
   "execution_count": 3,
   "metadata": {},
   "outputs": [],
   "source": [
    "\n",
    "def fetch_images(url, folder):\n",
    "    response = requests.get(url)\n",
    "    soup = BeautifulSoup(response.content, 'html.parser')\n",
    "    \n",
    "    # Find all image tags in the webpage\n",
    "    img_tags = soup.find_all('img')\n",
    "    \n",
    "    # Extract the src attribute from each image tag\n",
    "    for img_tag in img_tags:\n",
    "        src = img_tag.get('src')\n",
    "        if src:\n",
    "            # Join the URL of the webpage with the src attribute to get the absolute URL of the image\n",
    "            abs_url = urljoin(url, src)\n",
    "            \n",
    "            # Get the filename from the absolute URL\n",
    "            filename = os.path.basename(abs_url)\n",
    "            \n",
    "            # Make a GET request to the image URL\n",
    "            image_response = requests.get(abs_url)\n",
    "            \n",
    "            # Save the image in the specified folder\n",
    "            save_path = os.path.join(folder, filename)\n",
    "            with open(save_path, 'wb') as f:\n",
    "                f.write(image_response.content)\n",
    "                \n",
    "            print(f'Saved image: {filename}')\n"
   ]
  },
  {
   "cell_type": "code",
   "execution_count": 4,
   "metadata": {},
   "outputs": [],
   "source": [
    "\n",
    "# Example usage\n",
    "webpage_url = 'https://www.zhulong.com/bbs/d/32417515.html?tid=32417515'  # Replace with the URL of the webpage you want to fetch images from\n",
    "save_folder = 'images'  # Replace with the path of the folder where you want to save the images\n",
    "\n",
    "# Create the folder if it doesn't exist\n",
    "os.makedirs(save_folder, exist_ok=True)\n",
    "\n",
    "fetch_images(webpage_url, save_folder)\n"
   ]
  },
  {
   "cell_type": "code",
   "execution_count": 5,
   "metadata": {},
   "outputs": [],
   "source": [
    "def fetch_image_links(url):\n",
    "    response = requests.get(url)\n",
    "    soup = BeautifulSoup(response.content, 'html.parser')\n",
    "    \n",
    "    # Find all image tags in the webpage\n",
    "    img_tags = soup.find_all('img')\n",
    "    \n",
    "    # Extract the src attribute from each image tag\n",
    "    image_urls = []\n",
    "    for img_tag in img_tags:\n",
    "        src = img_tag.get('src')\n",
    "        if src:\n",
    "            # Join the URL of the webpage with the src attribute to get the absolute URL of the image\n",
    "            abs_url = urljoin(url, src)\n",
    "            image_urls.append(abs_url)\n",
    "    \n",
    "    return image_urls\n"
   ]
  },
  {
   "cell_type": "code",
   "execution_count": 13,
   "metadata": {},
   "outputs": [],
   "source": [
    "\n",
    "# Example usage\n",
    "webpage_url = 'https://www.zhulong.com/bbs/d/30425377.html?tid=30425377'  # Replace with the URL of the webpage you want to fetch images from\n",
    "images = fetch_image_links(webpage_url)\n"
   ]
  },
  {
   "cell_type": "code",
   "execution_count": 14,
   "metadata": {},
   "outputs": [],
   "source": [
    "# Print the fetched image URLs\n",
    "for image_url in images:\n",
    "    print(image_url)"
   ]
  },
  {
   "cell_type": "code",
   "execution_count": 15,
   "metadata": {},
   "outputs": [],
   "source": [
    "response = requests.get(webpage_url)"
   ]
  },
  {
   "cell_type": "code",
   "execution_count": 25,
   "metadata": {},
   "outputs": [],
   "source": [
    "soup = BeautifulSoup(response.content, 'html.parser')"
   ]
  },
  {
   "cell_type": "code",
   "execution_count": 26,
   "metadata": {},
   "outputs": [
    {
     "data": {
      "text/plain": [
       "<!DOCTYPE html>\n",
       "<html lang=\"zh-CN\"><head><meta charset=\"utf-8\"/><meta content=\"IE=edge\" http-equiv=\"X-UA-Compatible\"/><meta content=\"width=device-width,initial-scale=1\" name=\"viewport\"/><meta content=\"notranslate\" name=\"google\"/><title>植物景观设计，让沙漠变绿洲！</title><meta content=\"\" name=\"description\"/><meta content=\"沙漠植物,植物配置,漠景观意向图,植物造景\" name=\"keywords\"/><link href=\"https://www.zhulong.com/bbs/prod-api/index/index/geticon.ico\" rel=\"icon\"/><script src=\"https://ssl.captcha.qq.com/TCaptcha.js\"></script><link href=\"/bbs/css/chunk-066f9d5d.08e4edad.css\" rel=\"prefetch\"/><link href=\"/bbs/css/chunk-07c7ea4b.9c52719c.css\" rel=\"prefetch\"/><link href=\"/bbs/css/chunk-08446334.8f3d21bf.css\" rel=\"prefetch\"/><link href=\"/bbs/css/chunk-08f1b2e0.7595271f.css\" rel=\"prefetch\"/><link href=\"/bbs/css/chunk-0f368907.a4bd62ba.css\" rel=\"prefetch\"/><link href=\"/bbs/css/chunk-1a5c6ff3.50b707bd.css\" rel=\"prefetch\"/><link href=\"/bbs/css/chunk-1e023a8e.0e6964bc.css\" rel=\"prefetch\"/><link href=\"/bbs/css/chunk-1ec21f95.70076427.css\" rel=\"prefetch\"/><link href=\"/bbs/css/chunk-274146af.633d3d1f.css\" rel=\"prefetch\"/><link href=\"/bbs/css/chunk-281d026b.aac04e4c.css\" rel=\"prefetch\"/><link href=\"/bbs/css/chunk-29f22a98.aad30e9e.css\" rel=\"prefetch\"/><link href=\"/bbs/css/chunk-2b046d6c.7ed438b1.css\" rel=\"prefetch\"/><link href=\"/bbs/css/chunk-2bce5ad0.29f09de3.css\" rel=\"prefetch\"/><link href=\"/bbs/css/chunk-38cc94f3.17bf0e50.css\" rel=\"prefetch\"/><link href=\"/bbs/css/chunk-3d099126.2707b475.css\" rel=\"prefetch\"/><link href=\"/bbs/css/chunk-41ff4d04.4577b43f.css\" rel=\"prefetch\"/><link href=\"/bbs/css/chunk-554c4892.c79ca87f.css\" rel=\"prefetch\"/><link href=\"/bbs/css/chunk-5975e902.6e4b325e.css\" rel=\"prefetch\"/><link href=\"/bbs/css/chunk-64b7065a.ab860c5a.css\" rel=\"prefetch\"/><link href=\"/bbs/css/chunk-6c3a66bb.ec9e49fa.css\" rel=\"prefetch\"/><link href=\"/bbs/css/chunk-6d7a519e.286ab92d.css\" rel=\"prefetch\"/><link href=\"/bbs/css/chunk-6e5207b8.16247856.css\" rel=\"prefetch\"/><link href=\"/bbs/css/chunk-79412cdf.813e152b.css\" rel=\"prefetch\"/><link href=\"/bbs/css/chunk-79de3441.0bb59277.css\" rel=\"prefetch\"/><link href=\"/bbs/css/chunk-84f5f240.31a62edd.css\" rel=\"prefetch\"/><link href=\"/bbs/css/chunk-b5a7df8a.ebbbc010.css\" rel=\"prefetch\"/><link href=\"/bbs/css/chunk-c3c100b8.5f1bcd8c.css\" rel=\"prefetch\"/><link href=\"/bbs/css/chunk-d33f9d8c.177b6820.css\" rel=\"prefetch\"/><link href=\"/bbs/css/chunk-f7df7180.71d25bf0.css\" rel=\"prefetch\"/><link href=\"/bbs/js/chunk-066f9d5d.86b94a61.js\" rel=\"prefetch\"/><link href=\"/bbs/js/chunk-07c7ea4b.c5eeeea4.js\" rel=\"prefetch\"/><link href=\"/bbs/js/chunk-08446334.fc6e2f71.js\" rel=\"prefetch\"/><link href=\"/bbs/js/chunk-08f1b2e0.afca5a40.js\" rel=\"prefetch\"/><link href=\"/bbs/js/chunk-0f368907.4a3f72b3.js\" rel=\"prefetch\"/><link href=\"/bbs/js/chunk-1a5c6ff3.4497d770.js\" rel=\"prefetch\"/><link href=\"/bbs/js/chunk-1e023a8e.6f6051c3.js\" rel=\"prefetch\"/><link href=\"/bbs/js/chunk-1ec21f95.04ab5977.js\" rel=\"prefetch\"/><link href=\"/bbs/js/chunk-274146af.852d4958.js\" rel=\"prefetch\"/><link href=\"/bbs/js/chunk-281d026b.fb681a40.js\" rel=\"prefetch\"/><link href=\"/bbs/js/chunk-29f22a98.cd0d7f5c.js\" rel=\"prefetch\"/><link href=\"/bbs/js/chunk-2b046d6c.91d1d597.js\" rel=\"prefetch\"/><link href=\"/bbs/js/chunk-2bce5ad0.77e9ef7f.js\" rel=\"prefetch\"/><link href=\"/bbs/js/chunk-2d0e2666.44b10f93.js\" rel=\"prefetch\"/><link href=\"/bbs/js/chunk-38cc94f3.389378a6.js\" rel=\"prefetch\"/><link href=\"/bbs/js/chunk-3d099126.558d7004.js\" rel=\"prefetch\"/><link href=\"/bbs/js/chunk-41ff4d04.92ac405b.js\" rel=\"prefetch\"/><link href=\"/bbs/js/chunk-554c4892.56adc4f4.js\" rel=\"prefetch\"/><link href=\"/bbs/js/chunk-5975e902.2cd9dc38.js\" rel=\"prefetch\"/><link href=\"/bbs/js/chunk-64b7065a.4304b734.js\" rel=\"prefetch\"/><link href=\"/bbs/js/chunk-6c3a66bb.15521f3e.js\" rel=\"prefetch\"/><link href=\"/bbs/js/chunk-6d7a519e.54a5e44c.js\" rel=\"prefetch\"/><link href=\"/bbs/js/chunk-6e5207b8.4ebe2634.js\" rel=\"prefetch\"/><link href=\"/bbs/js/chunk-79412cdf.f7c07cec.js\" rel=\"prefetch\"/><link href=\"/bbs/js/chunk-79de3441.1e6fd7e1.js\" rel=\"prefetch\"/><link href=\"/bbs/js/chunk-84f5f240.984ca71d.js\" rel=\"prefetch\"/><link href=\"/bbs/js/chunk-b5a7df8a.2cf1f8c8.js\" rel=\"prefetch\"/><link href=\"/bbs/js/chunk-c3c100b8.3218ae8e.js\" rel=\"prefetch\"/><link href=\"/bbs/js/chunk-d33f9d8c.9388c84d.js\" rel=\"prefetch\"/><link href=\"/bbs/js/chunk-f7df7180.d6114d80.js\" rel=\"prefetch\"/><link href=\"/bbs/js/npm.jsencrypt.e096e2d5.js\" rel=\"prefetch\"/><link href=\"/bbs/js/npm.qs.9423f638.js\" rel=\"prefetch\"/><link href=\"/bbs/js/npm.regenerator-runtime.4325ce0a.js\" rel=\"prefetch\"/><link href=\"/bbs/js/npm.vue-ueditor-wrap.cd840c35.js\" rel=\"prefetch\"/><link as=\"style\" href=\"/bbs/css/app.5aceb1dd.css\" rel=\"preload\"/><link as=\"style\" href=\"/bbs/css/npm.ant-design-vue.ac429d1b.css\" rel=\"preload\"/><link as=\"style\" href=\"/bbs/css/npm.element-ui.84bb20f7.css\" rel=\"preload\"/><link as=\"style\" href=\"/bbs/css/npm.zhulong-common.43ec4045.css\" rel=\"preload\"/><link as=\"style\" href=\"/bbs/css/npm.zl-imalert-common.593a2b2c.css\" rel=\"preload\"/><link as=\"style\" href=\"/bbs/css/vendors~app.416084a4.css\" rel=\"preload\"/><link as=\"script\" href=\"/bbs/js/app.19f36e40.js\" rel=\"preload\"/><link as=\"script\" href=\"/bbs/js/npm.ant-design-vue.2e519280.js\" rel=\"preload\"/><link as=\"script\" href=\"/bbs/js/npm.ant-design.8f14f186.js\" rel=\"preload\"/><link as=\"script\" href=\"/bbs/js/npm.async-validator.ec08b791.js\" rel=\"preload\"/><link as=\"script\" href=\"/bbs/js/npm.axios.402f1223.js\" rel=\"preload\"/><link as=\"script\" href=\"/bbs/js/npm.babel-runtime.e601d377.js\" rel=\"preload\"/><link as=\"script\" href=\"/bbs/js/npm.babel.c7b57571.js\" rel=\"preload\"/><link as=\"script\" href=\"/bbs/js/npm.core-js.93e60c56.js\" rel=\"preload\"/><link as=\"script\" href=\"/bbs/js/npm.dom-align.504c077d.js\" rel=\"preload\"/><link as=\"script\" href=\"/bbs/js/npm.element-ui.1cff89b3.js\" rel=\"preload\"/><link as=\"script\" href=\"/bbs/js/npm.lodash.e0ff527f.js\" rel=\"preload\"/><link as=\"script\" href=\"/bbs/js/npm.moment.15ba6c06.js\" rel=\"preload\"/><link as=\"script\" href=\"/bbs/js/npm.resize-observer-polyfill.1884e205.js\" rel=\"preload\"/><link as=\"script\" href=\"/bbs/js/npm.tinycolor2.bee92b57.js\" rel=\"preload\"/><link as=\"script\" href=\"/bbs/js/npm.v-distpicker.a7956d92.js\" rel=\"preload\"/><link as=\"script\" href=\"/bbs/js/npm.vue-awesome-swiper.289ce039.js\" rel=\"preload\"/><link as=\"script\" href=\"/bbs/js/npm.vue-router.1e831801.js\" rel=\"preload\"/><link as=\"script\" href=\"/bbs/js/npm.vue.3dc1ab92.js\" rel=\"preload\"/><link as=\"script\" href=\"/bbs/js/npm.vuex.f51d0000.js\" rel=\"preload\"/><link as=\"script\" href=\"/bbs/js/npm.zhulong-common.1f4a504a.js\" rel=\"preload\"/><link as=\"script\" href=\"/bbs/js/npm.zl-imalert-common.b4b5c218.js\" rel=\"preload\"/><link as=\"script\" href=\"/bbs/js/runtime.e4d5ab89.js\" rel=\"preload\"/><link as=\"script\" href=\"/bbs/js/vendors~app.9999e49a.js\" rel=\"preload\"/><link href=\"/bbs/css/npm.ant-design-vue.ac429d1b.css\" rel=\"stylesheet\"/><link href=\"/bbs/css/npm.element-ui.84bb20f7.css\" rel=\"stylesheet\"/><link href=\"/bbs/css/npm.zhulong-common.43ec4045.css\" rel=\"stylesheet\"/><link href=\"/bbs/css/npm.zl-imalert-common.593a2b2c.css\" rel=\"stylesheet\"/><link href=\"/bbs/css/vendors~app.416084a4.css\" rel=\"stylesheet\"/><link href=\"/bbs/css/app.5aceb1dd.css\" rel=\"stylesheet\"/></head><body><script src=\"https://zhulong-lib.oss-cn-beijing.aliyuncs.com/js/seo.js\"></script><script src=\"//view.csslcloud.net/js/jquery-1.9.0.min.js\"></script><noscript><strong>We're sorry but doesn't work properly without JavaScript enabled. Please enable it to continue.</strong></noscript><div id=\"app\"></div><script src=\"/bbs/js/runtime.e4d5ab89.js\"></script><script src=\"/bbs/js/npm.babel.c7b57571.js\"></script><script src=\"/bbs/js/npm.core-js.93e60c56.js\"></script><script src=\"/bbs/js/npm.ant-design-vue.2e519280.js\"></script><script src=\"/bbs/js/npm.lodash.e0ff527f.js\"></script><script src=\"/bbs/js/npm.moment.15ba6c06.js\"></script><script src=\"/bbs/js/npm.babel-runtime.e601d377.js\"></script><script src=\"/bbs/js/npm.element-ui.1cff89b3.js\"></script><script src=\"/bbs/js/npm.axios.402f1223.js\"></script><script src=\"/bbs/js/npm.ant-design.8f14f186.js\"></script><script src=\"/bbs/js/npm.zhulong-common.1f4a504a.js\"></script><script src=\"/bbs/js/npm.zl-imalert-common.b4b5c218.js\"></script><script src=\"/bbs/js/npm.vue-awesome-swiper.289ce039.js\"></script><script src=\"/bbs/js/npm.async-validator.ec08b791.js\"></script><script src=\"/bbs/js/npm.dom-align.504c077d.js\"></script><script src=\"/bbs/js/npm.resize-observer-polyfill.1884e205.js\"></script><script src=\"/bbs/js/npm.tinycolor2.bee92b57.js\"></script><script src=\"/bbs/js/npm.v-distpicker.a7956d92.js\"></script><script src=\"/bbs/js/npm.vue-router.1e831801.js\"></script><script src=\"/bbs/js/npm.vue.3dc1ab92.js\"></script><script src=\"/bbs/js/npm.vuex.f51d0000.js\"></script><script src=\"/bbs/js/vendors~app.9999e49a.js\"></script><script src=\"/bbs/js/app.19f36e40.js\"></script></body></html><script>var __ZL__ = __ZL__ || []\n",
       "  __ZL__.appid = 1; // 20000为edu项目\n",
       "  (function () {\n",
       "    var h = document.createElement('script')\n",
       "    h.src = '//newoss.zhulong.com/ajax/_zlt.js?v=202104251148'\n",
       "    var s = document.getElementsByTagName('script')[0]\n",
       "    s.parentNode.insertBefore(h, s)\n",
       "  })()</script>"
      ]
     },
     "execution_count": 26,
     "metadata": {},
     "output_type": "execute_result"
    }
   ],
   "source": [
    "soup"
   ]
  },
  {
   "cell_type": "code",
   "execution_count": 27,
   "metadata": {},
   "outputs": [
    {
     "data": {
      "text/plain": [
       "[]"
      ]
     },
     "execution_count": 27,
     "metadata": {},
     "output_type": "execute_result"
    }
   ],
   "source": [
    "img_tags = soup.find_all('jpg')\n",
    "img_tags"
   ]
  },
  {
   "cell_type": "code",
   "execution_count": 1,
   "metadata": {},
   "outputs": [
    {
     "name": "stdout",
     "output_type": "stream",
     "text": [
      "[]\n"
     ]
    }
   ],
   "source": [
    "import requests\n",
    "from bs4 import BeautifulSoup\n",
    "\n",
    "def fetch_images(url):\n",
    "    response = requests.get(url)\n",
    "    soup = BeautifulSoup(response.content, 'html.parser')\n",
    "    images = soup.find_all('img')\n",
    "    image_urls = []\n",
    "    for image in images:\n",
    "        image_url = image['src']\n",
    "        image_urls.append(image_url)\n",
    "    return image_urls\n",
    "\n",
    "if __name__ == '__main__':\n",
    "    url = 'https://www.zhulong.com/bbs/d/30425377.html?tid=30425377'\n",
    "    image_urls = fetch_images(url)\n",
    "    print(image_urls)\n"
   ]
  },
  {
   "cell_type": "code",
   "execution_count": null,
   "metadata": {},
   "outputs": [],
   "source": []
  }
 ],
 "metadata": {
  "kernelspec": {
   "display_name": "OD",
   "language": "python",
   "name": "python3"
  },
  "language_info": {
   "codemirror_mode": {
    "name": "ipython",
    "version": 3
   },
   "file_extension": ".py",
   "mimetype": "text/x-python",
   "name": "python",
   "nbconvert_exporter": "python",
   "pygments_lexer": "ipython3",
   "version": "3.10.5"
  },
  "orig_nbformat": 4
 },
 "nbformat": 4,
 "nbformat_minor": 2
}
