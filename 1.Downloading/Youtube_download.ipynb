{
 "cells": [
  {
   "cell_type": "code",
   "execution_count": 9,
   "metadata": {},
   "outputs": [],
   "source": [
    "import yt_dlp\n",
    "import time\n",
    "import os\n",
    "from pyperclip import paste"
   ]
  },
  {
   "cell_type": "code",
   "execution_count": 2,
   "metadata": {},
   "outputs": [],
   "source": [
    "def download_video_with_retries(video_url, output_path='.', max_retries=5):\n",
    "    ydl_opts = {\n",
    "        'format': 'best',\n",
    "        'outtmpl': output_path + '/%(title)s.%(ext)s',\n",
    "        'noplaylist': True,\n",
    "    }\n",
    "    \n",
    "    attempt = 0\n",
    "    while attempt < max_retries:\n",
    "        try:\n",
    "            with yt_dlp.YoutubeDL(ydl_opts) as ydl:\n",
    "                ydl.download([video_url])\n",
    "                break  # If download succeeds, break out of the loop\n",
    "        except yt_dlp.utils.DownloadError as e:\n",
    "            attempt += 1\n",
    "            wait = 2 ** attempt  # Exponential backoff\n",
    "            print(f\"Download failed, retrying in {wait} seconds...\")\n",
    "            time.sleep(wait)\n",
    "    else:\n",
    "        print(\"Max retries reached, download failed.\")"
   ]
  },
  {
   "cell_type": "code",
   "execution_count": 15,
   "metadata": {},
   "outputs": [
    {
     "name": "stdout",
     "output_type": "stream",
     "text": [
      "[youtube] Extracting URL: https://youtu.be/29XCaqMbAro\n",
      "[youtube] 29XCaqMbAro: Downloading webpage\n",
      "[youtube] 29XCaqMbAro: Downloading ios player API JSON\n",
      "[youtube] 29XCaqMbAro: Downloading android player API JSON\n",
      "[youtube] 29XCaqMbAro: Downloading m3u8 information\n",
      "[info] 29XCaqMbAro: Downloading 1 format(s): 22\n",
      "[download] Destination: 打败其他GPTs制作者，必须学会GPTs action【GPTs进阶教程】GPTs Action full tutorial.mp4\n",
      "[download] 100% of   21.90MiB in 00:00:05 at 4.27MiB/s   \n"
     ]
    }
   ],
   "source": [
    "os.chdir('D:\\Temp\\youtube')\n",
    "# Replace 'YOUR_VIDEO_URL' with the actual URL of the YouTube video you want to download\n",
    "download_video_with_retries(paste())\n",
    "os.system('start .')"
   ]
  },
  {
   "cell_type": "code",
   "execution_count": 17,
   "metadata": {},
   "outputs": [
    {
     "data": {
      "text/plain": [
       "0"
      ]
     },
     "execution_count": 17,
     "metadata": {},
     "output_type": "execute_result"
    }
   ],
   "source": []
  },
  {
   "cell_type": "code",
   "execution_count": 11,
   "metadata": {},
   "outputs": [
    {
     "data": {
      "text/plain": [
       "'https://youtu.be/29XCaqMbAro'"
      ]
     },
     "execution_count": 11,
     "metadata": {},
     "output_type": "execute_result"
    }
   ],
   "source": [
    "paste()"
   ]
  },
  {
   "cell_type": "code",
   "execution_count": null,
   "metadata": {},
   "outputs": [],
   "source": []
  }
 ],
 "metadata": {
  "kernelspec": {
   "display_name": "OD",
   "language": "python",
   "name": "python3"
  },
  "language_info": {
   "codemirror_mode": {
    "name": "ipython",
    "version": 3
   },
   "file_extension": ".py",
   "mimetype": "text/x-python",
   "name": "python",
   "nbconvert_exporter": "python",
   "pygments_lexer": "ipython3",
   "version": "3.10.5"
  }
 },
 "nbformat": 4,
 "nbformat_minor": 2
}
