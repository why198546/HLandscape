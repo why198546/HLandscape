{
 "cells": [
  {
   "cell_type": "code",
   "execution_count": 17,
   "metadata": {},
   "outputs": [],
   "source": [
    "import yt_dlp\n",
    "import time\n",
    "import os"
   ]
  },
  {
   "cell_type": "code",
   "execution_count": 18,
   "metadata": {},
   "outputs": [],
   "source": [
    "def download_video_with_retries(video_url, output_path='.', max_retries=5):\n",
    "    ydl_opts = {\n",
    "        'format': 'best',\n",
    "        'outtmpl': output_path + '/%(title)s.%(ext)s',\n",
    "        'noplaylist': True,\n",
    "    }\n",
    "    \n",
    "    attempt = 0\n",
    "    while attempt < max_retries:\n",
    "        try:\n",
    "            with yt_dlp.YoutubeDL(ydl_opts) as ydl:\n",
    "                ydl.download([video_url])\n",
    "                break  # If download succeeds, break out of the loop\n",
    "        except yt_dlp.utils.DownloadError as e:\n",
    "            attempt += 1\n",
    "            wait = 2 ** attempt  # Exponential backoff\n",
    "            print(f\"Download failed, retrying in {wait} seconds...\")\n",
    "            time.sleep(wait)\n",
    "    else:\n",
    "        print(\"Max retries reached, download failed.\")"
   ]
  },
  {
   "cell_type": "code",
   "execution_count": 19,
   "metadata": {},
   "outputs": [
    {
     "name": "stdout",
     "output_type": "stream",
     "text": [
      "[youtube] Extracting URL: https://youtu.be/kmjgOtOlzLE\n",
      "[youtube] kmjgOtOlzLE: Downloading webpage\n",
      "[youtube] kmjgOtOlzLE: Downloading ios player API JSON\n",
      "[youtube] kmjgOtOlzLE: Downloading android player API JSON\n",
      "[youtube] kmjgOtOlzLE: Downloading m3u8 information\n"
     ]
    },
    {
     "name": "stderr",
     "output_type": "stream",
     "text": [
      "WARNING: [youtube] Failed to download m3u8 information: [WinError 10054] 远程主机强迫关闭了一个现有的连接。\n"
     ]
    },
    {
     "name": "stdout",
     "output_type": "stream",
     "text": [
      "[info] kmjgOtOlzLE: Downloading 1 format(s): 22\n",
      "[download] Resuming download at byte 30428958\n",
      "[download] Destination: 在国外惹老婆生气，她直接背包走了！这下事情搞大了！.mp4\n",
      "[download]  46.5% of  125.69MiB at   12.77MiB/s ETA 00:05   "
     ]
    },
    {
     "name": "stderr",
     "output_type": "stream",
     "text": [
      "[download] Got error: [WinError 10054] 远程主机强迫关闭了一个现有的连接。\n"
     ]
    },
    {
     "name": "stdout",
     "output_type": "stream",
     "text": [
      "Download failed, retrying in 2 seconds...\n",
      "[youtube] Extracting URL: https://youtu.be/kmjgOtOlzLE\n",
      "[youtube] kmjgOtOlzLE: Downloading webpage\n",
      "[youtube] kmjgOtOlzLE: Downloading ios player API JSON\n",
      "[youtube] kmjgOtOlzLE: Downloading android player API JSON\n",
      "[youtube] kmjgOtOlzLE: Downloading m3u8 information\n",
      "[info] kmjgOtOlzLE: Downloading 1 format(s): 22\n",
      "[download] Resuming download at byte 61232693\n",
      "[download] Destination: 在国外惹老婆生气，她直接背包走了！这下事情搞大了！.mp4\n",
      "[download]  92.9% of  125.69MiB at   15.52MiB/s ETA 00:00"
     ]
    },
    {
     "name": "stderr",
     "output_type": "stream",
     "text": [
      "[download] Got error: [WinError 10054] 远程主机强迫关闭了一个现有的连接。\n"
     ]
    },
    {
     "name": "stdout",
     "output_type": "stream",
     "text": [
      "Download failed, retrying in 4 seconds...\n",
      "[youtube] Extracting URL: https://youtu.be/kmjgOtOlzLE\n",
      "[youtube] kmjgOtOlzLE: Downloading webpage\n"
     ]
    },
    {
     "name": "stderr",
     "output_type": "stream",
     "text": [
      "WARNING: [youtube] Unable to download webpage: [WinError 10054] 远程主机强迫关闭了一个现有的连接。\n"
     ]
    },
    {
     "name": "stdout",
     "output_type": "stream",
     "text": [
      "[youtube] kmjgOtOlzLE: Downloading ios player API JSON\n",
      "[youtube] kmjgOtOlzLE: Downloading android player API JSON\n",
      "[youtube] kmjgOtOlzLE: Downloading iframe API JS\n",
      "[youtube] kmjgOtOlzLE: Downloading player 9d15588c\n",
      "[youtube] kmjgOtOlzLE: Downloading web player API JSON\n"
     ]
    },
    {
     "name": "stderr",
     "output_type": "stream",
     "text": [
      "WARNING: [youtube] [WinError 10054] 远程主机强迫关闭了一个现有的连接。. Retrying (1/3)...\n"
     ]
    },
    {
     "name": "stdout",
     "output_type": "stream",
     "text": [
      "[youtube] kmjgOtOlzLE: Downloading web player API JSON\n"
     ]
    },
    {
     "name": "stderr",
     "output_type": "stream",
     "text": [
      "WARNING: [youtube] [WinError 10054] 远程主机强迫关闭了一个现有的连接。. Retrying (2/3)...\n"
     ]
    },
    {
     "name": "stdout",
     "output_type": "stream",
     "text": [
      "[youtube] kmjgOtOlzLE: Downloading web player API JSON\n",
      "[youtube] kmjgOtOlzLE: Downloading m3u8 information\n",
      "[youtube] kmjgOtOlzLE: Downloading initial data API JSON\n",
      "[info] kmjgOtOlzLE: Downloading 1 format(s): 22\n",
      "[download] Resuming download at byte 122404684\n",
      "[download] Destination: 在国外惹老婆生气，她直接背包走了！这下事情搞大了！.mp4\n",
      "[download] 100.0% of  125.69MiB at   12.39MiB/s ETA 00:00[download] Unable to rename file: [WinError 32] 另一个程序正在使用此文件，进程无法访问。: '在国外惹老婆生气，她直接背包走了！这下事情搞大了！.mp4.part' -> '在国外惹老婆生气，她直接背包走了！这下事情搞大了！.mp4'. Retrying (1/3)...\n",
      "[download] Unable to rename file: [WinError 32] 另一个程序正在使用此文件，进程无法访问。: '在国外惹老婆生气，她直接背包走了！这下事情搞大了！.mp4.part' -> '在国外惹老婆生气，她直接背包走了！这下事情搞大了！.mp4'. Retrying (2/3)...\n",
      "[download] Unable to rename file: [WinError 32] 另一个程序正在使用此文件，进程无法访问。: '在国外惹老婆生气，她直接背包走了！这下事情搞大了！.mp4.part' -> '在国外惹老婆生气，她直接背包走了！这下事情搞大了！.mp4'. Retrying (3/3)...\n"
     ]
    },
    {
     "name": "stderr",
     "output_type": "stream",
     "text": [
      "ERROR: Unable to rename file: [WinError 32] 另一个程序正在使用此文件，进程无法访问。: '在国外惹老婆生气，她直接背包走了！这下事情搞大了！.mp4.part' -> '在国外惹老婆生气，她直接背包走了！这下事情搞大了！.mp4'. Giving up after 3 retries\n"
     ]
    },
    {
     "name": "stdout",
     "output_type": "stream",
     "text": [
      "Download failed, retrying in 8 seconds...\n",
      "[youtube] Extracting URL: https://youtu.be/kmjgOtOlzLE\n",
      "[youtube] kmjgOtOlzLE: Downloading webpage\n",
      "[youtube] kmjgOtOlzLE: Downloading ios player API JSON\n",
      "[youtube] kmjgOtOlzLE: Downloading android player API JSON\n",
      "[youtube] kmjgOtOlzLE: Downloading m3u8 information\n",
      "[info] kmjgOtOlzLE: Downloading 1 format(s): 22\n",
      "[download] Resuming download at byte 131800140\n"
     ]
    },
    {
     "name": "stderr",
     "output_type": "stream",
     "text": [
      "ERROR: unable to download video data: HTTP Error 416: Requested range not satisfiable\n"
     ]
    },
    {
     "name": "stdout",
     "output_type": "stream",
     "text": [
      "Download failed, retrying in 16 seconds...\n",
      "[youtube] Extracting URL: https://youtu.be/kmjgOtOlzLE\n",
      "[youtube] kmjgOtOlzLE: Downloading webpage\n"
     ]
    },
    {
     "name": "stderr",
     "output_type": "stream",
     "text": [
      "WARNING: [youtube] Unable to download webpage: [WinError 10054] 远程主机强迫关闭了一个现有的连接。\n"
     ]
    },
    {
     "name": "stdout",
     "output_type": "stream",
     "text": [
      "[youtube] kmjgOtOlzLE: Downloading ios player API JSON\n",
      "[youtube] kmjgOtOlzLE: Downloading android player API JSON\n",
      "[youtube] kmjgOtOlzLE: Downloading iframe API JS\n",
      "[youtube] kmjgOtOlzLE: Downloading player 9d15588c\n"
     ]
    },
    {
     "name": "stderr",
     "output_type": "stream",
     "text": [
      "WARNING: [youtube] Download of https://www.youtube.com/s/player/9d15588c/player_ias.vflset/en_US/base.js failed: [WinError 10054] 远程主机强迫关闭了一个现有的连接。\n"
     ]
    },
    {
     "name": "stdout",
     "output_type": "stream",
     "text": [
      "[youtube] kmjgOtOlzLE: Downloading web player API JSON\n",
      "[youtube] kmjgOtOlzLE: Downloading m3u8 information\n",
      "[youtube] kmjgOtOlzLE: Downloading initial data API JSON\n",
      "[info] kmjgOtOlzLE: Downloading 1 format(s): 22\n",
      "[download] Resuming download at byte 131800140\n"
     ]
    },
    {
     "name": "stderr",
     "output_type": "stream",
     "text": [
      "ERROR: unable to download video data: HTTP Error 416: Requested range not satisfiable\n"
     ]
    },
    {
     "name": "stdout",
     "output_type": "stream",
     "text": [
      "Download failed, retrying in 32 seconds...\n"
     ]
    }
   ],
   "source": [
    "\n",
    "# Replace 'YOUR_VIDEO_URL' with the actual URL of the YouTube video you want to download\n",
    "download_video_with_retries('https://youtu.be/kmjgOtOlzLE')"
   ]
  },
  {
   "cell_type": "code",
   "execution_count": 5,
   "metadata": {},
   "outputs": [
    {
     "data": {
      "text/plain": [
       "0"
      ]
     },
     "execution_count": 5,
     "metadata": {},
     "output_type": "execute_result"
    }
   ],
   "source": [
    "os.system('start .')"
   ]
  },
  {
   "cell_type": "code",
   "execution_count": null,
   "metadata": {},
   "outputs": [],
   "source": []
  }
 ],
 "metadata": {
  "kernelspec": {
   "display_name": "OD",
   "language": "python",
   "name": "python3"
  },
  "language_info": {
   "codemirror_mode": {
    "name": "ipython",
    "version": 3
   },
   "file_extension": ".py",
   "mimetype": "text/x-python",
   "name": "python",
   "nbconvert_exporter": "python",
   "pygments_lexer": "ipython3",
   "version": "3.10.5"
  }
 },
 "nbformat": 4,
 "nbformat_minor": 2
}
