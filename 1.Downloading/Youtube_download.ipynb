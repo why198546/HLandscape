{
 "cells": [
  {
   "cell_type": "code",
   "execution_count": 1,
   "metadata": {},
   "outputs": [],
   "source": [
    "import yt_dlp\n",
    "import time\n",
    "import os"
   ]
  },
  {
   "cell_type": "code",
   "execution_count": 2,
   "metadata": {},
   "outputs": [],
   "source": [
    "def download_video_with_retries(video_url, output_path='.', max_retries=5):\n",
    "    ydl_opts = {\n",
    "        'format': 'best',\n",
    "        'outtmpl': output_path + '/%(title)s.%(ext)s',\n",
    "        'noplaylist': True,\n",
    "    }\n",
    "    \n",
    "    attempt = 0\n",
    "    while attempt < max_retries:\n",
    "        try:\n",
    "            with yt_dlp.YoutubeDL(ydl_opts) as ydl:\n",
    "                ydl.download([video_url])\n",
    "                break  # If download succeeds, break out of the loop\n",
    "        except yt_dlp.utils.DownloadError as e:\n",
    "            attempt += 1\n",
    "            wait = 2 ** attempt  # Exponential backoff\n",
    "            print(f\"Download failed, retrying in {wait} seconds...\")\n",
    "            time.sleep(wait)\n",
    "    else:\n",
    "        print(\"Max retries reached, download failed.\")"
   ]
  },
  {
   "cell_type": "code",
   "execution_count": 3,
   "metadata": {},
   "outputs": [
    {
     "name": "stdout",
     "output_type": "stream",
     "text": [
      "[youtube] Extracting URL: https://www.youtube.com/shorts/mPTHNtjySYY?feature=share\n",
      "[youtube] mPTHNtjySYY: Downloading webpage\n",
      "[youtube] mPTHNtjySYY: Downloading ios player API JSON\n",
      "[youtube] mPTHNtjySYY: Downloading android player API JSON\n",
      "[youtube] mPTHNtjySYY: Downloading m3u8 information\n",
      "[info] mPTHNtjySYY: Downloading 1 format(s): 22\n",
      "[download] Destination: 這才是最有效的學習方式 (中英字幕).mp4\n",
      "[download] 100% of    5.71MiB in 00:00:05 at 1.05MiB/s     \n"
     ]
    }
   ],
   "source": [
    "\n",
    "# Replace 'YOUR_VIDEO_URL' with the actual URL of the YouTube video you want to download\n",
    "download_video_with_retries('https://www.youtube.com/shorts/mPTHNtjySYY?feature=share')"
   ]
  },
  {
   "cell_type": "code",
   "execution_count": 4,
   "metadata": {},
   "outputs": [
    {
     "data": {
      "text/plain": [
       "0"
      ]
     },
     "execution_count": 4,
     "metadata": {},
     "output_type": "execute_result"
    },
    {
     "ename": "",
     "evalue": "",
     "output_type": "error",
     "traceback": [
      "\u001b[1;31mThe Kernel crashed while executing code in the the current cell or a previous cell. Please review the code in the cell(s) to identify a possible cause of the failure. Click <a href='https://aka.ms/vscodeJupyterKernelCrash'>here</a> for more info. View Jupyter <a href='command:jupyter.viewOutput'>log</a> for further details."
     ]
    }
   ],
   "source": [
    "os.system('start .')"
   ]
  },
  {
   "cell_type": "code",
   "execution_count": null,
   "metadata": {},
   "outputs": [],
   "source": []
  }
 ],
 "metadata": {
  "kernelspec": {
   "display_name": "OD",
   "language": "python",
   "name": "python3"
  },
  "language_info": {
   "codemirror_mode": {
    "name": "ipython",
    "version": 3
   },
   "file_extension": ".py",
   "mimetype": "text/x-python",
   "name": "python",
   "nbconvert_exporter": "python",
   "pygments_lexer": "ipython3",
   "version": "3.10.5"
  }
 },
 "nbformat": 4,
 "nbformat_minor": 2
}
