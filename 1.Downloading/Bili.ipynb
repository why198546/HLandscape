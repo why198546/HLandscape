{
 "cells": [
  {
   "cell_type": "code",
   "execution_count": 1,
   "metadata": {},
   "outputs": [],
   "source": [
    "import requests\n",
    "import re\n",
    "import json \n",
    "import time\n",
    "from moviepy import *\n",
    "from moviepy.editor import *\n",
    "import pyperclip\n",
    "# import PySimpleGUI as sg"
   ]
  },
  {
   "cell_type": "code",
   "execution_count": 5,
   "metadata": {},
   "outputs": [],
   "source": [
    "# url = 'https://www.bilibili.com/video/BV1BU4y1H7E3'\n",
    "def get_file_info(url):\n",
    "    headers = {\n",
    "        \"User-Agent\": \"Mozilla/5.0 (Windows NT 10.0; Win64; x64) AppleWebKit/537.36 (KHTML, like Gecko) Chrome/87.0.4280.66 Safari/537.36\",\n",
    "        \"referer\": \"https://www.bilibili.com\"\n",
    "        }\n",
    "    \n",
    "    resp = requests.get(url, headers=headers)\n",
    "    palyinfo = re.findall(r'<script>window.__playinfo__=(.*?)</script>', resp.text)[0]\n",
    "    palyinfo_data = json.loads(palyinfo)\n",
    "    \n",
    "    title = re.findall(r'<h1 title=\"(.*?)\" class=\"video-title\">', resp.text)[0]\n",
    "    \n",
    "    video_url = palyinfo_data['data']['dash']['video'][0]['base_url']\n",
    "    audio_url = palyinfo_data['data']['dash']['audio'][0]['base_url']\n",
    "    \n",
    "    return title, video_url, audio_url\n",
    "\n",
    "def down_file(title, file_url, file_type):\n",
    "    headers = {\n",
    "        \"User-Agent\": \"Mozilla/5.0 (Windows NT 10.0; Win64; x64) AppleWebKit/537.36 (KHTML, like Gecko) Chrome/87.0.4280.66 Safari/537.36\",\n",
    "        \"referer\": \"https://www.bilibili.com\"\n",
    "        }\n",
    "    resp = requests.get(url = file_url, headers=headers)\n",
    "    print(resp.status_code)\n",
    "    \n",
    "    print(f'文件名称：{title}')\n",
    "    # 设置单次写入数据的块大小\n",
    "    chunk_size = 1024\n",
    "    # 获取文件大小\n",
    "    file_size = int(resp.headers['content-length'])\n",
    "    # 用于记录已经下载的文件大小\n",
    "    done_size = 0\n",
    "    # 将文件大小转化为MB\n",
    "    file_size_MB = file_size / 1024 / 1024\n",
    "    print(f'文件大小：{file_size_MB:0.2f} MB')\n",
    "    start_time = time.time()\n",
    "    with open(title + '.' + file_type, mode='wb') as f:\n",
    "        for chunk in resp.iter_content(chunk_size=chunk_size):\n",
    "            f.write(chunk)\n",
    "            done_size += len(chunk)\n",
    "            print(f'\\r下载进度：{done_size/file_size*100:0.2f}%',end='')\n",
    "            # print(f'已下载{done_size/file_size*100:0.2f}%')\n",
    "    end_time = time.time()\n",
    "    cost_time = end_time-start_time\n",
    "    print(f'累计耗时：{cost_time:0.2f} 秒')\n",
    "    print(f'下载速度：{file_size_MB/cost_time:0.2f}M/s')\n",
    "\n",
    "def merge(title):\n",
    "    video_path = title + '.mp4'\n",
    "    audio_path = title + '.mp3'\n",
    "    # 提取音轨\n",
    "    audio = AudioFileClip(audio_path)\n",
    "    # 读入视频\n",
    "    video = VideoFileClip(video_path)\n",
    "    # 将音轨合并到视频中\n",
    "    video = video.set_audio(audio)\n",
    "    # 输出\n",
    "    video.write_videofile(f\"{title}(含音频).mp4\")"
   ]
  },
  {
   "cell_type": "code",
   "execution_count": 6,
   "metadata": {},
   "outputs": [
    {
     "ename": "InvalidSchema",
     "evalue": "No connection adapters were found for 'try:\\r\\n        title = re.findall(r\\'<h1 title=\"(.*?)\" class=\"video-title\">\\', resp.text)[0]\\r\\n    except IndexError:\\r\\n        title = None'",
     "output_type": "error",
     "traceback": [
      "\u001b[1;31m---------------------------------------------------------------------------\u001b[0m",
      "\u001b[1;31mInvalidSchema\u001b[0m                             Traceback (most recent call last)",
      "\u001b[1;32md:\\HLandscape\\1.Downloading\\Bili.ipynb Cell 3\u001b[0m line \u001b[0;36m4\n\u001b[0;32m      <a href='vscode-notebook-cell:/d%3A/HLandscape/1.Downloading/Bili.ipynb#W2sZmlsZQ%3D%3D?line=1'>2</a>\u001b[0m os\u001b[39m.\u001b[39mchdir(\u001b[39m'\u001b[39m\u001b[39mD:\u001b[39m\u001b[39m\\\u001b[39m\u001b[39mTemp\u001b[39m\u001b[39m\\\u001b[39m\u001b[39mBili\u001b[39m\u001b[39m'\u001b[39m)\n\u001b[0;32m      <a href='vscode-notebook-cell:/d%3A/HLandscape/1.Downloading/Bili.ipynb#W2sZmlsZQ%3D%3D?line=2'>3</a>\u001b[0m url \u001b[39m=\u001b[39m pyperclip\u001b[39m.\u001b[39mpaste()\n\u001b[1;32m----> <a href='vscode-notebook-cell:/d%3A/HLandscape/1.Downloading/Bili.ipynb#W2sZmlsZQ%3D%3D?line=3'>4</a>\u001b[0m title, video_url, audio_url \u001b[39m=\u001b[39m get_file_info(url)\n\u001b[0;32m      <a href='vscode-notebook-cell:/d%3A/HLandscape/1.Downloading/Bili.ipynb#W2sZmlsZQ%3D%3D?line=4'>5</a>\u001b[0m down_file(title, video_url, \u001b[39m'\u001b[39m\u001b[39mmp4\u001b[39m\u001b[39m'\u001b[39m)\n\u001b[0;32m      <a href='vscode-notebook-cell:/d%3A/HLandscape/1.Downloading/Bili.ipynb#W2sZmlsZQ%3D%3D?line=5'>6</a>\u001b[0m down_file(title, audio_url, \u001b[39m'\u001b[39m\u001b[39mmp3\u001b[39m\u001b[39m'\u001b[39m)   \n",
      "\u001b[1;32md:\\HLandscape\\1.Downloading\\Bili.ipynb Cell 3\u001b[0m line \u001b[0;36m8\n\u001b[0;32m      <a href='vscode-notebook-cell:/d%3A/HLandscape/1.Downloading/Bili.ipynb#W2sZmlsZQ%3D%3D?line=1'>2</a>\u001b[0m \u001b[39mdef\u001b[39;00m \u001b[39mget_file_info\u001b[39m(url):\n\u001b[0;32m      <a href='vscode-notebook-cell:/d%3A/HLandscape/1.Downloading/Bili.ipynb#W2sZmlsZQ%3D%3D?line=2'>3</a>\u001b[0m     headers \u001b[39m=\u001b[39m {\n\u001b[0;32m      <a href='vscode-notebook-cell:/d%3A/HLandscape/1.Downloading/Bili.ipynb#W2sZmlsZQ%3D%3D?line=3'>4</a>\u001b[0m         \u001b[39m\"\u001b[39m\u001b[39mUser-Agent\u001b[39m\u001b[39m\"\u001b[39m: \u001b[39m\"\u001b[39m\u001b[39mMozilla/5.0 (Windows NT 10.0; Win64; x64) AppleWebKit/537.36 (KHTML, like Gecko) Chrome/87.0.4280.66 Safari/537.36\u001b[39m\u001b[39m\"\u001b[39m,\n\u001b[0;32m      <a href='vscode-notebook-cell:/d%3A/HLandscape/1.Downloading/Bili.ipynb#W2sZmlsZQ%3D%3D?line=4'>5</a>\u001b[0m         \u001b[39m\"\u001b[39m\u001b[39mreferer\u001b[39m\u001b[39m\"\u001b[39m: \u001b[39m\"\u001b[39m\u001b[39mhttps://www.bilibili.com\u001b[39m\u001b[39m\"\u001b[39m\n\u001b[0;32m      <a href='vscode-notebook-cell:/d%3A/HLandscape/1.Downloading/Bili.ipynb#W2sZmlsZQ%3D%3D?line=5'>6</a>\u001b[0m         }\n\u001b[1;32m----> <a href='vscode-notebook-cell:/d%3A/HLandscape/1.Downloading/Bili.ipynb#W2sZmlsZQ%3D%3D?line=7'>8</a>\u001b[0m     resp \u001b[39m=\u001b[39m requests\u001b[39m.\u001b[39;49mget(url, headers\u001b[39m=\u001b[39;49mheaders)\n\u001b[0;32m      <a href='vscode-notebook-cell:/d%3A/HLandscape/1.Downloading/Bili.ipynb#W2sZmlsZQ%3D%3D?line=8'>9</a>\u001b[0m     palyinfo \u001b[39m=\u001b[39m re\u001b[39m.\u001b[39mfindall(\u001b[39mr\u001b[39m\u001b[39m'\u001b[39m\u001b[39m<script>window.__playinfo__=(.*?)</script>\u001b[39m\u001b[39m'\u001b[39m, resp\u001b[39m.\u001b[39mtext)[\u001b[39m0\u001b[39m]\n\u001b[0;32m     <a href='vscode-notebook-cell:/d%3A/HLandscape/1.Downloading/Bili.ipynb#W2sZmlsZQ%3D%3D?line=9'>10</a>\u001b[0m     palyinfo_data \u001b[39m=\u001b[39m json\u001b[39m.\u001b[39mloads(palyinfo)\n",
      "File \u001b[1;32md:\\HLandscape\\.venv\\lib\\site-packages\\requests\\api.py:73\u001b[0m, in \u001b[0;36mget\u001b[1;34m(url, params, **kwargs)\u001b[0m\n\u001b[0;32m     62\u001b[0m \u001b[39mdef\u001b[39;00m \u001b[39mget\u001b[39m(url, params\u001b[39m=\u001b[39m\u001b[39mNone\u001b[39;00m, \u001b[39m*\u001b[39m\u001b[39m*\u001b[39mkwargs):\n\u001b[0;32m     63\u001b[0m \u001b[39m    \u001b[39m\u001b[39mr\u001b[39m\u001b[39m\"\"\"Sends a GET request.\u001b[39;00m\n\u001b[0;32m     64\u001b[0m \n\u001b[0;32m     65\u001b[0m \u001b[39m    :param url: URL for the new :class:`Request` object.\u001b[39;00m\n\u001b[1;32m   (...)\u001b[0m\n\u001b[0;32m     70\u001b[0m \u001b[39m    :rtype: requests.Response\u001b[39;00m\n\u001b[0;32m     71\u001b[0m \u001b[39m    \"\"\"\u001b[39;00m\n\u001b[1;32m---> 73\u001b[0m     \u001b[39mreturn\u001b[39;00m request(\u001b[39m\"\u001b[39m\u001b[39mget\u001b[39m\u001b[39m\"\u001b[39m, url, params\u001b[39m=\u001b[39mparams, \u001b[39m*\u001b[39m\u001b[39m*\u001b[39mkwargs)\n",
      "File \u001b[1;32md:\\HLandscape\\.venv\\lib\\site-packages\\requests\\api.py:59\u001b[0m, in \u001b[0;36mrequest\u001b[1;34m(method, url, **kwargs)\u001b[0m\n\u001b[0;32m     55\u001b[0m \u001b[39m# By using the 'with' statement we are sure the session is closed, thus we\u001b[39;00m\n\u001b[0;32m     56\u001b[0m \u001b[39m# avoid leaving sockets open which can trigger a ResourceWarning in some\u001b[39;00m\n\u001b[0;32m     57\u001b[0m \u001b[39m# cases, and look like a memory leak in others.\u001b[39;00m\n\u001b[0;32m     58\u001b[0m \u001b[39mwith\u001b[39;00m sessions\u001b[39m.\u001b[39mSession() \u001b[39mas\u001b[39;00m session:\n\u001b[1;32m---> 59\u001b[0m     \u001b[39mreturn\u001b[39;00m session\u001b[39m.\u001b[39mrequest(method\u001b[39m=\u001b[39mmethod, url\u001b[39m=\u001b[39murl, \u001b[39m*\u001b[39m\u001b[39m*\u001b[39mkwargs)\n",
      "File \u001b[1;32md:\\HLandscape\\.venv\\lib\\site-packages\\requests\\sessions.py:589\u001b[0m, in \u001b[0;36mSession.request\u001b[1;34m(self, method, url, params, data, headers, cookies, files, auth, timeout, allow_redirects, proxies, hooks, stream, verify, cert, json)\u001b[0m\n\u001b[0;32m    584\u001b[0m send_kwargs \u001b[39m=\u001b[39m {\n\u001b[0;32m    585\u001b[0m     \u001b[39m\"\u001b[39m\u001b[39mtimeout\u001b[39m\u001b[39m\"\u001b[39m: timeout,\n\u001b[0;32m    586\u001b[0m     \u001b[39m\"\u001b[39m\u001b[39mallow_redirects\u001b[39m\u001b[39m\"\u001b[39m: allow_redirects,\n\u001b[0;32m    587\u001b[0m }\n\u001b[0;32m    588\u001b[0m send_kwargs\u001b[39m.\u001b[39mupdate(settings)\n\u001b[1;32m--> 589\u001b[0m resp \u001b[39m=\u001b[39m \u001b[39mself\u001b[39m\u001b[39m.\u001b[39msend(prep, \u001b[39m*\u001b[39m\u001b[39m*\u001b[39msend_kwargs)\n\u001b[0;32m    591\u001b[0m \u001b[39mreturn\u001b[39;00m resp\n",
      "File \u001b[1;32md:\\HLandscape\\.venv\\lib\\site-packages\\requests\\sessions.py:697\u001b[0m, in \u001b[0;36mSession.send\u001b[1;34m(self, request, **kwargs)\u001b[0m\n\u001b[0;32m    694\u001b[0m hooks \u001b[39m=\u001b[39m request\u001b[39m.\u001b[39mhooks\n\u001b[0;32m    696\u001b[0m \u001b[39m# Get the appropriate adapter to use\u001b[39;00m\n\u001b[1;32m--> 697\u001b[0m adapter \u001b[39m=\u001b[39m \u001b[39mself\u001b[39;49m\u001b[39m.\u001b[39;49mget_adapter(url\u001b[39m=\u001b[39;49mrequest\u001b[39m.\u001b[39;49murl)\n\u001b[0;32m    699\u001b[0m \u001b[39m# Start time (approximately) of the request\u001b[39;00m\n\u001b[0;32m    700\u001b[0m start \u001b[39m=\u001b[39m preferred_clock()\n",
      "File \u001b[1;32md:\\HLandscape\\.venv\\lib\\site-packages\\requests\\sessions.py:794\u001b[0m, in \u001b[0;36mSession.get_adapter\u001b[1;34m(self, url)\u001b[0m\n\u001b[0;32m    791\u001b[0m         \u001b[39mreturn\u001b[39;00m adapter\n\u001b[0;32m    793\u001b[0m \u001b[39m# Nothing matches :-/\u001b[39;00m\n\u001b[1;32m--> 794\u001b[0m \u001b[39mraise\u001b[39;00m InvalidSchema(\u001b[39mf\u001b[39m\u001b[39m\"\u001b[39m\u001b[39mNo connection adapters were found for \u001b[39m\u001b[39m{\u001b[39;00murl\u001b[39m!r}\u001b[39;00m\u001b[39m\"\u001b[39m)\n",
      "\u001b[1;31mInvalidSchema\u001b[0m: No connection adapters were found for 'try:\\r\\n        title = re.findall(r\\'<h1 title=\"(.*?)\" class=\"video-title\">\\', resp.text)[0]\\r\\n    except IndexError:\\r\\n        title = None'"
     ]
    }
   ],
   "source": [
    "\n",
    "if __name__ == '__main__':\n",
    "    os.chdir('D:\\Temp\\Bili')\n",
    "    url = pyperclip.paste()\n",
    "    title, video_url, audio_url = get_file_info(url)\n",
    "    down_file(title, video_url, 'mp4')\n",
    "    down_file(title, audio_url, 'mp3')   \n",
    "    merge(title)\n",
    "    print('有音频视频处理完成')\n",
    "\n",
    "# # 主题设置\n",
    "# sg.theme('SystemDefaultForReal')\n",
    "\n",
    "# # 布局设置\n",
    "# layout = [[sg.Text('选择B站视频地址:',font=(\"微软雅黑\", 12)),sg.InputText(key='url',size=(50,1),font=(\"微软雅黑\", 10),enable_events=True) ],\n",
    "#           # [sg.Output(size=(66, 8),font=(\"微软雅黑\", 10))],  \n",
    "#            [sg.Button('开始下载',font=(\"微软雅黑\", 10),button_color ='Orange'),\n",
    "#            sg.Button('关闭程序',font=(\"微软雅黑\", 10),button_color ='red'),]\n",
    "#           ]      \n",
    "\n",
    "# # 创建窗口\n",
    "# window = sg.Window('B站视频下载工具，作者@微信公众号：可以叫我才哥', layout,font=(\"微软雅黑\", 12),default_element_size=(50,1))    \n",
    "\n",
    "# # 事件循环\n",
    "# while True:\n",
    "#     event, values = window.read()\n",
    "#     if event in (None, '关闭程序'):\n",
    "#         break\n",
    "#     if event == '开始下载':\n",
    "#         url = values['url']\n",
    "#         print('获取视频信息')\n",
    "#         title, video_url, audio_url = get_file_info(url)\n",
    "#         print('下载视频资源')\n",
    "#         down_file(title, video_url, 'mp4')\n",
    "#         print('下载音频资源')\n",
    "#         down_file(title, audio_url, 'mp3')   \n",
    "#         print('合并视频与音频')\n",
    "#         merge(title)\n",
    "#         print('有音频视频处理完成')\n",
    "# window.close()        "
   ]
  },
  {
   "cell_type": "code",
   "execution_count": 4,
   "metadata": {},
   "outputs": [
    {
     "data": {
      "text/plain": [
       "'https://www.bilibili.com/video/BV1vC4y137Ma'"
      ]
     },
     "execution_count": 4,
     "metadata": {},
     "output_type": "execute_result"
    }
   ],
   "source": [
    "url"
   ]
  },
  {
   "cell_type": "code",
   "execution_count": null,
   "metadata": {},
   "outputs": [],
   "source": []
  }
 ],
 "metadata": {
  "kernelspec": {
   "display_name": ".venv",
   "language": "python",
   "name": "python3"
  },
  "language_info": {
   "codemirror_mode": {
    "name": "ipython",
    "version": 3
   },
   "file_extension": ".py",
   "mimetype": "text/x-python",
   "name": "python",
   "nbconvert_exporter": "python",
   "pygments_lexer": "ipython3",
   "version": "3.10.5"
  }
 },
 "nbformat": 4,
 "nbformat_minor": 2
}
